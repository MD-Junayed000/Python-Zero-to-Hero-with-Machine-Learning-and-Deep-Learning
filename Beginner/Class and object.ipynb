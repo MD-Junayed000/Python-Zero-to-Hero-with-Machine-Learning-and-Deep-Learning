{
 "cells": [
  {
   "cell_type": "markdown",
   "id": "6254d1b0-23f9-45a8-8491-948bfe49f5c1",
   "metadata": {},
   "source": [
    "# create an instance of a class"
   ]
  },
  {
   "cell_type": "code",
   "execution_count": null,
   "id": "390da445-6c86-4d48-80fd-3e588a9b35fc",
   "metadata": {},
   "outputs": [],
   "source": [
    "class human:\n",
    "    def __init__(self,n,o ):\n",
    "        self.name=n\n",
    "        self.occupation=o\n",
    "\n",
    "    def work(self):\n",
    "        if self.occupation=='tennis':\n",
    "           print(self.name,'play tennis')\n",
    "        elif  self.occupation=='actor':\n",
    "               print(self.name,'shoots flim')\n",
    "\n",
    "    def speak(self):\n",
    "         print(self.name,'says how are you?')\n",
    "\n",
    "tom=human(input('enter name:'),input('occupation'))\n",
    "tom.work()\n",
    "tom.speak()\n",
    "maria=human('maria','tennis')\n",
    "maria.speak()\n",
    "maria.work()"
   ]
  },
  {
   "cell_type": "markdown",
   "id": "124251e1-f641-4c6e-ad0d-986d1ddbafd4",
   "metadata": {},
   "source": [
    "# Inheritance"
   ]
  },
  {
   "cell_type": "code",
   "execution_count": 70,
   "id": "77f3ddad-cf3c-48ba-8dc4-f7be867b0eca",
   "metadata": {},
   "outputs": [
    {
     "name": "stdout",
     "output_type": "stream",
     "text": [
      "I m car\n",
      "general use: transportation\n",
      "special use: family work\n",
      "I m motor cycle\n",
      "general use: transportation\n",
      "special use: racing\n"
     ]
    }
   ],
   "source": [
    "class vehicle:\n",
    "    def general_usage(self):\n",
    "        print('general use: transportation')\n",
    "\n",
    "class car(vehicle):\n",
    "    def __init__(self):\n",
    "        print('I m car')\n",
    "        self.wheels=4\n",
    "        self.roof=True\n",
    "\n",
    "    def special_usage(self):\n",
    "        print('special use: family work')\n",
    "\n",
    "\n",
    "class motor(vehicle):\n",
    "    def __init__(self):\n",
    "        print('I m motor cycle')\n",
    "        self.wheels=2\n",
    "        self.roof=False\n",
    "\n",
    "    def special_usage(self):\n",
    "        self.general_usage()\n",
    "        print('special use: racing')\n",
    "\n",
    "\n",
    "c=car()##initally and automatically: print('I m car')\n",
    "c.general_usage()#taking inheritance from parent\n",
    "c.special_usage()\n",
    "m=motor()\n",
    "m.special_usage()\n"
   ]
  },
  {
   "cell_type": "code",
   "execution_count": 80,
   "id": "237bc484-f8d5-4137-a91a-76bc7cbb8a08",
   "metadata": {},
   "outputs": [
    {
     "name": "stdout",
     "output_type": "stream",
     "text": [
      "True\n"
     ]
    }
   ],
   "source": [
    "print(isinstance(c,car))## isinstance tell if object of an specific class or not"
   ]
  },
  {
   "cell_type": "code",
   "execution_count": 78,
   "id": "c2ccd245-fd2e-4bbb-8205-2bc57180182e",
   "metadata": {},
   "outputs": [
    {
     "name": "stdout",
     "output_type": "stream",
     "text": [
      "False\n"
     ]
    }
   ],
   "source": [
    "print(isinstance(c,motor))"
   ]
  },
  {
   "cell_type": "code",
   "execution_count": 84,
   "id": "5707df95-2175-4567-ab1b-3706dbbf89b7",
   "metadata": {},
   "outputs": [
    {
     "name": "stdout",
     "output_type": "stream",
     "text": [
      "False\n"
     ]
    }
   ],
   "source": [
    "print(issubclass(car,motor))## sub class or not"
   ]
  },
  {
   "cell_type": "code",
   "execution_count": 86,
   "id": "045aa86e-0217-46db-902f-57c156282764",
   "metadata": {},
   "outputs": [
    {
     "name": "stdout",
     "output_type": "stream",
     "text": [
      "True\n"
     ]
    }
   ],
   "source": [
    "print(issubclass(car,vehicle))"
   ]
  },
  {
   "cell_type": "markdown",
   "id": "85f9629f-b474-437f-9509-3d8f24e86eec",
   "metadata": {},
   "source": [
    "# Multiple_Inheritance"
   ]
  },
  {
   "cell_type": "code",
   "execution_count": 95,
   "id": "1183970f-3129-4de8-ba92-d9991b296af2",
   "metadata": {},
   "outputs": [
    {
     "name": "stdout",
     "output_type": "stream",
     "text": [
      "cooking,art\n",
      "gardening,programming\n"
     ]
    }
   ],
   "source": [
    "class Father():\n",
    "   def gardening(self):\n",
    "       print(\"gardening,programming\")\n",
    "\n",
    "class Mother():\n",
    "   def cooking(self):\n",
    "       print(\"cooking,art\")\n",
    "\n",
    "class Child(Father,Mother):\n",
    "    def sports(self):\n",
    "        print(\"sports\")\n",
    "\n",
    "c = Child()\n",
    "c.cooking()\n",
    "m=Father()\n",
    "m.gardening()"
   ]
  },
  {
   "cell_type": "markdown",
   "id": "22d1f414-9429-43c3-8712-7bf06a67a967",
   "metadata": {},
   "source": [
    "# Exception Handling"
   ]
  },
  {
   "cell_type": "code",
   "execution_count": 5,
   "id": "10f8406f-5e37-4d72-9a11-21e7511172a5",
   "metadata": {},
   "outputs": [
    {
     "ename": "TypeError",
     "evalue": "can only concatenate str (not \"int\") to str",
     "output_type": "error",
     "traceback": [
      "\u001b[1;31m---------------------------------------------------------------------------\u001b[0m",
      "\u001b[1;31mTypeError\u001b[0m                                 Traceback (most recent call last)",
      "Cell \u001b[1;32mIn[5], line 1\u001b[0m\n\u001b[1;32m----> 1\u001b[0m \u001b[38;5;124m'\u001b[39m\u001b[38;5;124mabc\u001b[39m\u001b[38;5;124m'\u001b[39m\u001b[38;5;241m+\u001b[39m\u001b[38;5;241m2\u001b[39m\n",
      "\u001b[1;31mTypeError\u001b[0m: can only concatenate str (not \"int\") to str"
     ]
    }
   ],
   "source": [
    "'abc'+2"
   ]
  },
  {
   "cell_type": "code",
   "execution_count": 3,
   "id": "f4fbdd84-ae49-4b00-84bc-489a67d04c7e",
   "metadata": {},
   "outputs": [
    {
     "ename": "ZeroDivisionError",
     "evalue": "division by zero",
     "output_type": "error",
     "traceback": [
      "\u001b[1;31m---------------------------------------------------------------------------\u001b[0m",
      "\u001b[1;31mZeroDivisionError\u001b[0m                         Traceback (most recent call last)",
      "Cell \u001b[1;32mIn[3], line 1\u001b[0m\n\u001b[1;32m----> 1\u001b[0m \u001b[38;5;241m1\u001b[39m\u001b[38;5;241m/\u001b[39m\u001b[38;5;241m0\u001b[39m\n",
      "\u001b[1;31mZeroDivisionError\u001b[0m: division by zero"
     ]
    }
   ],
   "source": [
    "1/0"
   ]
  },
  {
   "cell_type": "code",
   "execution_count": 29,
   "id": "dbee68cc-80eb-4731-bbc5-394fdc12b002",
   "metadata": {},
   "outputs": [
    {
     "name": "stdin",
     "output_type": "stream",
     "text": [
      "Number1 aee\n",
      "Number2 sfggh\n"
     ]
    },
    {
     "name": "stdout",
     "output_type": "stream",
     "text": [
      "exception occurred:  invalid literal for int() with base 10: 'aee'\n",
      "Division is: None\n"
     ]
    }
   ],
   "source": [
    "x=input('Number1')\n",
    "y=input('Number2')\n",
    "try:\n",
    " z=int(x)/int(y)\n",
    "except Exception as e:\n",
    "  print('exception occurred: ',e)\n",
    "  z=None  \n",
    "print('Division is:',z)"
   ]
  },
  {
   "cell_type": "code",
   "execution_count": 39,
   "id": "497df28d-c16b-4660-922e-e76a72f49aaa",
   "metadata": {},
   "outputs": [
    {
     "name": "stdin",
     "output_type": "stream",
     "text": [
      "Number1 4\n",
      "Number2 2\n"
     ]
    },
    {
     "name": "stdout",
     "output_type": "stream",
     "text": [
      "exception occurred:  unsupported operand type(s) for /: 'str' and 'int'\n",
      "Division is: None\n"
     ]
    }
   ],
   "source": [
    "x=input('Number1')\n",
    "y=input('Number2')\n",
    "try:\n",
    " z=(x)/int(y)\n",
    "except Exception as e:\n",
    "  print('exception occurred: ',e)\n",
    "  z=None \n",
    "except Exception as e:\n",
    "  print('exception occurred and that is: ',type(e).__name__)\n",
    "  z=None \n",
    "print('Division is:',z)"
   ]
  },
  {
   "cell_type": "code",
   "execution_count": 46,
   "id": "2899c922-9902-41a3-8da8-fd6caed2ae81",
   "metadata": {},
   "outputs": [
    {
     "name": "stdout",
     "output_type": "stream",
     "text": [
      "memory error\n"
     ]
    }
   ],
   "source": [
    "try:\n",
    "    raise Exception('memory error')\n",
    "except Exception as e:\n",
    "    print(e)"
   ]
  },
  {
   "cell_type": "code",
   "execution_count": 48,
   "id": "c98acb58-f983-4e59-b95f-1b6d75c046df",
   "metadata": {},
   "outputs": [
    {
     "name": "stdout",
     "output_type": "stream",
     "text": [
      "User defined exception: crash between two cars\n"
     ]
    }
   ],
   "source": [
    "class Accident(Exception):##derived class from exception\n",
    "   def __init__(self,msg):\n",
    "       self.msg=msg\n",
    "   def print_exception(self):\n",
    "       print('User defined exception:',self.msg)\n",
    "\n",
    "try:\n",
    "    raise Accident('crash between two cars')\n",
    "except Accident as e:\n",
    "    e.print_exception()\n",
    "    "
   ]
  },
  {
   "cell_type": "code",
   "execution_count": 52,
   "id": "466c90b0-1c72-4087-9dbc-8b485e6c3cf1",
   "metadata": {},
   "outputs": [
    {
     "ename": "SyntaxError",
     "evalue": "(unicode error) 'unicodeescape' codec can't decode bytes in position 2-3: truncated \\UXXXXXXXX escape (2693034016.py, line 3)",
     "output_type": "error",
     "traceback": [
      "\u001b[1;36m  Cell \u001b[1;32mIn[52], line 3\u001b[1;36m\u001b[0m\n\u001b[1;33m    f=open('C:\\Users\\ASUS\\ML practice')\u001b[0m\n\u001b[1;37m                                      ^\u001b[0m\n\u001b[1;31mSyntaxError\u001b[0m\u001b[1;31m:\u001b[0m (unicode error) 'unicodeescape' codec can't decode bytes in position 2-3: truncated \\UXXXXXXXX escape\n"
     ]
    }
   ],
   "source": [
    "def process_file():\n",
    "    try:\n",
    "        f=open('C:\\Users\\ASUS\\ML practice')\n",
    "        x=1/0 #error\n",
    "    except FileNotFoundError as e:\n",
    "        print('inside except')\n",
    "        \n",
    "    f.close()\n",
    "\n",
    "process_file()"
   ]
  },
  {
   "cell_type": "code",
   "execution_count": 62,
   "id": "ae88c4a2-ef62-49ce-9247-86c0b16c6713",
   "metadata": {},
   "outputs": [
    {
     "ename": "SyntaxError",
     "evalue": "(unicode error) 'unicodeescape' codec can't decode bytes in position 2-3: truncated \\UXXXXXXXX escape (3056067413.py, line 3)",
     "output_type": "error",
     "traceback": [
      "\u001b[1;36m  Cell \u001b[1;32mIn[62], line 3\u001b[1;36m\u001b[0m\n\u001b[1;33m    f=open('C:\\Users\\ASUS\\ML practice')\u001b[0m\n\u001b[1;37m                                      ^\u001b[0m\n\u001b[1;31mSyntaxError\u001b[0m\u001b[1;31m:\u001b[0m (unicode error) 'unicodeescape' codec can't decode bytes in position 2-3: truncated \\UXXXXXXXX escape\n"
     ]
    }
   ],
   "source": [
    "def process_file():\n",
    "    try:\n",
    "        f=open('C:\\Users\\ASUS\\ML practice')\n",
    "        x=1/0 #error\n",
    "    except FileNotFoundError as e:\n",
    "        print('inside except')\n",
    "\n",
    "    finally:\n",
    "        print('cleaning up the file')\n",
    "        f.close()\n",
    "        \n",
    "process_file()"
   ]
  },
  {
   "cell_type": "markdown",
   "id": "a677eb08-f2bc-4013-b5f0-65f40438b054",
   "metadata": {},
   "source": [
    "# Iterators"
   ]
  },
  {
   "cell_type": "code",
   "execution_count": null,
   "id": "c242f2a6-d36c-481f-b617-2f878622620d",
   "metadata": {},
   "outputs": [],
   "source": [
    "***process of going element one by one is called iteration***"
   ]
  },
  {
   "cell_type": "code",
   "execution_count": 73,
   "id": "64604b09-d7b9-4417-af09-2d64619093ab",
   "metadata": {},
   "outputs": [
    {
     "name": "stdout",
     "output_type": "stream",
     "text": [
      "staple\n",
      "center\n",
      " newyork\n",
      "calafonia\n"
     ]
    }
   ],
   "source": [
    "a=['staple','center',' newyork','calafonia']\n",
    "for i in a:\n",
    "    print(i)"
   ]
  },
  {
   "cell_type": "code",
   "execution_count": 75,
   "id": "2355e94b-2784-4651-8d81-02acb25926a9",
   "metadata": {},
   "outputs": [
    {
     "data": {
      "text/plain": [
       "['__add__',\n",
       " '__class__',\n",
       " '__class_getitem__',\n",
       " '__contains__',\n",
       " '__delattr__',\n",
       " '__delitem__',\n",
       " '__dir__',\n",
       " '__doc__',\n",
       " '__eq__',\n",
       " '__format__',\n",
       " '__ge__',\n",
       " '__getattribute__',\n",
       " '__getitem__',\n",
       " '__getstate__',\n",
       " '__gt__',\n",
       " '__hash__',\n",
       " '__iadd__',\n",
       " '__imul__',\n",
       " '__init__',\n",
       " '__init_subclass__',\n",
       " '__iter__',\n",
       " '__le__',\n",
       " '__len__',\n",
       " '__lt__',\n",
       " '__mul__',\n",
       " '__ne__',\n",
       " '__new__',\n",
       " '__reduce__',\n",
       " '__reduce_ex__',\n",
       " '__repr__',\n",
       " '__reversed__',\n",
       " '__rmul__',\n",
       " '__setattr__',\n",
       " '__setitem__',\n",
       " '__sizeof__',\n",
       " '__str__',\n",
       " '__subclasshook__',\n",
       " 'append',\n",
       " 'clear',\n",
       " 'copy',\n",
       " 'count',\n",
       " 'extend',\n",
       " 'index',\n",
       " 'insert',\n",
       " 'pop',\n",
       " 'remove',\n",
       " 'reverse',\n",
       " 'sort']"
      ]
     },
     "execution_count": 75,
     "metadata": {},
     "output_type": "execute_result"
    }
   ],
   "source": [
    "dir(a)"
   ]
  },
  {
   "cell_type": "code",
   "execution_count": 77,
   "id": "e923047f-2c2c-40f5-a4e1-b47920e420df",
   "metadata": {},
   "outputs": [],
   "source": [
    "itr=iter(a)## making itretor"
   ]
  },
  {
   "cell_type": "code",
   "execution_count": 89,
   "id": "4584c0e8-b42d-4484-812e-c1a94ae6b508",
   "metadata": {},
   "outputs": [
    {
     "data": {
      "text/plain": [
       "' newyork'"
      ]
     },
     "execution_count": 89,
     "metadata": {},
     "output_type": "execute_result"
    }
   ],
   "source": [
    "next(itr)"
   ]
  },
  {
   "cell_type": "code",
   "execution_count": 91,
   "id": "f8607ecd-a397-4984-abec-be7fc5467f1d",
   "metadata": {},
   "outputs": [
    {
     "data": {
      "text/plain": [
       "'center'"
      ]
     },
     "execution_count": 91,
     "metadata": {},
     "output_type": "execute_result"
    }
   ],
   "source": [
    "next(itr)"
   ]
  },
  {
   "cell_type": "code",
   "execution_count": 93,
   "id": "372f267d-057f-442c-8788-339ce76189ee",
   "metadata": {},
   "outputs": [
    {
     "data": {
      "text/plain": [
       "'staple'"
      ]
     },
     "execution_count": 93,
     "metadata": {},
     "output_type": "execute_result"
    }
   ],
   "source": [
    "next(itr)"
   ]
  },
  {
   "cell_type": "code",
   "execution_count": 95,
   "id": "89a85d00-31bc-4a9c-abae-eec698aff113",
   "metadata": {},
   "outputs": [],
   "source": [
    "itr=reversed(a)"
   ]
  },
  {
   "cell_type": "code",
   "execution_count": 97,
   "id": "7bee08be-642b-43b1-a767-6da1c714fbcb",
   "metadata": {},
   "outputs": [
    {
     "data": {
      "text/plain": [
       "'calafonia'"
      ]
     },
     "execution_count": 97,
     "metadata": {},
     "output_type": "execute_result"
    }
   ],
   "source": [
    "next(itr)"
   ]
  },
  {
   "cell_type": "code",
   "execution_count": 99,
   "id": "c6eb476f-61b1-4f47-a890-07859efdc51d",
   "metadata": {},
   "outputs": [
    {
     "data": {
      "text/plain": [
       "' newyork'"
      ]
     },
     "execution_count": 99,
     "metadata": {},
     "output_type": "execute_result"
    }
   ],
   "source": [
    "next(itr)"
   ]
  },
  {
   "cell_type": "code",
   "execution_count": null,
   "id": "cec84b61-505d-46dd-b9d2-f46196ba1b86",
   "metadata": {},
   "outputs": [],
   "source": [
    "##Implement Remote Control Class,allowing yo press 'next'button to go to next TV channel"
   ]
  },
  {
   "cell_type": "code",
   "execution_count": 134,
   "id": "8aad346a-d190-484f-bde6-3ceae07054b3",
   "metadata": {},
   "outputs": [
    {
     "name": "stdout",
     "output_type": "stream",
     "text": [
      "cnn\n",
      "bbc\n",
      "espn\n",
      "hbo\n"
     ]
    },
    {
     "ename": "StopIteration",
     "evalue": "",
     "output_type": "error",
     "traceback": [
      "\u001b[1;31m---------------------------------------------------------------------------\u001b[0m",
      "\u001b[1;31mStopIteration\u001b[0m                             Traceback (most recent call last)",
      "Cell \u001b[1;32mIn[134], line 19\u001b[0m\n\u001b[0;32m     17\u001b[0m \u001b[38;5;28mprint\u001b[39m(\u001b[38;5;28mnext\u001b[39m(itr))\n\u001b[0;32m     18\u001b[0m \u001b[38;5;28mprint\u001b[39m(\u001b[38;5;28mnext\u001b[39m(itr))\n\u001b[1;32m---> 19\u001b[0m \u001b[38;5;28mprint\u001b[39m(\u001b[38;5;28mnext\u001b[39m(itr))\n",
      "Cell \u001b[1;32mIn[134], line 10\u001b[0m, in \u001b[0;36mRemotecontrol.__next__\u001b[1;34m(self)\u001b[0m\n\u001b[0;32m      8\u001b[0m \u001b[38;5;28mself\u001b[39m\u001b[38;5;241m.\u001b[39mindex\u001b[38;5;241m+\u001b[39m\u001b[38;5;241m=\u001b[39m\u001b[38;5;241m1\u001b[39m\n\u001b[0;32m      9\u001b[0m \u001b[38;5;28;01mif\u001b[39;00m \u001b[38;5;28mself\u001b[39m\u001b[38;5;241m.\u001b[39mindex\u001b[38;5;241m==\u001b[39m\u001b[38;5;28mlen\u001b[39m(\u001b[38;5;28mself\u001b[39m\u001b[38;5;241m.\u001b[39mchannel):\n\u001b[1;32m---> 10\u001b[0m     \u001b[38;5;28;01mraise\u001b[39;00m \u001b[38;5;167;01mStopIteration\u001b[39;00m\n\u001b[0;32m     11\u001b[0m \u001b[38;5;28;01mreturn\u001b[39;00m \u001b[38;5;28mself\u001b[39m\u001b[38;5;241m.\u001b[39mchannel[\u001b[38;5;28mself\u001b[39m\u001b[38;5;241m.\u001b[39mindex]\n",
      "\u001b[1;31mStopIteration\u001b[0m: "
     ]
    }
   ],
   "source": [
    "class Remotecontrol():\n",
    "    def __init__(self):\n",
    "        self.channel=['cnn','bbc','espn','hbo']\n",
    "        self.index=-1 ## for no channel and off\n",
    "    def __iter__(self): ## making itretor\n",
    "        return self\n",
    "    def __next__(self):\n",
    "        self.index+=1\n",
    "        if self.index==len(self.channel):\n",
    "            raise StopIteration\n",
    "        return self.channel[self.index]\n",
    "\n",
    "r=Remotecontrol()\n",
    "itr=iter(r)\n",
    "print(next(itr))\n",
    "print(next(itr))\n",
    "print(next(itr))\n",
    "print(next(itr))\n",
    "print(next(itr))\n",
    "\n"
   ]
  },
  {
   "cell_type": "markdown",
   "id": "4021b57b-52ac-44e7-8043-afd8084f99b4",
   "metadata": {},
   "source": [
    "# Generators"
   ]
  },
  {
   "cell_type": "code",
   "execution_count": null,
   "id": "a4e213ea-5607-480b-9a02-692171754b47",
   "metadata": {},
   "outputs": [],
   "source": [
    "##yield preserves the state of last execution\n",
    "#where as return destroys al the local variables upon execution"
   ]
  },
  {
   "cell_type": "code",
   "execution_count": 146,
   "id": "d3f2be08-403f-43f6-9730-7612a0f8372f",
   "metadata": {},
   "outputs": [
    {
     "data": {
      "text/plain": [
       "<generator object remote_control_next at 0x000002072886F270>"
      ]
     },
     "execution_count": 146,
     "metadata": {},
     "output_type": "execute_result"
    }
   ],
   "source": [
    "def remote_control_next():\n",
    "    yield'cnn'\n",
    "    yield'hbo'\n",
    "\n",
    "itr=remote_control_next()\n",
    "itr"
   ]
  },
  {
   "cell_type": "code",
   "execution_count": 148,
   "id": "ac8a65d4-a439-4cc4-b459-175ad02ec4f3",
   "metadata": {},
   "outputs": [
    {
     "data": {
      "text/plain": [
       "'cnn'"
      ]
     },
     "execution_count": 148,
     "metadata": {},
     "output_type": "execute_result"
    }
   ],
   "source": [
    "next(itr)"
   ]
  },
  {
   "cell_type": "code",
   "execution_count": 150,
   "id": "fa286e88-1b82-47b8-86f2-d4d15f399fa3",
   "metadata": {},
   "outputs": [
    {
     "data": {
      "text/plain": [
       "'hbo'"
      ]
     },
     "execution_count": 150,
     "metadata": {},
     "output_type": "execute_result"
    }
   ],
   "source": [
    "next(itr)"
   ]
  },
  {
   "cell_type": "code",
   "execution_count": 152,
   "id": "b45b51a6-bfc8-4ed2-aaa6-db04bca60b9f",
   "metadata": {},
   "outputs": [
    {
     "ename": "StopIteration",
     "evalue": "",
     "output_type": "error",
     "traceback": [
      "\u001b[1;31m---------------------------------------------------------------------------\u001b[0m",
      "\u001b[1;31mStopIteration\u001b[0m                             Traceback (most recent call last)",
      "Cell \u001b[1;32mIn[152], line 1\u001b[0m\n\u001b[1;32m----> 1\u001b[0m \u001b[38;5;28mnext\u001b[39m(itr)\n",
      "\u001b[1;31mStopIteration\u001b[0m: "
     ]
    }
   ],
   "source": [
    "next(itr)"
   ]
  },
  {
   "cell_type": "code",
   "execution_count": 4,
   "id": "4c31275f-7ea7-445b-b233-1a3a7556a2a2",
   "metadata": {},
   "outputs": [
    {
     "data": {
      "text/plain": [
       "<generator object remote_control_next at 0x000001A252BF5E40>"
      ]
     },
     "execution_count": 4,
     "metadata": {},
     "output_type": "execute_result"
    }
   ],
   "source": [
    "def remote_control_next():\n",
    "    yield ['cnn','bbc','alzazera']\n",
    "\n",
    "itr=remote_control_next()\n",
    "itr"
   ]
  },
  {
   "cell_type": "code",
   "execution_count": 156,
   "id": "3915990f-28a1-43a8-bc7b-182d140f87fd",
   "metadata": {},
   "outputs": [
    {
     "name": "stdout",
     "output_type": "stream",
     "text": [
      "cnn\n",
      "hbo\n"
     ]
    }
   ],
   "source": [
    "for i in remote_control_next():\n",
    "    print(i)"
   ]
  },
  {
   "cell_type": "code",
   "execution_count": null,
   "id": "de97fb0b-9ada-497a-86a2-914ad39556ba",
   "metadata": {},
   "outputs": [],
   "source": [
    "***Fibonacci using generators***"
   ]
  },
  {
   "cell_type": "code",
   "execution_count": 322,
   "id": "6a1ee211-a924-4ea2-bd45-e7465842808e",
   "metadata": {},
   "outputs": [
    {
     "name": "stdout",
     "output_type": "stream",
     "text": [
      "0\n",
      "1\n",
      "1\n",
      "2\n",
      "3\n",
      "5\n",
      "8\n",
      "13\n",
      "21\n",
      "34\n"
     ]
    }
   ],
   "source": [
    "def fib():\n",
    "    a,b=0,1\n",
    "    while True:\n",
    "        yield a\n",
    "        a,b=b,a+b\n",
    "\n",
    "for f in fib():\n",
    "    if f>50:\n",
    "        break\n",
    "    print(f)\n",
    "\n"
   ]
  },
  {
   "cell_type": "code",
   "execution_count": null,
   "id": "6e6c66c7-a46f-41d2-9c51-5fe7fd323940",
   "metadata": {},
   "outputs": [],
   "source": []
  },
  {
   "cell_type": "code",
   "execution_count": null,
   "id": "0b397587-5d25-47f2-8898-8ef5f7b65b4d",
   "metadata": {},
   "outputs": [],
   "source": []
  },
  {
   "cell_type": "code",
   "execution_count": null,
   "id": "b4b02e41-ba71-4924-a056-f4926809f303",
   "metadata": {},
   "outputs": [],
   "source": []
  },
  {
   "cell_type": "code",
   "execution_count": null,
   "id": "78f68f25-63ed-4a7d-9dd2-ce9a87ddaa33",
   "metadata": {},
   "outputs": [],
   "source": []
  },
  {
   "cell_type": "code",
   "execution_count": 15,
   "id": "45073b39-f7f5-4933-ae54-408a594e0435",
   "metadata": {},
   "outputs": [
    {
     "name": "stdout",
     "output_type": "stream",
     "text": [
      "1\n",
      "2\n",
      "3\n"
     ]
    }
   ],
   "source": [
    "for element in [1,2,3]:#list\n",
    "    print(element)"
   ]
  },
  {
   "cell_type": "code",
   "execution_count": 17,
   "id": "30553db5-f7cc-43ac-9261-95162005e860",
   "metadata": {},
   "outputs": [
    {
     "name": "stdout",
     "output_type": "stream",
     "text": [
      "3\n",
      "3\n",
      "3\n"
     ]
    }
   ],
   "source": [
    "for i in (1,2,3):\n",
    "    print(element)"
   ]
  },
  {
   "cell_type": "code",
   "execution_count": 19,
   "id": "30eb784e-0db2-466f-a014-bf00ca0cffa6",
   "metadata": {},
   "outputs": [
    {
     "name": "stdout",
     "output_type": "stream",
     "text": [
      "1\n",
      "2\n",
      "3\n"
     ]
    }
   ],
   "source": [
    "for i in (1,2,3):#tuple\n",
    "    print(i)"
   ]
  },
  {
   "cell_type": "code",
   "execution_count": 21,
   "id": "05c8c2a4-393c-4e62-8572-60fa5530cf11",
   "metadata": {},
   "outputs": [
    {
     "name": "stdout",
     "output_type": "stream",
     "text": [
      "one\n",
      "two\n"
     ]
    }
   ],
   "source": [
    "for key in {'one':1,'two':2}:##dicttonary keys\n",
    "    print(key)"
   ]
  },
  {
   "cell_type": "code",
   "execution_count": 23,
   "id": "038f18fe-2854-4cd8-ace0-2e7a52713475",
   "metadata": {},
   "outputs": [
    {
     "name": "stdout",
     "output_type": "stream",
     "text": [
      "1\n",
      "2\n",
      "3\n"
     ]
    }
   ],
   "source": [
    "for char in '123':##character in string\n",
    "    print(char)"
   ]
  },
  {
   "cell_type": "code",
   "execution_count": 25,
   "id": "346d2143-b7f1-4ef8-87f7-c21068a08a6e",
   "metadata": {},
   "outputs": [
    {
     "name": "stdout",
     "output_type": "stream",
     "text": [
      "1\n",
      "2\n",
      "3\n"
     ]
    }
   ],
   "source": [
    "for string in '123':\n",
    "    print(string)"
   ]
  },
  {
   "cell_type": "code",
   "execution_count": 27,
   "id": "ab61641c-c56e-4a68-926d-2c1bf03f1085",
   "metadata": {},
   "outputs": [
    {
     "ename": "FileNotFoundError",
     "evalue": "[Errno 2] No such file or directory: 'myfile.txt'",
     "output_type": "error",
     "traceback": [
      "\u001b[1;31m---------------------------------------------------------------------------\u001b[0m",
      "\u001b[1;31mFileNotFoundError\u001b[0m                         Traceback (most recent call last)",
      "Cell \u001b[1;32mIn[27], line 1\u001b[0m\n\u001b[1;32m----> 1\u001b[0m \u001b[38;5;28;01mfor\u001b[39;00m line \u001b[38;5;129;01min\u001b[39;00m \u001b[38;5;28mopen\u001b[39m(\u001b[38;5;124m'\u001b[39m\u001b[38;5;124mmyfile.txt\u001b[39m\u001b[38;5;124m'\u001b[39m):\n\u001b[0;32m      2\u001b[0m     \u001b[38;5;28mprint\u001b[39m(line,end\u001b[38;5;241m=\u001b[39m\u001b[38;5;124m'\u001b[39m\u001b[38;5;124m'\u001b[39m)\n",
      "File \u001b[1;32m~\\anaconda3\\Lib\\site-packages\\IPython\\core\\interactiveshell.py:310\u001b[0m, in \u001b[0;36m_modified_open\u001b[1;34m(file, *args, **kwargs)\u001b[0m\n\u001b[0;32m    303\u001b[0m \u001b[38;5;28;01mif\u001b[39;00m file \u001b[38;5;129;01min\u001b[39;00m {\u001b[38;5;241m0\u001b[39m, \u001b[38;5;241m1\u001b[39m, \u001b[38;5;241m2\u001b[39m}:\n\u001b[0;32m    304\u001b[0m     \u001b[38;5;28;01mraise\u001b[39;00m \u001b[38;5;167;01mValueError\u001b[39;00m(\n\u001b[0;32m    305\u001b[0m         \u001b[38;5;124mf\u001b[39m\u001b[38;5;124m\"\u001b[39m\u001b[38;5;124mIPython won\u001b[39m\u001b[38;5;124m'\u001b[39m\u001b[38;5;124mt let you open fd=\u001b[39m\u001b[38;5;132;01m{\u001b[39;00mfile\u001b[38;5;132;01m}\u001b[39;00m\u001b[38;5;124m by default \u001b[39m\u001b[38;5;124m\"\u001b[39m\n\u001b[0;32m    306\u001b[0m         \u001b[38;5;124m\"\u001b[39m\u001b[38;5;124mas it is likely to crash IPython. If you know what you are doing, \u001b[39m\u001b[38;5;124m\"\u001b[39m\n\u001b[0;32m    307\u001b[0m         \u001b[38;5;124m\"\u001b[39m\u001b[38;5;124myou can use builtins\u001b[39m\u001b[38;5;124m'\u001b[39m\u001b[38;5;124m open.\u001b[39m\u001b[38;5;124m\"\u001b[39m\n\u001b[0;32m    308\u001b[0m     )\n\u001b[1;32m--> 310\u001b[0m \u001b[38;5;28;01mreturn\u001b[39;00m io_open(file, \u001b[38;5;241m*\u001b[39margs, \u001b[38;5;241m*\u001b[39m\u001b[38;5;241m*\u001b[39mkwargs)\n",
      "\u001b[1;31mFileNotFoundError\u001b[0m: [Errno 2] No such file or directory: 'myfile.txt'"
     ]
    }
   ],
   "source": [
    "for line in open('myfile.txt'):##every line in file\n",
    "    print(line,end='')"
   ]
  },
  {
   "cell_type": "code",
   "execution_count": 101,
   "id": "3d39ffef-12dc-487b-ad8e-28c90095c10c",
   "metadata": {},
   "outputs": [],
   "source": [
    "'''\n",
    "Create a sample class named Employee with two attributes id and name\n",
    "employee :\n",
    "    id\n",
    "    name\n",
    "object initializes id and name dynamically for every Employee object created.\n",
    "\n",
    "emp = Employee(1, \"coder\")\n",
    "Use del property to first delete id attribute and then the entire object"
   ]
  },
  {
   "cell_type": "code",
   "execution_count": null,
   "id": "a5c7cb23-5baf-4971-b4a0-4633eb8d5090",
   "metadata": {},
   "outputs": [],
   "source": [
    "class employee:\n",
    "    def __init__(self,id,name):\n",
    "        self.id=id\n",
    "        self.name=name\n",
    "    def show(self):\n",
    "         print(f\"ID: {self.id} \\nName: {self.name}\")\n",
    "\n",
    "r=employee(int(input('id')),input('name'))\n",
    "r.show()"
   ]
  },
  {
   "cell_type": "code",
   "execution_count": 180,
   "id": "026e05e9-dffd-4af1-93c3-e4894ffee7c8",
   "metadata": {},
   "outputs": [
    {
     "name": "stdin",
     "output_type": "stream",
     "text": [
      "id 23\n",
      "name wsd\n"
     ]
    },
    {
     "name": "stdout",
     "output_type": "stream",
     "text": [
      "ID: 23 \n",
      "Name: wsd\n"
     ]
    },
    {
     "ename": "AttributeError",
     "evalue": "'employee' object has no attribute 'id'",
     "output_type": "error",
     "traceback": [
      "\u001b[1;31m---------------------------------------------------------------------------\u001b[0m",
      "\u001b[1;31mAttributeError\u001b[0m                            Traceback (most recent call last)",
      "Cell \u001b[1;32mIn[180], line 14\u001b[0m\n\u001b[0;32m     12\u001b[0m \u001b[38;5;66;03m# Deleting the object itself\u001b[39;00m\n\u001b[0;32m     13\u001b[0m \u001b[38;5;28;01mtry\u001b[39;00m:\n\u001b[1;32m---> 14\u001b[0m     \u001b[38;5;28mprint\u001b[39m(r\u001b[38;5;241m.\u001b[39mid)\n\u001b[0;32m     15\u001b[0m \u001b[38;5;28;01mexcept\u001b[39;00m \u001b[38;5;167;01mNameError\u001b[39;00m:\n\u001b[0;32m     16\u001b[0m     \u001b[38;5;28mprint\u001b[39m(\u001b[38;5;124m\"\u001b[39m\u001b[38;5;124mr.id is not defined\u001b[39m\u001b[38;5;124m\"\u001b[39m)\n",
      "\u001b[1;31mAttributeError\u001b[0m: 'employee' object has no attribute 'id'"
     ]
    }
   ],
   "source": [
    "class employee:\n",
    "    def __init__(self,id,name):\n",
    "        self.id=id\n",
    "        self.name=name\n",
    "    def show(self):\n",
    "         print(f\"ID: {self.id} \\nName: {self.name}\")\n",
    "\n",
    "r=employee(int(input('id')),input('name'))\n",
    "r.show()\n",
    "# Deleting the property of object\n",
    "del r.id\n",
    "# Deleting the object itself\n",
    "try:\n",
    "    print(r.id)\n",
    "except NameError:\n",
    "    print(\"r.id is not defined\")"
   ]
  },
  {
   "cell_type": "code",
   "execution_count": 182,
   "id": "4e3564d9-5945-4588-adb7-51387a9e7f71",
   "metadata": {},
   "outputs": [
    {
     "name": "stdin",
     "output_type": "stream",
     "text": [
      "id 23\n",
      "name dcv\n"
     ]
    },
    {
     "name": "stdout",
     "output_type": "stream",
     "text": [
      "ID: 23 \n",
      "Name: dcv\n"
     ]
    },
    {
     "ename": "AttributeError",
     "evalue": "'employee' object has no attribute 'id'",
     "output_type": "error",
     "traceback": [
      "\u001b[1;31m---------------------------------------------------------------------------\u001b[0m",
      "\u001b[1;31mAttributeError\u001b[0m                            Traceback (most recent call last)",
      "Cell \u001b[1;32mIn[182], line 14\u001b[0m\n\u001b[0;32m     12\u001b[0m \u001b[38;5;66;03m# Deleting the object itself\u001b[39;00m\n\u001b[0;32m     13\u001b[0m \u001b[38;5;28;01mtry\u001b[39;00m:\n\u001b[1;32m---> 14\u001b[0m     \u001b[38;5;28mprint\u001b[39m(r\u001b[38;5;241m.\u001b[39mid)\n\u001b[0;32m     15\u001b[0m \u001b[38;5;28;01mexcept\u001b[39;00m \u001b[38;5;167;01mNameError\u001b[39;00m:\n\u001b[0;32m     16\u001b[0m     \u001b[38;5;28mprint\u001b[39m(\u001b[38;5;124m\"\u001b[39m\u001b[38;5;124mr.id is not defined\u001b[39m\u001b[38;5;124m\"\u001b[39m)\n",
      "\u001b[1;31mAttributeError\u001b[0m: 'employee' object has no attribute 'id'"
     ]
    }
   ],
   "source": [
    "class employee:\n",
    "    def __init__(self,id,name):\n",
    "        self.id=id\n",
    "        self.name=name\n",
    "    def show(self):\n",
    "         print(f\"ID: {self.id} \\nName: {self.name}\")\n",
    "\n",
    "r=employee(int(input('id')),input('name'))\n",
    "r.show()\n",
    "# Deleting the property of object\n",
    "del r.id\n",
    "# Deleting the object itself\n",
    "try:\n",
    "    print(r.id)\n",
    "except NameError:\n",
    "    print(\"r.id is not defined\")\n",
    "    \n",
    "del r\n",
    "try:\n",
    "    r.show()  # it will gives error after deleting r\n",
    "except NameError:\n",
    "    print(\"r is not defined\")"
   ]
  },
  {
   "cell_type": "code",
   "execution_count": null,
   "id": "3f6392c3-3205-4b0a-9aea-ba7494430c88",
   "metadata": {},
   "outputs": [],
   "source": [
    "'''\n",
    "create inheritance using animal Dog relation.\n",
    "for example, \n",
    "    Animal and Dog both has same habitat so create a method for habitat \n",
    "use super() constructor for calling parent constructor.\n",
    "class Animal:\n",
    "    #code\n",
    "\n",
    "class Dog(Animal):\n",
    "    super()-it refers Animal class,now you can call Animal's methods."
   ]
  },
  {
   "cell_type": "code",
   "execution_count": 236,
   "id": "5d8449f2-872b-4e39-a948-5f37032569fb",
   "metadata": {},
   "outputs": [
    {
     "name": "stdout",
     "output_type": "stream",
     "text": [
      "live in wild\n",
      "i m a dog\n"
     ]
    }
   ],
   "source": [
    "class animal:\n",
    "    def general(self):\n",
    "        print('live in wild')\n",
    "\n",
    "class dog(animal):\n",
    "    def __init__(self):\n",
    "        pass\n",
    "      ## kicchu nh likke pass just inherit kra\n",
    "    def show(self):\n",
    "        self.general()\n",
    "        print('i m a dog')\n",
    "\n",
    "r=dog()\n",
    "r.show()"
   ]
  },
  {
   "cell_type": "code",
   "execution_count": 226,
   "id": "7f5e20c3-e81e-4c33-8afa-7512499c5c7e",
   "metadata": {},
   "outputs": [
    {
     "name": "stdout",
     "output_type": "stream",
     "text": [
      "Kennel\n",
      "Woof woof!\n",
      "Some Animal Sound\n",
      "dec\n"
     ]
    }
   ],
   "source": [
    "class Animal:\n",
    "    def __init__(self, habitat):\n",
    "        self.habitat = habitat\n",
    "\n",
    "    def print_habitat(self):\n",
    "        print(self.habitat)\n",
    "\n",
    "    def sound(self):\n",
    "        print(\"Some Animal Sound\")\n",
    "\n",
    "\n",
    "class Dog(Animal):\n",
    "    def __init__(self):\n",
    "        super().__init__(\"Kennel\")\n",
    "\n",
    "    def sound(self):\n",
    "        print(\"Woof woof!\")\n",
    "\n",
    "\n",
    "x = Dog()\n",
    "x.print_habitat()\n",
    "x.sound()\n",
    "y=Animal('dec')\n",
    "y.sound()\n",
    "y.print_habitat()"
   ]
  },
  {
   "cell_type": "code",
   "execution_count": null,
   "id": "33b80ae5-f47c-4d74-be02-ba9223195f9f",
   "metadata": {},
   "outputs": [],
   "source": [
    "'''\n",
    "Create multiple inheritance on teacher,student and youtuber.\n",
    "Q. if we have created teacher and now one student joins master degree with becoming teacher then what??\n",
    "\n",
    "Ans :  just make subclass from  teacher so that student will become teacher\n",
    "Now student is teacher as well as youtuber then what???\n",
    "-just use multiple inheritance for these three relations\n"
   ]
  },
  {
   "cell_type": "code",
   "execution_count": 234,
   "id": "e1409bc0-3634-47c5-86f0-38435ca70d3b",
   "metadata": {},
   "outputs": [
    {
     "name": "stdout",
     "output_type": "stream",
     "text": [
      "I can teach\n",
      "I can code\n",
      "I can code and teach\n"
     ]
    }
   ],
   "source": [
    "class Teacher:\n",
    "    def teachers_action(self):\n",
    "        print(\"I can teach\")\n",
    "\n",
    "\n",
    "class Engineer:\n",
    "    def Engineers_action(self):\n",
    "        print(\"I can code\")\n",
    "\n",
    "\n",
    "class Youtuber:\n",
    "    def youtubers_action(self):\n",
    "        print(\"I can code and teach\")\n",
    "\n",
    "\n",
    "class Person(Teacher, Engineer, Youtuber):\n",
    "   pass\n",
    "\n",
    "\n",
    "coder = Person()\n",
    "coder.teachers_action()\n",
    "coder.Engineers_action()\n",
    "coder.youtubers_action()\n",
    "    "
   ]
  },
  {
   "cell_type": "code",
   "execution_count": null,
   "id": "5a9f2475-c378-4ac2-b195-e80069d9556a",
   "metadata": {},
   "outputs": [],
   "source": [
    "'''\n",
    "1.Create a custom exception AdultException.\n",
    "\n",
    "2.Create a class Person with attributes name and age in it.\n",
    "\n",
    "3.Create a function get_minor_age() in the class. \n",
    "It throws an exception if the person is adult otherwise returns age.\n",
    "\n",
    "4.Create a function display_person() which prints the age and name of a person.\n",
    "\n",
    "let us say,\n",
    "\n",
    "if age>18 \n",
    "    he is major\n",
    "else\n",
    "    raise exception\n",
    "\n",
    "create cusomException named ismajor and raise it if age<18."
   ]
  },
  {
   "cell_type": "code",
   "execution_count": 259,
   "id": "dd6d56ce-6253-4ae3-b584-08f255b4d24e",
   "metadata": {},
   "outputs": [
    {
     "name": "stdin",
     "output_type": "stream",
     "text": [
      "name dfevgbr\n",
      "age 45\n"
     ]
    },
    {
     "ename": "NameError",
     "evalue": "name 'AdultException' is not defined",
     "output_type": "error",
     "traceback": [
      "\u001b[1;31m---------------------------------------------------------------------------\u001b[0m",
      "\u001b[1;31mNameError\u001b[0m                                 Traceback (most recent call last)",
      "Cell \u001b[1;32mIn[259], line 10\u001b[0m, in \u001b[0;36mPerson.get_minor_age\u001b[1;34m(self)\u001b[0m\n\u001b[0;32m      9\u001b[0m \u001b[38;5;28;01mtry\u001b[39;00m:\n\u001b[1;32m---> 10\u001b[0m   \u001b[38;5;28;01mraise\u001b[39;00m AdultException\n\u001b[0;32m     11\u001b[0m \u001b[38;5;28;01mexcept\u001b[39;00m  AdultException \u001b[38;5;28;01mas\u001b[39;00m e:\n",
      "\u001b[1;31mNameError\u001b[0m: name 'AdultException' is not defined",
      "\nDuring handling of the above exception, another exception occurred:\n",
      "\u001b[1;31mNameError\u001b[0m                                 Traceback (most recent call last)",
      "Cell \u001b[1;32mIn[259], line 18\u001b[0m\n\u001b[0;32m     14\u001b[0m             \u001b[38;5;28mprint\u001b[39m(\u001b[38;5;28mself\u001b[39m\u001b[38;5;241m.\u001b[39mage)\n\u001b[0;32m     16\u001b[0m a\u001b[38;5;241m=\u001b[39mPerson(\u001b[38;5;28minput\u001b[39m(\u001b[38;5;124m'\u001b[39m\u001b[38;5;124mname\u001b[39m\u001b[38;5;124m'\u001b[39m),\u001b[38;5;28mint\u001b[39m(\u001b[38;5;28minput\u001b[39m(\u001b[38;5;124m'\u001b[39m\u001b[38;5;124mage\u001b[39m\u001b[38;5;124m'\u001b[39m)))\n\u001b[1;32m---> 18\u001b[0m a\u001b[38;5;241m.\u001b[39mget_minor_age()\n\u001b[0;32m     19\u001b[0m a\u001b[38;5;241m.\u001b[39mdisplay_person()\n",
      "Cell \u001b[1;32mIn[259], line 11\u001b[0m, in \u001b[0;36mPerson.get_minor_age\u001b[1;34m(self)\u001b[0m\n\u001b[0;32m      9\u001b[0m     \u001b[38;5;28;01mtry\u001b[39;00m:\n\u001b[0;32m     10\u001b[0m       \u001b[38;5;28;01mraise\u001b[39;00m AdultException\n\u001b[1;32m---> 11\u001b[0m     \u001b[38;5;28;01mexcept\u001b[39;00m  AdultException \u001b[38;5;28;01mas\u001b[39;00m e:\n\u001b[0;32m     12\u001b[0m      \u001b[38;5;28mprint\u001b[39m(e)\n\u001b[0;32m     13\u001b[0m \u001b[38;5;28;01melse\u001b[39;00m:\n",
      "\u001b[1;31mNameError\u001b[0m: name 'AdultException' is not defined"
     ]
    }
   ],
   "source": [
    "class Person:\n",
    "    def __init__(self,name,age):\n",
    "        self.name=name\n",
    "        self.age=age\n",
    "    def  display_person(self):\n",
    "        print(self.name,self.age)\n",
    "    def get_minor_age(self):\n",
    "        if self.age>18:\n",
    "            try:\n",
    "              raise AdultException\n",
    "            except  AdultException as e:\n",
    "             print(e)\n",
    "        else:\n",
    "            print(self.age)\n",
    "\n",
    "a=Person(input('name'),int(input('age')))\n",
    "        \n",
    "a.get_minor_age()\n",
    "a.display_person()\n",
    "\n",
    "\n",
    "        \n",
    "        "
   ]
  },
  {
   "cell_type": "code",
   "execution_count": 261,
   "id": "df8ff81b-c30c-4b77-9f1c-c7c707482190",
   "metadata": {},
   "outputs": [
    {
     "name": "stdout",
     "output_type": "stream",
     "text": [
      "age -> 17\n",
      "name -> Bhavin\n",
      "Person is an adult\n",
      "name -> Dhaval\n"
     ]
    }
   ],
   "source": [
    "# for making exception just make subclass of Exception\n",
    "class AdultException(Exception):\n",
    "    pass\n",
    "\n",
    "\n",
    "class Person:\n",
    "    def __init__(self, name, age):\n",
    "        self.name = name\n",
    "        self.age = age\n",
    "\n",
    "    def get_minor_age(self):\n",
    "        if int(self.age) >= 18:\n",
    "            raise AdultException\n",
    "        else:\n",
    "            return self.age\n",
    "\n",
    "    def display(self):\n",
    "        try:\n",
    "            print(f\"age -> {self.get_minor_age()}\")\n",
    "        except AdultException:\n",
    "            print(\"Person is an adult\")\n",
    "        finally:\n",
    "            print(f\"name -> {self.name}\")\n",
    "\n",
    "\n",
    "# No exception\n",
    "Person(\"Bhavin\", 17).display()\n",
    "\n",
    "# AdultException is raised\n",
    "Person(\"Dhaval\", 23).display()"
   ]
  },
  {
   "cell_type": "code",
   "execution_count": null,
   "id": "8ac10a84-17df-43cd-8534-9ed972935ec9",
   "metadata": {},
   "outputs": [],
   "source": [
    "'''\n",
    "Create an iterator for fibonacci series in such a way that \n",
    "each next returns the next element from fibonacci series.\n",
    "The iterator should stop when it reaches a limit defined in the constructor."
   ]
  },
  {
   "cell_type": "code",
   "execution_count": null,
   "id": "7d69f871-9f25-402d-9ec3-a0ed6c40a90f",
   "metadata": {},
   "outputs": [],
   "source": [
    "class Remotecontro():\n",
    "    def __init__(self):\n",
    "        self.channel=['cnn','bbc','espn','hbo']\n",
    "        self.index=-1 ## for no channel and off\n",
    "    def __iter__(self): ## making itretor\n",
    "        return self\n",
    "    def __next__(self):\n",
    "        self.index+=1\n",
    "        if self.index==len(self.channel):\n",
    "            raise StopIteration\n",
    "        return self.channel[self.index]\n",
    "\n",
    "r=Remotecontrol()\n",
    "itr=iter(r)########\n",
    "print(next(itr))\n",
    "print(next(itr))\n",
    "print(next(itr))\n",
    "print(next(itr))\n",
    "print(next(itr))\n"
   ]
  },
  {
   "cell_type": "code",
   "execution_count": 324,
   "id": "77c09f1c-3da7-46d1-9590-51daf4d546eb",
   "metadata": {},
   "outputs": [
    {
     "name": "stdout",
     "output_type": "stream",
     "text": [
      "0\n",
      "1\n",
      "1\n",
      "2\n",
      "3\n",
      "5\n",
      "8\n",
      "13\n",
      "21\n",
      "34\n"
     ]
    }
   ],
   "source": [
    "def fib():\n",
    "    a,b=0,1\n",
    "    while True:\n",
    "        yield a\n",
    "        a,b=b,a+b\n",
    "\n",
    "for f in fib():\n",
    "    if f>50:\n",
    "        break\n",
    "    print(f)\n",
    "\n"
   ]
  },
  {
   "cell_type": "code",
   "execution_count": 308,
   "id": "a04c51de-b364-4d10-ac84-9cb66b17a89e",
   "metadata": {},
   "outputs": [
    {
     "name": "stdout",
     "output_type": "stream",
     "text": [
      "0\n"
     ]
    }
   ],
   "source": [
    "def fib(limit):\n",
    "        a,b=0,1\n",
    "        if a<=int(limit):\n",
    "              return a\n",
    "              a,b=b,a+b\n",
    "    \n",
    "            \n",
    "r=fib(50)      \n",
    "print(r)"
   ]
  },
  {
   "cell_type": "code",
   "execution_count": null,
   "id": "b824d624-f055-4115-8858-65c2aa80ec0e",
   "metadata": {},
   "outputs": [],
   "source": [
    "class fib:\n",
    "    def __init__(self,limit):\n",
    "        a,b=0,1\n",
    "        self.limit=limit\n",
    "        times=1\n",
    "    def __iter__(self): ## making itretor\n",
    "        return self\n",
    "    def __next__(self):\n",
    "    \n",
    "        if times<=self.limit:\n",
    "              yield a\n",
    "              a,b=b,a+b\n",
    "              times+=1\n",
    "\n",
    "        else:\n",
    "            raise StopIteration\n",
    "    \n",
    "            \n",
    "r=fib(5) \n",
    "itr=iter(r)\n",
    "while True:\n",
    "    # print the value of next fibonacci up to 5th fibonacci\n",
    "    try:\n",
    "        print(next(itr))\n",
    "    except StopIteration:\n",
    "        break\n",
    "\n",
    "'''\n",
    "There are several issues in the code that need to be addressed:\n",
    "\n",
    "Variables a, b, and times are not instance variables:\n",
    "\n",
    "The variables a, b, and times are defined in the __init__ method but are not instance variables.\n",
    "Instance variables should be defined using self, so they can be accessed across different methods of the class.\n",
    "self.a, self.b, and self.times should be used instead.\n",
    "The yield statement inside __next__ is incorrect:\n",
    "\n",
    "The yield statement is used in generator functions, \n",
    "not in an iterator's __next__ method. The __next__ method should return the next value directly using return.\n",
    "Incorrect handling of times:\n",
    "\n",
    "times should be incremented inside the __next__ method, and it should also be an instance variable (self.times).\n",
    "Incorrect placement of the StopIteration exception:\n",
    "\n",
    "The StopIteration exception should be raised once the iteration exceeds the limit.\n"
   ]
  },
  {
   "cell_type": "code",
   "execution_count": 3,
   "id": "78300e54-da86-489d-97b3-e9edc622ce9c",
   "metadata": {},
   "outputs": [
    {
     "name": "stdout",
     "output_type": "stream",
     "text": [
      "0\n",
      "1\n",
      "1\n",
      "2\n",
      "3\n"
     ]
    }
   ],
   "source": [
    "class fib:\n",
    "    def __init__(self, limit):\n",
    "        self.a, self.b = 0, 1\n",
    "        self.limit = limit\n",
    "        self.times = 1\n",
    "    \n",
    "    def __iter__(self):  # making it an iterator\n",
    "        return self\n",
    "    \n",
    "    def __next__(self):\n",
    "        if self.times <= self.limit:\n",
    "            current = self.a\n",
    "            self.a, self.b = self.b, self.a + self.b\n",
    "            self.times += 1\n",
    "            return current###next(itr)ase so return shbr last e hbe\n",
    "        else:\n",
    "            raise StopIteration\n",
    "\n",
    "r = fib(5) \n",
    "itr = iter(r)\n",
    "while True:\n",
    "    try:\n",
    "        # print the value of the next Fibonacci number up to the 5th Fibonacci number\n",
    "        print(next(itr))\n",
    "    except StopIteration:\n",
    "        break\n"
   ]
  },
  {
   "cell_type": "code",
   "execution_count": 1,
   "id": "452da796-cf62-4124-aa15-37a75179f2a3",
   "metadata": {},
   "outputs": [
    {
     "name": "stdout",
     "output_type": "stream",
     "text": [
      "1\n",
      "2\n",
      "3\n",
      "5\n"
     ]
    }
   ],
   "source": [
    "class Fibonacci:\n",
    "    def __init__(self, limit):\n",
    "        # default constructor\n",
    "        self.previous = 0\n",
    "        self.current = 1\n",
    "        self.n = 1\n",
    "        self.limit = limit\n",
    "\n",
    "    def __iter__(self):\n",
    "        return self\n",
    "\n",
    "    def __next__(self):\n",
    "        if self.n < self.limit:\n",
    "            result = self.previous + self.current\n",
    "            self.previous = self.current\n",
    "            self.current = result\n",
    "            self.n += 1\n",
    "            return result\n",
    "        else:\n",
    "            raise StopIteration\n",
    "\n",
    "\n",
    "# init the fib_iterator\n",
    "fib_iterator = iter(Fibonacci(5))\n",
    "while True:\n",
    "    # print the value of next fibonacci up to 5th fibonacci\n",
    "    try:\n",
    "        print(next(fib_iterator))\n",
    "    except StopIteration:\n",
    "        break"
   ]
  },
  {
   "cell_type": "code",
   "execution_count": null,
   "id": "7348724d-2977-4fde-b0b1-497d1fe39375",
   "metadata": {},
   "outputs": [],
   "source": [
    "a=5\n",
    "a"
   ]
  },
  {
   "cell_type": "code",
   "execution_count": null,
   "id": "9b4fb75f-9ce2-4438-9ea6-de8c959ae952",
   "metadata": {},
   "outputs": [],
   "source": [
    "print(a)"
   ]
  },
  {
   "cell_type": "code",
   "execution_count": null,
   "id": "090b5ce7-572d-4b77-ab50-e482da9cb765",
   "metadata": {},
   "outputs": [],
   "source": [
    "'''\n",
    "Print Square Sequence using yield\n",
    "    Create Generator method such that every time it will returns a next square number\n",
    "\n",
    "for exmaple : 1 4 9 16 .."
   ]
  },
  {
   "cell_type": "code",
   "execution_count": 10,
   "id": "8806fe2b-3f19-406d-8430-8eaa093c9f09",
   "metadata": {},
   "outputs": [
    {
     "data": {
      "text/plain": [
       "<generator object remote_control_next at 0x000001B0988EC1A0>"
      ]
     },
     "execution_count": 10,
     "metadata": {},
     "output_type": "execute_result"
    }
   ],
   "source": [
    "def remote_control_next():\n",
    "    yield'cnn'\n",
    "    yield'hbo'\n",
    "\n",
    "itr=remote_control_next()\n",
    "itr"
   ]
  },
  {
   "cell_type": "code",
   "execution_count": 22,
   "id": "44f32cb6-792a-4d24-8409-262715b59fb4",
   "metadata": {},
   "outputs": [],
   "source": [
    "def square():\n",
    "    a=1\n",
    "    while True:\n",
    "        yield a*a\n",
    "        a+=1\n",
    "\n",
    "itr=square()\n"
   ]
  },
  {
   "cell_type": "code",
   "execution_count": 24,
   "id": "a5c5b8d6-b280-4ddf-8962-ee372ef404b5",
   "metadata": {},
   "outputs": [
    {
     "data": {
      "text/plain": [
       "1"
      ]
     },
     "execution_count": 24,
     "metadata": {},
     "output_type": "execute_result"
    }
   ],
   "source": [
    "next(itr)"
   ]
  },
  {
   "cell_type": "code",
   "execution_count": 26,
   "id": "8cf94e79-32f0-45cc-a79e-24fdf32abddf",
   "metadata": {},
   "outputs": [
    {
     "data": {
      "text/plain": [
       "4"
      ]
     },
     "execution_count": 26,
     "metadata": {},
     "output_type": "execute_result"
    }
   ],
   "source": [
    "next(itr)"
   ]
  },
  {
   "cell_type": "code",
   "execution_count": 28,
   "id": "3a2b9910-5c0f-4ace-99b0-3ca00ac24196",
   "metadata": {},
   "outputs": [
    {
     "data": {
      "text/plain": [
       "9"
      ]
     },
     "execution_count": 28,
     "metadata": {},
     "output_type": "execute_result"
    }
   ],
   "source": [
    "next(itr)\n"
   ]
  },
  {
   "cell_type": "code",
   "execution_count": 30,
   "id": "4738637b-c11b-4019-b381-d55a6c872f96",
   "metadata": {},
   "outputs": [
    {
     "name": "stdout",
     "output_type": "stream",
     "text": [
      "1\n",
      "4\n",
      "9\n",
      "16\n",
      "25\n"
     ]
    }
   ],
   "source": [
    "def next_square():\n",
    "    i = 1\n",
    "    while True:\n",
    "        yield i * i\n",
    "        i += 1\n",
    "\n",
    "\n",
    "for n in next_square():\n",
    "    if n > 25:\n",
    "        break\n",
    "    print(n)"
   ]
  },
  {
   "cell_type": "code",
   "execution_count": null,
   "id": "fc75732a-184b-48c2-a7a1-f938d695dc88",
   "metadata": {},
   "outputs": [],
   "source": []
  }
 ],
 "metadata": {
  "kernelspec": {
   "display_name": "Python 3 (ipykernel)",
   "language": "python",
   "name": "python3"
  },
  "language_info": {
   "codemirror_mode": {
    "name": "ipython",
    "version": 3
   },
   "file_extension": ".py",
   "mimetype": "text/x-python",
   "name": "python",
   "nbconvert_exporter": "python",
   "pygments_lexer": "ipython3",
   "version": "3.11.7"
  }
 },
 "nbformat": 4,
 "nbformat_minor": 5
}
