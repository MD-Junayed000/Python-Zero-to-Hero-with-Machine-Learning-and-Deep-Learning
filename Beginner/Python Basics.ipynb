{
 "cells": [
  {
   "cell_type": "code",
   "execution_count": 26,
   "id": "0d475ac3-c6b0-40b7-ba9c-abf0251094a6",
   "metadata": {},
   "outputs": [
    {
     "name": "stdout",
     "output_type": "stream",
     "text": [
      "1200\n"
     ]
    }
   ],
   "source": [
    "rent=1200\n",
    "gas=234\n",
    "car=456\n",
    "print(rent)"
   ]
  },
  {
   "cell_type": "code",
   "execution_count": 28,
   "id": "d991e53f-77a9-412e-8b49-2011127bc3f1",
   "metadata": {},
   "outputs": [
    {
     "name": "stdout",
     "output_type": "stream",
     "text": [
      "expenses 1890 hello\n"
     ]
    }
   ],
   "source": [
    "total=rent+car+gas\n",
    "hola=\"hello\"\n",
    "print(\"expenses\",total,hola)"
   ]
  },
  {
   "cell_type": "code",
   "execution_count": 2,
   "id": "11701d87-b669-4f61-b5e5-0073ebe249b8",
   "metadata": {},
   "outputs": [
    {
     "data": {
      "text/plain": [
       "1"
      ]
     },
     "execution_count": 2,
     "metadata": {},
     "output_type": "execute_result"
    }
   ],
   "source": [
    "11%2#remainder\n"
   ]
  },
  {
   "cell_type": "code",
   "execution_count": 13,
   "id": "030da43f-7db6-4ce3-ba31-5544c18b9719",
   "metadata": {},
   "outputs": [
    {
     "data": {
      "text/plain": [
       "32"
      ]
     },
     "execution_count": 13,
     "metadata": {},
     "output_type": "execute_result"
    }
   ],
   "source": [
    "2**5#power"
   ]
  },
  {
   "cell_type": "code",
   "execution_count": 4,
   "id": "32563905-301d-4cc0-bb93-b1727d8aed20",
   "metadata": {},
   "outputs": [
    {
     "data": {
      "text/plain": [
       "6.692"
      ]
     },
     "execution_count": 4,
     "metadata": {},
     "output_type": "execute_result"
    }
   ],
   "source": [
    "mph=65\n",
    "dis=435\n",
    "time=dis/mph\n",
    "round(time,3)#decimal point"
   ]
  },
  {
   "cell_type": "code",
   "execution_count": 6,
   "id": "d4bd67c2-402e-424a-967c-785194fedc9d",
   "metadata": {},
   "outputs": [],
   "source": [
    "# 4. Print binary representation of number 17"
   ]
  },
  {
   "cell_type": "code",
   "execution_count": 14,
   "id": "c80281b7-da1d-4bd6-b8f3-b1c39be8038a",
   "metadata": {},
   "outputs": [
    {
     "name": "stdout",
     "output_type": "stream",
     "text": [
      "Binary of number 17 is: 10001\n"
     ]
    }
   ],
   "source": [
    "num=17\n",
    "print('Binary of number 17 is:',format(num,'b'))"
   ]
  },
  {
   "cell_type": "markdown",
   "id": "01e16775-0ec2-4d24-8efa-4e2eb8f56b97",
   "metadata": {},
   "source": [
    "***string is stored as an array***                                                                   "
   ]
  },
  {
   "cell_type": "code",
   "execution_count": 31,
   "id": "2552f694-5db0-4858-a838-b8d455c1238c",
   "metadata": {},
   "outputs": [
    {
     "data": {
      "text/plain": [
       "'ice cream'"
      ]
     },
     "execution_count": 31,
     "metadata": {},
     "output_type": "execute_result"
    }
   ],
   "source": [
    "text=\"ice cream\"\n",
    "text"
   ]
  },
  {
   "cell_type": "code",
   "execution_count": 35,
   "id": "eddc4d11-683e-47bf-aa15-ff2ceadf737d",
   "metadata": {},
   "outputs": [
    {
     "data": {
      "text/plain": [
       "'i'"
      ]
     },
     "execution_count": 35,
     "metadata": {},
     "output_type": "execute_result"
    }
   ],
   "source": [
    "text[0]"
   ]
  },
  {
   "cell_type": "code",
   "execution_count": 39,
   "id": "d798513c-32bc-48b4-b31d-ca59765977a7",
   "metadata": {},
   "outputs": [
    {
     "ename": "TypeError",
     "evalue": "'str' object does not support item assignment",
     "output_type": "error",
     "traceback": [
      "\u001b[1;31m---------------------------------------------------------------------------\u001b[0m",
      "\u001b[1;31mTypeError\u001b[0m                                 Traceback (most recent call last)",
      "Cell \u001b[1;32mIn[39], line 1\u001b[0m\n\u001b[1;32m----> 1\u001b[0m text[\u001b[38;5;241m0\u001b[39m]\u001b[38;5;241m=\u001b[39m\u001b[38;5;124m\"\u001b[39m\u001b[38;5;124mg\u001b[39m\u001b[38;5;124m\"\u001b[39m\n",
      "\u001b[1;31mTypeError\u001b[0m: 'str' object does not support item assignment"
     ]
    }
   ],
   "source": [
    "text[0]=\"g\"# string cannot be changed partially"
   ]
  },
  {
   "cell_type": "code",
   "execution_count": 43,
   "id": "02b0fb0c-ad40-4b98-9e0e-62425625ce81",
   "metadata": {},
   "outputs": [
    {
     "data": {
      "text/plain": [
       "'ce c'"
      ]
     },
     "execution_count": 43,
     "metadata": {},
     "output_type": "execute_result"
    }
   ],
   "source": [
    "text[1:5]# start to agher range"
   ]
  },
  {
   "cell_type": "code",
   "execution_count": 45,
   "id": "22b36c01-1feb-4b48-890c-fb52db8391af",
   "metadata": {},
   "outputs": [
    {
     "data": {
      "text/plain": [
       "'ic'"
      ]
     },
     "execution_count": 45,
     "metadata": {},
     "output_type": "execute_result"
    }
   ],
   "source": [
    "text[:2]"
   ]
  },
  {
   "cell_type": "code",
   "execution_count": 57,
   "id": "bfe7acf8-72bd-40c0-b4ab-3dde2aa88cef",
   "metadata": {},
   "outputs": [
    {
     "data": {
      "text/plain": [
       "' shugondha\\nmuradpur\\nchattogram'"
      ]
     },
     "execution_count": 57,
     "metadata": {},
     "output_type": "execute_result"
    }
   ],
   "source": [
    "#multiple line\n",
    "address=''' shugondha\n",
    "muradpur\n",
    "chattogram'''\n",
    "address"
   ]
  },
  {
   "cell_type": "code",
   "execution_count": 59,
   "id": "ac10e6c5-79b0-46a2-87f3-ee4603fff353",
   "metadata": {},
   "outputs": [
    {
     "name": "stdout",
     "output_type": "stream",
     "text": [
      " shugondha\n",
      "muradpur\n",
      "chattogram\n"
     ]
    }
   ],
   "source": [
    "print(address)"
   ]
  },
  {
   "cell_type": "code",
   "execution_count": 61,
   "id": "de926d7f-cb44-4c68-89e7-d2dc2215b17c",
   "metadata": {},
   "outputs": [
    {
     "data": {
      "text/plain": [
       "'hello world'"
      ]
     },
     "execution_count": 61,
     "metadata": {},
     "output_type": "execute_result"
    }
   ],
   "source": [
    "s1='hello'\n",
    "s2='world'\n",
    "s1+' '+s2"
   ]
  },
  {
   "cell_type": "code",
   "execution_count": 63,
   "id": "45c2a0b6-6295-4021-9d70-0b53fbd163d8",
   "metadata": {},
   "outputs": [
    {
     "ename": "TypeError",
     "evalue": "can only concatenate str (not \"int\") to str",
     "output_type": "error",
     "traceback": [
      "\u001b[1;31m---------------------------------------------------------------------------\u001b[0m",
      "\u001b[1;31mTypeError\u001b[0m                                 Traceback (most recent call last)",
      "Cell \u001b[1;32mIn[63], line 4\u001b[0m\n\u001b[0;32m      2\u001b[0m s\u001b[38;5;241m=\u001b[39m\u001b[38;5;124m'\u001b[39m\u001b[38;5;124mtotal number of shop:\u001b[39m\u001b[38;5;124m'\u001b[39m\n\u001b[0;32m      3\u001b[0m num\u001b[38;5;241m=\u001b[39m\u001b[38;5;241m25\u001b[39m\n\u001b[1;32m----> 4\u001b[0m s\u001b[38;5;241m+\u001b[39mnum\n",
      "\u001b[1;31mTypeError\u001b[0m: can only concatenate str (not \"int\") to str"
     ]
    }
   ],
   "source": [
    "## integer + string in same sentence\n",
    "s='total number of shop:'\n",
    "num=25\n",
    "s+num"
   ]
  },
  {
   "cell_type": "code",
   "execution_count": 65,
   "id": "810edd33-b3d8-4780-a09a-983aeb0b5ddf",
   "metadata": {},
   "outputs": [
    {
     "data": {
      "text/plain": [
       "'25'"
      ]
     },
     "execution_count": 65,
     "metadata": {},
     "output_type": "execute_result"
    }
   ],
   "source": [
    "str(num)"
   ]
  },
  {
   "cell_type": "code",
   "execution_count": 67,
   "id": "15321e65-1d0c-462f-84aa-9c2b675b0ab8",
   "metadata": {},
   "outputs": [
    {
     "data": {
      "text/plain": [
       "'total number of shop:25'"
      ]
     },
     "execution_count": 67,
     "metadata": {},
     "output_type": "execute_result"
    }
   ],
   "source": [
    "s+str(num)"
   ]
  },
  {
   "cell_type": "code",
   "execution_count": 69,
   "id": "d3a20d41-930e-4901-8ca6-65522e17cc94",
   "metadata": {},
   "outputs": [
    {
     "name": "stdout",
     "output_type": "stream",
     "text": [
      "Address using + operator: 13 patli gali\n",
      "New Delhi\n",
      "India\n"
     ]
    }
   ],
   "source": [
    "street = \"13 patli gali\"\n",
    "city = \"New Delhi\"\n",
    "country = \"India\"\n",
    "address = street + '\\n' + city + '\\n' + country\n",
    "print(\"Address using + operator:\",address)"
   ]
  },
  {
   "cell_type": "code",
   "execution_count": 71,
   "id": "0b775bbb-8ee6-4254-87e5-f24ef27d0541",
   "metadata": {},
   "outputs": [
    {
     "name": "stdout",
     "output_type": "stream",
     "text": [
      "revolves\n",
      "sun\n"
     ]
    }
   ],
   "source": [
    "s='Earth revolves around the sun'\n",
    "print(s[6:14])\n",
    "print(s[-3:])"
   ]
  },
  {
   "cell_type": "code",
   "execution_count": 75,
   "id": "0593f392-d86a-4294-b0e6-376df1b610cb",
   "metadata": {},
   "outputs": [
    {
     "name": "stdout",
     "output_type": "stream",
     "text": [
      "I eat {num_veggies} veggies and {num_fruits} daily\n"
     ]
    }
   ],
   "source": [
    "# Now Print \"I eat x veggies and y fruits daily\" where x and y presents vegetables and fruits that you eat everyday.\n",
    "# Use python f string for this.\n",
    "num_fruits=10\n",
    "num_veggies=5\n",
    "print(\"I eat {num_veggies} veggies and {num_fruits} daily\")"
   ]
  },
  {
   "cell_type": "code",
   "execution_count": 79,
   "id": "d3848458-a6a1-45e5-80e5-575744348f84",
   "metadata": {},
   "outputs": [
    {
     "name": "stdout",
     "output_type": "stream",
     "text": [
      "I eat 5 veggies and 10 daily\n"
     ]
    }
   ],
   "source": [
    "## have to use f\n",
    "print(f\"I eat {num_veggies} veggies and {num_fruits} daily\")"
   ]
  },
  {
   "cell_type": "code",
   "execution_count": 81,
   "id": "b3379e06-0ec6-4e15-8238-aa5f80afa691",
   "metadata": {},
   "outputs": [
    {
     "name": "stdout",
     "output_type": "stream",
     "text": [
      "Using two line replace: maine 10 samosa khaye\n"
     ]
    }
   ],
   "source": [
    "# 4. I have a string variable called s='maine 200 banana khaye'. This of course is a\n",
    "# wrong statement, the correct statement is 'maine 10 samosa khaye'.\n",
    "# Replace incorrect words in original strong with new ones and print the new string.\n",
    "# Also try to do this in one line.\n",
    "s='maine 200 banana khaye'\n",
    "s=s.replace('banana','samosa')\n",
    "s=s.replace('200','10')\n",
    "print(\"Using two line replace:\",s)"
   ]
  },
  {
   "cell_type": "markdown",
   "id": "bfab89a0-7a2b-4e02-a6dd-bbff7137e843",
   "metadata": {},
   "source": [
    "# list"
   ]
  },
  {
   "cell_type": "code",
   "execution_count": 119,
   "id": "8e21fbe9-6254-4e28-b3b1-6a91454d4f0e",
   "metadata": {},
   "outputs": [],
   "source": [
    "items=['aisha','barbie','hola','zendaya']                                                "
   ]
  },
  {
   "cell_type": "code",
   "execution_count": 121,
   "id": "7b8230fb-7ee3-40f1-96d2-87528f11695b",
   "metadata": {},
   "outputs": [
    {
     "data": {
      "text/plain": [
       "'hola'"
      ]
     },
     "execution_count": 121,
     "metadata": {},
     "output_type": "execute_result"
    }
   ],
   "source": [
    "items[2]"
   ]
  },
  {
   "cell_type": "code",
   "execution_count": 123,
   "id": "90bcdac4-b076-44b4-aa2b-d5f4eaa84e56",
   "metadata": {},
   "outputs": [],
   "source": [
    "items[0]='janala'"
   ]
  },
  {
   "cell_type": "code",
   "execution_count": 125,
   "id": "b2f73a63-7641-4243-bd5f-866babcd7632",
   "metadata": {},
   "outputs": [
    {
     "data": {
      "text/plain": [
       "['janala', 'barbie', 'hola', 'zendaya']"
      ]
     },
     "execution_count": 125,
     "metadata": {},
     "output_type": "execute_result"
    }
   ],
   "source": [
    "items"
   ]
  },
  {
   "cell_type": "code",
   "execution_count": 127,
   "id": "14cd1889-559b-4886-9d6a-e9ba4439e926",
   "metadata": {},
   "outputs": [
    {
     "data": {
      "text/plain": [
       "'zendaya'"
      ]
     },
     "execution_count": 127,
     "metadata": {},
     "output_type": "execute_result"
    }
   ],
   "source": [
    "items[-1]"
   ]
  },
  {
   "cell_type": "code",
   "execution_count": 129,
   "id": "faa1e6ae-f635-4581-999c-8ab2b0355eda",
   "metadata": {},
   "outputs": [
    {
     "data": {
      "text/plain": [
       "['janala', 'barbie', 'hola', 'zendaya', 'rocksana']"
      ]
     },
     "execution_count": 129,
     "metadata": {},
     "output_type": "execute_result"
    }
   ],
   "source": [
    " ###last e add\n",
    "items.append('rocksana')\n",
    "items"
   ]
  },
  {
   "cell_type": "code",
   "execution_count": 131,
   "id": "c619499d-9547-4806-a38d-6586b1c16073",
   "metadata": {},
   "outputs": [
    {
     "data": {
      "text/plain": [
       "['janala', 'handa', 'barbie', 'hola', 'zendaya', 'rocksana']"
      ]
     },
     "execution_count": 131,
     "metadata": {},
     "output_type": "execute_result"
    }
   ],
   "source": [
    "###insert\n",
    "items.insert(1,'handa')\n",
    "items"
   ]
  },
  {
   "cell_type": "code",
   "execution_count": 135,
   "id": "2fd4f8c6-106d-4ba0-861f-0b2d0656f3fa",
   "metadata": {},
   "outputs": [
    {
     "data": {
      "text/plain": [
       "['soda', 'lemon', 'grass', 'acuator', 'concort']"
      ]
     },
     "execution_count": 135,
     "metadata": {},
     "output_type": "execute_result"
    }
   ],
   "source": [
    "j1=['soda','lemon','grass']\n",
    "j2=['acuator','concort']\n",
    "j=j1+j2\n",
    "j"
   ]
  },
  {
   "cell_type": "code",
   "execution_count": 137,
   "id": "b9183e49-3571-457c-9cd4-9cb3ac449a66",
   "metadata": {},
   "outputs": [
    {
     "data": {
      "text/plain": [
       "5"
      ]
     },
     "execution_count": 137,
     "metadata": {},
     "output_type": "execute_result"
    }
   ],
   "source": [
    "len(j)"
   ]
  },
  {
   "cell_type": "code",
   "execution_count": 141,
   "id": "17daded2-aa20-46d8-a285-4b753c299471",
   "metadata": {},
   "outputs": [
    {
     "data": {
      "text/plain": [
       "False"
      ]
     },
     "execution_count": 141,
     "metadata": {},
     "output_type": "execute_result"
    }
   ],
   "source": [
    "## lookup in the list\n",
    "'soda' in items"
   ]
  },
  {
   "cell_type": "code",
   "execution_count": 143,
   "id": "d99ad8a3-85da-4f40-9ae6-407bfa4aff51",
   "metadata": {},
   "outputs": [
    {
     "data": {
      "text/plain": [
       "True"
      ]
     },
     "execution_count": 143,
     "metadata": {},
     "output_type": "execute_result"
    }
   ],
   "source": [
    "'handa' in items"
   ]
  },
  {
   "cell_type": "code",
   "execution_count": 145,
   "id": "03afcd4f-ed41-43e5-bc91-e1be741d691b",
   "metadata": {},
   "outputs": [
    {
     "data": {
      "text/plain": [
       "[2200, 2350, 2600, 1980, 2190]"
      ]
     },
     "execution_count": 145,
     "metadata": {},
     "output_type": "execute_result"
    }
   ],
   "source": [
    "exp = [2200,2350,2600,2130,2190]\n",
    "exp[3]=1980\n",
    "exp"
   ]
  },
  {
   "cell_type": "code",
   "execution_count": 176,
   "id": "6761b83f-4f12-4eba-97a0-0f13a833a9a8",
   "metadata": {},
   "outputs": [
    {
     "data": {
      "text/plain": [
       "['spider man', 'hulk', 'iron man', 'captain america']"
      ]
     },
     "execution_count": 176,
     "metadata": {},
     "output_type": "execute_result"
    }
   ],
   "source": [
    "heros=['spider man','thor','hulk','iron man','captain america']\n",
    "heros.remove('thor')\n",
    "heros"
   ]
  },
  {
   "cell_type": "code",
   "execution_count": 178,
   "id": "95718840-216e-4bd2-bd13-ddca2de78052",
   "metadata": {},
   "outputs": [
    {
     "data": {
      "text/plain": [
       "['__add__',\n",
       " '__class__',\n",
       " '__class_getitem__',\n",
       " '__contains__',\n",
       " '__delattr__',\n",
       " '__delitem__',\n",
       " '__dir__',\n",
       " '__doc__',\n",
       " '__eq__',\n",
       " '__format__',\n",
       " '__ge__',\n",
       " '__getattribute__',\n",
       " '__getitem__',\n",
       " '__getstate__',\n",
       " '__gt__',\n",
       " '__hash__',\n",
       " '__iadd__',\n",
       " '__imul__',\n",
       " '__init__',\n",
       " '__init_subclass__',\n",
       " '__iter__',\n",
       " '__le__',\n",
       " '__len__',\n",
       " '__lt__',\n",
       " '__mul__',\n",
       " '__ne__',\n",
       " '__new__',\n",
       " '__reduce__',\n",
       " '__reduce_ex__',\n",
       " '__repr__',\n",
       " '__reversed__',\n",
       " '__rmul__',\n",
       " '__setattr__',\n",
       " '__setitem__',\n",
       " '__sizeof__',\n",
       " '__str__',\n",
       " '__subclasshook__',\n",
       " 'append',\n",
       " 'clear',\n",
       " 'copy',\n",
       " 'count',\n",
       " 'extend',\n",
       " 'index',\n",
       " 'insert',\n",
       " 'pop',\n",
       " 'remove',\n",
       " 'reverse',\n",
       " 'sort']"
      ]
     },
     "execution_count": 178,
     "metadata": {},
     "output_type": "execute_result"
    }
   ],
   "source": [
    "dir(heros)#list of all the functions available"
   ]
  },
  {
   "cell_type": "code",
   "execution_count": 155,
   "id": "4565fcee-0be8-4917-aabb-c6bfa8aa775b",
   "metadata": {},
   "outputs": [
    {
     "data": {
      "text/plain": [
       "['captain america', 'hulk', 'iron man', 'spider man']"
      ]
     },
     "execution_count": 155,
     "metadata": {},
     "output_type": "execute_result"
    }
   ],
   "source": [
    "heros.sort()##in alphabatecal order\n",
    "heros"
   ]
  },
  {
   "cell_type": "code",
   "execution_count": 202,
   "id": "2a62ff48-3d96-4f13-8064-fa7ff999d888",
   "metadata": {},
   "outputs": [
    {
     "name": "stdin",
     "output_type": "stream",
     "text": [
      "Enter the number/string: 12efg\n"
     ]
    }
   ],
   "source": [
    "write=input('Enter the number/string:')"
   ]
  },
  {
   "cell_type": "code",
   "execution_count": 206,
   "id": "60a46a4c-bbe0-474c-acc9-1e4d8d2ba2b7",
   "metadata": {},
   "outputs": [
    {
     "data": {
      "text/plain": [
       "'12efg'"
      ]
     },
     "execution_count": 206,
     "metadata": {},
     "output_type": "execute_result"
    }
   ],
   "source": [
    "write #basically it is a string\n"
   ]
  },
  {
   "cell_type": "code",
   "execution_count": 208,
   "id": "8e48fd89-8284-4630-ba35-6adf213d5405",
   "metadata": {},
   "outputs": [
    {
     "name": "stdin",
     "output_type": "stream",
     "text": [
      " 23\n"
     ]
    }
   ],
   "source": [
    "num=input()"
   ]
  },
  {
   "cell_type": "code",
   "execution_count": 210,
   "id": "1e6b4865-10ba-4833-a6b0-51b4b8fbe9b5",
   "metadata": {},
   "outputs": [
    {
     "data": {
      "text/plain": [
       "'23'"
      ]
     },
     "execution_count": 210,
     "metadata": {},
     "output_type": "execute_result"
    }
   ],
   "source": [
    "num"
   ]
  },
  {
   "cell_type": "code",
   "execution_count": 212,
   "id": "9f4940f3-1f55-4c2c-bfa7-a91457d14165",
   "metadata": {},
   "outputs": [],
   "source": [
    "num=int(num)"
   ]
  },
  {
   "cell_type": "code",
   "execution_count": 214,
   "id": "fd75cd00-4d77-4d26-9c1f-c3cb56c0520b",
   "metadata": {},
   "outputs": [
    {
     "data": {
      "text/plain": [
       "23"
      ]
     },
     "execution_count": 214,
     "metadata": {},
     "output_type": "execute_result"
    }
   ],
   "source": [
    "num"
   ]
  },
  {
   "cell_type": "code",
   "execution_count": 216,
   "id": "fa034258-f084-4505-a204-4880bf1d7ffc",
   "metadata": {},
   "outputs": [
    {
     "name": "stdout",
     "output_type": "stream",
     "text": [
      "odd\n"
     ]
    }
   ],
   "source": [
    "if num%2==0:\n",
    "    print('even')\n",
    "else:\n",
    "    print('odd')"
   ]
  },
  {
   "cell_type": "code",
   "execution_count": 220,
   "id": "08ab7c3f-fde2-497a-b9b9-0d855cd99c07",
   "metadata": {},
   "outputs": [
    {
     "data": {
      "text/plain": [
       "False"
      ]
     },
     "execution_count": 220,
     "metadata": {},
     "output_type": "execute_result"
    }
   ],
   "source": [
    "3>2 and 4<1"
   ]
  },
  {
   "cell_type": "code",
   "execution_count": 222,
   "id": "fc5d11ce-d5da-4a38-bbc8-34c03c2d8185",
   "metadata": {},
   "outputs": [
    {
     "data": {
      "text/plain": [
       "True"
      ]
     },
     "execution_count": 222,
     "metadata": {},
     "output_type": "execute_result"
    }
   ],
   "source": [
    "4!=7"
   ]
  },
  {
   "cell_type": "markdown",
   "id": "401147f7-991f-404b-82c9-22d779fd64b1",
   "metadata": {},
   "source": [
    "**if else**"
   ]
  },
  {
   "cell_type": "code",
   "execution_count": 233,
   "id": "36652255-cda1-43c0-bd1f-4a64d8f0e028",
   "metadata": {},
   "outputs": [
    {
     "name": "stdin",
     "output_type": "stream",
     "text": [
      " wdw\n"
     ]
    },
    {
     "name": "stdout",
     "output_type": "stream",
     "text": [
      "not in list wdw\n"
     ]
    }
   ],
   "source": [
    "indian=['ju','nu','da']\n",
    "chinese=['nh','sh']\n",
    "italian=['ty']\n",
    "dish=input()\n",
    "if dish in indian:\n",
    "    print('indian',dish)\n",
    "elif dish in chinese:\n",
    "     print('chinese',dish)\n",
    "elif dish in italian:\n",
    "     print('italian',dish)\n",
    "else:\n",
    "    print('not in list',dish)"
   ]
  },
  {
   "cell_type": "markdown",
   "id": "d152ba87-a1ba-4890-9e27-43b8e6cce7c6",
   "metadata": {},
   "source": [
    " # for loop"
   ]
  },
  {
   "cell_type": "code",
   "execution_count": 10,
   "id": "8179d13c-b291-47b6-a071-d69895ea0d7d",
   "metadata": {},
   "outputs": [
    {
     "name": "stdout",
     "output_type": "stream",
     "text": [
      "16443\n"
     ]
    }
   ],
   "source": [
    "exp=[2300,3455,3222,2900,4566]\n",
    "total=0\n",
    "for i in exp:\n",
    "    total=total+i\n",
    "print(total)"
   ]
  },
  {
   "cell_type": "code",
   "execution_count": 29,
   "id": "9e964558-bc90-44ca-af83-428b59c8b61e",
   "metadata": {},
   "outputs": [
    {
     "name": "stdout",
     "output_type": "stream",
     "text": [
      "1\n",
      "2\n",
      "3\n",
      "4\n",
      "5\n",
      "6\n",
      "7\n",
      "8\n",
      "9\n",
      "10\n"
     ]
    }
   ],
   "source": [
    "for j in range(1,11): #start and stop er aghe\n",
    "  print(j)"
   ]
  },
  {
   "cell_type": "code",
   "execution_count": 41,
   "id": "c83099fa-f899-4d25-a904-89eaaf06083b",
   "metadata": {},
   "outputs": [
    {
     "name": "stdout",
     "output_type": "stream",
     "text": [
      "Month: 1 Expense: 2300\n",
      "Month: 2 Expense: 3455\n",
      "Month: 3 Expense: 3222\n",
      "Month: 4 Expense: 2900\n",
      "Month: 5 Expense: 4566\n",
      "Total expense is: 16443\n"
     ]
    }
   ],
   "source": [
    "exp=[2300,3455,3222,2900,4566]\n",
    "total=0\n",
    "for i in range(len(exp)):\n",
    "    print('Month:',i+1,'Expense:',exp[i])\n",
    "    total=total+exp[i]\n",
    "    \n",
    "print('Total expense is:',total)"
   ]
  },
  {
   "cell_type": "code",
   "execution_count": 45,
   "id": "3a07e9a2-7311-4f45-b9c6-ef70ac082222",
   "metadata": {},
   "outputs": [
    {
     "name": "stdin",
     "output_type": "stream",
     "text": [
      " chair\n"
     ]
    },
    {
     "name": "stdout",
     "output_type": "stream",
     "text": [
      "Not found living\n",
      "Not found door\n",
      "found in chair\n"
     ]
    }
   ],
   "source": [
    "key_location=input()\n",
    "location=['living','door','chair','table','backless']\n",
    "for i in location:\n",
    "    if i==key_location:\n",
    "        print('found in',i)\n",
    "        break##use break when goal is achieve and you want to terminate\n",
    "    else:\n",
    "        print('Not found',i)"
   ]
  },
  {
   "cell_type": "code",
   "execution_count": 47,
   "id": "096a8f38-fba9-4f67-bbc1-22d7b66d799c",
   "metadata": {},
   "outputs": [],
   "source": [
    "## for skip operations use continue"
   ]
  },
  {
   "cell_type": "code",
   "execution_count": 9,
   "id": "f6717696-c9c6-4677-8a11-083ee661736a",
   "metadata": {},
   "outputs": [
    {
     "name": "stdout",
     "output_type": "stream",
     "text": [
      "1\n",
      "3\n",
      "5\n"
     ]
    }
   ],
   "source": [
    "## let's skip even nyumber\n",
    "for i in range(1,6):\n",
    " if i%2==0:\n",
    "    continue\n",
    " print(i)"
   ]
  },
  {
   "cell_type": "code",
   "execution_count": 17,
   "id": "5c8fed13-f8d6-4ffd-ab6f-1d05caf13bc9",
   "metadata": {},
   "outputs": [
    {
     "name": "stdout",
     "output_type": "stream",
     "text": [
      "1\n",
      "2\n",
      "3\n",
      "4\n",
      "5\n"
     ]
    }
   ],
   "source": [
    "## while loop takes only one condition\n",
    "i=1\n",
    "while i<=5:\n",
    "    print(i)\n",
    "    i=i+1"
   ]
  },
  {
   "cell_type": "code",
   "execution_count": 44,
   "id": "4463cbaa-baa3-44ea-8dfa-eba1c4a14298",
   "metadata": {},
   "outputs": [
    {
     "name": "stdout",
     "output_type": "stream",
     "text": [
      "4\n"
     ]
    }
   ],
   "source": [
    "#After flipping a coin 10 times you got this result,\n",
    "result = [\"heads\",\"tails\",\"tails\",\"heads\",\"tails\",\"heads\",\"heads\",\"tails\",\"tails\",\"tails\"]\n",
    "#Using for loop figure out how many times you got heads\n",
    "j=0\n",
    "for i in result:\n",
    "    if i=='heads':\n",
    "        j+=1\n",
    "print(j)        "
   ]
  },
  {
   "cell_type": "code",
   "execution_count": 12,
   "id": "71428ff2-b09b-40a7-a835-79f568f7b51a",
   "metadata": {},
   "outputs": [
    {
     "name": "stdin",
     "output_type": "stream",
     "text": [
      " 2500\n"
     ]
    },
    {
     "name": "stdout",
     "output_type": "stream",
     "text": [
      "expense did not occur\n",
      "expense occur in 2 month\n",
      "expense did not occur\n",
      "expense did not occur\n",
      "expense did not occur\n"
     ]
    }
   ],
   "source": [
    "#Your monthly expense list (from Jan to May) looks like this,\n",
    "\n",
    "expense_list = [2340, 2500, 2100, 3100, 2980]\n",
    "##Write a program that asks you to enter an expense amount and program should tell you in which month that expense occurred. If expense is not found then it should print that as well.\n",
    "\n",
    "expense=input()\n",
    "expense=int(expense)\n",
    "for i in range(len(expense_list)):\n",
    "     if expense_list[i]==expense:\n",
    "        print(f'expense occur in {i+1} month')\n",
    "       \n",
    "        \n",
    "     else:\n",
    "      print('expense did not occur') \n",
    "\n",
    "\n",
    "\n",
    "    \n",
    "\n"
   ]
  },
  {
   "cell_type": "code",
   "execution_count": 70,
   "id": "9dfb98e6-aa36-4df8-8eb1-123fc632ed5c",
   "metadata": {},
   "outputs": [
    {
     "name": "stdin",
     "output_type": "stream",
     "text": [
      " 2100\n"
     ]
    },
    {
     "name": "stdout",
     "output_type": "stream",
     "text": [
      "expense: 2100 occur in 3 month\n"
     ]
    }
   ],
   "source": [
    "expense_list = [2340, 2500, 2100, 3100, 2980]\n",
    "expense=input()\n",
    "expense=int(expense)\n",
    "month=-1\n",
    "for i in range(len(expense_list)):\n",
    "     if expense_list[i]==expense:\n",
    "        month=i\n",
    "        break\n",
    "\n",
    "if month!=-1:\n",
    "    print(f'expense: {expense} occur in {month+1} month')\n",
    "\n",
    "else:\n",
    "    print('Didnot occur')\n",
    "       \n",
    "        \n",
    "    "
   ]
  },
  {
   "cell_type": "code",
   "execution_count": 72,
   "id": "23156b4a-2303-4563-af2a-3559acadbf8a",
   "metadata": {},
   "outputs": [
    {
     "data": {
      "text/plain": [
       "'Lets say you are running a 5 km race. Write a program that,\\n\\nUpon completing each 1 km asks you \"are you tired?\"\\nIf you reply \"yes\" then it should break and print \"you didn\\'t finish the race\"\\nIf you reply \"no\" then it should continue and ask \"are you tired\" on every km\\nIf you finish all 5 km then it should print congratulations message'"
      ]
     },
     "execution_count": 72,
     "metadata": {},
     "output_type": "execute_result"
    }
   ],
   "source": [
    "'''Lets say you are running a 5 km race. Write a program that,\n",
    "\n",
    "Upon completing each 1 km asks you \"are you tired?\"\n",
    "If you reply \"yes\" then it should break and print \"you didn't finish the race\"\n",
    "If you reply \"no\" then it should continue and ask \"are you tired\" on every km\n",
    "If you finish all 5 km then it should print a congratulations message'''\n"
   ]
  },
  {
   "cell_type": "code",
   "execution_count": 86,
   "id": "ca1a9464-432f-48b3-8f5d-2255d36cbf09",
   "metadata": {},
   "outputs": [
    {
     "name": "stdout",
     "output_type": "stream",
     "text": [
      "are you tired?\n"
     ]
    },
    {
     "name": "stdin",
     "output_type": "stream",
     "text": [
      " no\n"
     ]
    },
    {
     "name": "stdout",
     "output_type": "stream",
     "text": [
      "are you tired?\n"
     ]
    },
    {
     "name": "stdin",
     "output_type": "stream",
     "text": [
      " yes\n"
     ]
    },
    {
     "name": "stdout",
     "output_type": "stream",
     "text": [
      "you didn't finish the race\n"
     ]
    }
   ],
   "source": [
    "j=0\n",
    "for i in range(1,6):\n",
    "    print('are you tired?')\n",
    "    ans=input()\n",
    "    if ans==\"yes\":\n",
    "        j=1\n",
    "        break\n",
    "\n",
    "if j==1:\n",
    "    print(\"you didn't finish the race\")\n",
    "\n",
    "else:\n",
    " print('congratulations')    \n",
    "     \n",
    "\n",
    "\n"
   ]
  },
  {
   "cell_type": "code",
   "execution_count": 94,
   "id": "07955606-60fd-4139-abeb-8f24ddfa5066",
   "metadata": {},
   "outputs": [
    {
     "name": "stdout",
     "output_type": "stream",
     "text": [
      "You ran 1 miles\n"
     ]
    },
    {
     "name": "stdin",
     "output_type": "stream",
     "text": [
      "Are you tired?  no\n"
     ]
    },
    {
     "name": "stdout",
     "output_type": "stream",
     "text": [
      "You ran 2 miles\n"
     ]
    },
    {
     "name": "stdin",
     "output_type": "stream",
     "text": [
      "Are you tired?  no\n"
     ]
    },
    {
     "name": "stdout",
     "output_type": "stream",
     "text": [
      "You ran 3 miles\n"
     ]
    },
    {
     "name": "stdin",
     "output_type": "stream",
     "text": [
      "Are you tired?  yes\n"
     ]
    },
    {
     "name": "stdout",
     "output_type": "stream",
     "text": [
      "You didn't finish 5 km race but hey congrats anyways! You still ran 2 miles\n"
     ]
    }
   ],
   "source": [
    "for i in range(5):\n",
    "    print(f\"You ran {i+1} miles\") # i starts with zero hence adding 1\n",
    "    tired = input(\"Are you tired? \")\n",
    "    if tired == 'yes':\n",
    "        break\n",
    "\n",
    "if i == 4: # 4 because the index starts from 0\n",
    "    print(\"Hurray! You are a rock star! You just finished 5 km race!\")\n",
    "else:\n",
    "    print(f\"You didn't finish 5 km race but hey congrats anyways! You still ran {5-(i+1)} miles\")"
   ]
  },
  {
   "cell_type": "code",
   "execution_count": 96,
   "id": "6482899f-01a6-4696-8f1e-763f3451f077",
   "metadata": {},
   "outputs": [
    {
     "ename": "SyntaxError",
     "evalue": "unterminated string literal (detected at line 7) (1192970243.py, line 7)",
     "output_type": "error",
     "traceback": [
      "\u001b[1;36m  Cell \u001b[1;32mIn[96], line 7\u001b[1;36m\u001b[0m\n\u001b[1;33m    ***** ''''\u001b[0m\n\u001b[1;37m             ^\u001b[0m\n\u001b[1;31mSyntaxError\u001b[0m\u001b[1;31m:\u001b[0m unterminated string literal (detected at line 7)\n"
     ]
    }
   ],
   "source": [
    "'''Write a program that prints following shape\n",
    "\n",
    "*\n",
    "**\n",
    "***\n",
    "****\n",
    "***** ''''"
   ]
  },
  {
   "cell_type": "code",
   "execution_count": 129,
   "id": "14afef81-6f27-4159-8a13-8fd87098a726",
   "metadata": {},
   "outputs": [
    {
     "name": "stdout",
     "output_type": "stream",
     "text": [
      "*\n",
      "*\n",
      "**\n",
      "*\n",
      "**\n",
      "***\n",
      "*\n",
      "**\n",
      "***\n",
      "****\n",
      "*\n",
      "**\n",
      "***\n",
      "****\n",
      "*****\n"
     ]
    }
   ],
   "source": [
    "for i in range(1,6):\n",
    "    s=''\n",
    "    for j in range(i):\n",
    "        s+='*'\n",
    "        print(s)\n",
    "     \n",
    "    "
   ]
  },
  {
   "cell_type": "code",
   "execution_count": 184,
   "id": "265b989f-f655-4c92-84ff-845f178b8733",
   "metadata": {},
   "outputs": [
    {
     "name": "stdout",
     "output_type": "stream",
     "text": [
      "*\n",
      "**\n",
      "***\n",
      "****\n",
      "*****\n"
     ]
    }
   ],
   "source": [
    "\n",
    "for i in range(1,6):\n",
    "    s = ''\n",
    "    for j in range(i):\n",
    "        s += '*'\n",
    "    print(s)"
   ]
  },
  {
   "cell_type": "code",
   "execution_count": 190,
   "id": "dd52bad2-6fbb-4599-835d-0a335385f0b8",
   "metadata": {},
   "outputs": [
    {
     "name": "stdout",
     "output_type": "stream",
     "text": [
      "*****\n"
     ]
    }
   ],
   "source": [
    "for i in range(1,6):\n",
    "    s = ''\n",
    "    for j in range(i):\n",
    "        s += '*'\n",
    "print(s)"
   ]
  },
  {
   "cell_type": "markdown",
   "id": "5deb5716-e835-4431-b6ac-e419a4452a18",
   "metadata": {},
   "source": [
    "# Function"
   ]
  },
  {
   "cell_type": "code",
   "execution_count": 3,
   "id": "88bc4f95-d73b-4410-babd-d0146de0dfb1",
   "metadata": {},
   "outputs": [],
   "source": [
    "## use def"
   ]
  },
  {
   "cell_type": "code",
   "execution_count": 11,
   "id": "10747580-2319-4599-b7f5-f7360926cc59",
   "metadata": {},
   "outputs": [
    {
     "name": "stdout",
     "output_type": "stream",
     "text": [
      "24587 15522\n"
     ]
    },
    {
     "ename": "NameError",
     "evalue": "name 'total' is not defined",
     "output_type": "error",
     "traceback": [
      "\u001b[1;31m---------------------------------------------------------------------------\u001b[0m",
      "\u001b[1;31mNameError\u001b[0m                                 Traceback (most recent call last)",
      "Cell \u001b[1;32mIn[11], line 11\u001b[0m\n\u001b[0;32m      9\u001b[0m j2_total\u001b[38;5;241m=\u001b[39mcal_total(j2)\n\u001b[0;32m     10\u001b[0m \u001b[38;5;28mprint\u001b[39m(j1_total,j2_total)\n\u001b[1;32m---> 11\u001b[0m \u001b[38;5;28mprint\u001b[39m(total)\n",
      "\u001b[1;31mNameError\u001b[0m: name 'total' is not defined"
     ]
    }
   ],
   "source": [
    "def cal_total(exp):\n",
    "    total=0##local ariable\n",
    "    for i in exp:\n",
    "        total+=i\n",
    "    return total\n",
    "j1=[2100,2345,4567,5678,9897]\n",
    "j2=[1212,4321,3445,6544]\n",
    "j1_total=cal_total(j1)\n",
    "j2_total=cal_total(j2)\n",
    "print(j1_total,j2_total)\n",
    "print(total)## as local variable not define outside the function\n",
    "\n",
    "\n",
    "    "
   ]
  },
  {
   "cell_type": "code",
   "execution_count": 42,
   "id": "a40e3be3-36d2-40f9-a19a-d510558543ba",
   "metadata": {},
   "outputs": [
    {
     "name": "stdout",
     "output_type": "stream",
     "text": [
      "inside total 5\n",
      "outside total 0\n"
     ]
    }
   ],
   "source": [
    "total=0\n",
    "def sum(a,b=0):## default value for second argument when argument is not pass\n",
    "    total=a+b##local variable\n",
    "    print('inside total',total)\n",
    "    return total\n",
    "\n",
    "n=sum(5)\n",
    "print('outside total',total)\n"
   ]
  },
  {
   "cell_type": "code",
   "execution_count": null,
   "id": "b8c4c1b0-f463-4799-8cb7-361cc7d2f585",
   "metadata": {},
   "outputs": [],
   "source": [
    "'''\n",
    "Write a function called calculate_area that takes base and height as an input and returns and area of a triangle. Equation of an area of a triangle is,\n",
    "area = (1/2)*base*height\n",
    "Modify above function to take third parameter shape type. It can be either \"triangle\" or \"rectangle\". Based on shape type it will calculate area. Equation of rectangle's area is,\n",
    "rectangle area=length*width\n",
    "'''"
   ]
  },
  {
   "cell_type": "code",
   "execution_count": 6,
   "id": "b1022576-f993-4894-b0fb-bb5dc3152cbd",
   "metadata": {},
   "outputs": [
    {
     "name": "stdout",
     "output_type": "stream",
     "text": [
      "Area of rectangle is: 600\n",
      "Area of triangle with no shape supplied:  25.0\n"
     ]
    }
   ],
   "source": [
    "def calculate_area(dimension1,dimension2,shape=\"triangle\"):\n",
    "   \n",
    "    if shape==\"triangle\":\n",
    "        area=1/2*(dimension1*dimension2) # Triangle area is : 1/2(Base*Height)\n",
    "    elif shape==\"rectangle\":\n",
    "        area=dimension1*dimension2 # Rectangle area is: Length*Width\n",
    "    else:\n",
    "        print(\"Error: Input shape is neither triangle nor rectangle.\")\n",
    "        area=None # If user didn't supply \"triangle\" or \"rectangle\" as shape then return None\n",
    "    return area\n",
    "\n",
    "length=20\n",
    "width=30\n",
    "rectangle_area=calculate_area(length,width,\"rectangle\")\n",
    "print(\"Area of rectangle is:\",rectangle_area)\n",
    "base=10\n",
    "height=5\n",
    "triangle_area=calculate_area(base,height) # Here third argument is missing\n",
    "print(\"Area of triangle with no shape supplied: \",triangle_area)\n",
    "\n",
    "\n",
    "\n"
   ]
  },
  {
   "cell_type": "code",
   "execution_count": 21,
   "id": "33272e24-cc0f-4d7b-9645-c933916de960",
   "metadata": {},
   "outputs": [
    {
     "name": "stdin",
     "output_type": "stream",
     "text": [
      " 4\n"
     ]
    },
    {
     "name": "stdout",
     "output_type": "stream",
     "text": [
      "\n",
      "*\n",
      "**\n",
      "***\n",
      "****\n"
     ]
    }
   ],
   "source": [
    "#Write a function called print_pattern that takes integer number as an argument and prints following pattern \n",
    "def print_pattern(num):\n",
    "    for i in range(num+1):\n",
    "        s=''\n",
    "        for j in range(i):\n",
    "             s+='*'\n",
    "        print(s)\n",
    "        \n",
    "num=int(input())\n",
    "print_pattern(num)\n"
   ]
  },
  {
   "cell_type": "code",
   "execution_count": 23,
   "id": "1b915427-0b9f-4e33-94a1-315914a82c65",
   "metadata": {},
   "outputs": [
    {
     "name": "stdin",
     "output_type": "stream",
     "text": [
      " 4\n"
     ]
    },
    {
     "ename": "TypeError",
     "evalue": "object of type 'int' has no len()",
     "output_type": "error",
     "traceback": [
      "\u001b[1;31m---------------------------------------------------------------------------\u001b[0m",
      "\u001b[1;31mTypeError\u001b[0m                                 Traceback (most recent call last)",
      "Cell \u001b[1;32mIn[23], line 9\u001b[0m\n\u001b[0;32m      6\u001b[0m         \u001b[38;5;28mprint\u001b[39m(s)\n\u001b[0;32m      8\u001b[0m num\u001b[38;5;241m=\u001b[39m\u001b[38;5;28mint\u001b[39m(\u001b[38;5;28minput\u001b[39m())\n\u001b[1;32m----> 9\u001b[0m print_pattern(num)\n",
      "Cell \u001b[1;32mIn[23], line 2\u001b[0m, in \u001b[0;36mprint_pattern\u001b[1;34m(num)\u001b[0m\n\u001b[0;32m      1\u001b[0m \u001b[38;5;28;01mdef\u001b[39;00m \u001b[38;5;21mprint_pattern\u001b[39m(num):\n\u001b[1;32m----> 2\u001b[0m     \u001b[38;5;28;01mfor\u001b[39;00m i \u001b[38;5;129;01min\u001b[39;00m \u001b[38;5;28mrange\u001b[39m(\u001b[38;5;28mlen\u001b[39m(num)):\n\u001b[0;32m      3\u001b[0m         s\u001b[38;5;241m=\u001b[39m\u001b[38;5;124m'\u001b[39m\u001b[38;5;124m'\u001b[39m\n\u001b[0;32m      4\u001b[0m         \u001b[38;5;28;01mfor\u001b[39;00m j \u001b[38;5;129;01min\u001b[39;00m \u001b[38;5;28mrange\u001b[39m(i):\n",
      "\u001b[1;31mTypeError\u001b[0m: object of type 'int' has no len()"
     ]
    }
   ],
   "source": [
    "def print_pattern(num):\n",
    "    for i in range(len(num)):\n",
    "        s=''\n",
    "        for j in range(i):\n",
    "             s+='*'\n",
    "        print(s)\n",
    "        \n",
    "num=int(input())\n",
    "print_pattern(num)\n"
   ]
  },
  {
   "cell_type": "code",
   "execution_count": 25,
   "id": "82e251b4-9514-4e7c-8a3d-7fe042f9f548",
   "metadata": {},
   "outputs": [],
   "source": [
    "##The error occurs because len() is used on an integer in your print_pattern function. \n",
    "#len() is meant for sequences (like strings, lists, etc.) and doesn't work on integers."
   ]
  },
  {
   "cell_type": "code",
   "execution_count": 27,
   "id": "5004c733-30fe-471c-be3a-4d4d2aaee55c",
   "metadata": {},
   "outputs": [
    {
     "name": "stdin",
     "output_type": "stream",
     "text": [
      "Enter a number:  3\n"
     ]
    },
    {
     "name": "stdout",
     "output_type": "stream",
     "text": [
      "\n",
      "*\n",
      "**\n"
     ]
    }
   ],
   "source": [
    "def print_pattern(num):\n",
    "    for i in range(num):  # No need to use len()\n",
    "        s = ''\n",
    "        for j in range(i):\n",
    "            s += '*'\n",
    "        print(s)\n",
    "        \n",
    "num = int(input(\"Enter a number: \"))\n",
    "print_pattern(num)\n"
   ]
  },
  {
   "cell_type": "code",
   "execution_count": null,
   "id": "81b0d2b1-566b-4bdc-9a2f-e509fd7f1bfd",
   "metadata": {},
   "outputs": [],
   "source": []
  }
 ],
 "metadata": {
  "kernelspec": {
   "display_name": "Python 3 (ipykernel)",
   "language": "python",
   "name": "python3"
  },
  "language_info": {
   "codemirror_mode": {
    "name": "ipython",
    "version": 3
   },
   "file_extension": ".py",
   "mimetype": "text/x-python",
   "name": "python",
   "nbconvert_exporter": "python",
   "pygments_lexer": "ipython3",
   "version": "3.11.7"
  }
 },
 "nbformat": 4,
 "nbformat_minor": 5
}
