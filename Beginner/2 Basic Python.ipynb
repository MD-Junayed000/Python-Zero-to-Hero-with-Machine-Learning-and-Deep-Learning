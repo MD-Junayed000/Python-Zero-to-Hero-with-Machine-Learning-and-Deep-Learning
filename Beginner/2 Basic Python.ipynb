{
 "cells": [
  {
   "cell_type": "markdown",
   "id": "cebebcf2-8652-4c4d-8dc9-7efbb99c78ff",
   "metadata": {},
   "source": [
    "# Dictionaries"
   ]
  },
  {
   "cell_type": "code",
   "execution_count": null,
   "id": "a8a45808-a33b-4e4b-a59b-50da294cc73b",
   "metadata": {},
   "outputs": [],
   "source": [
    "[]list/array\n",
    "{}dictrinary`\n",
    "()touple"
   ]
  },
  {
   "cell_type": "code",
   "execution_count": 11,
   "id": "8d7ce746-79df-43d2-98bc-59aee3957a35",
   "metadata": {},
   "outputs": [
    {
     "name": "stdout",
     "output_type": "stream",
     "text": [
      "23\n",
      "56\n",
      "78\n",
      "34\n",
      "56\n"
     ]
    }
   ],
   "source": [
    "a=[23,56,78,34,56]\n",
    "for i in a:\n",
    " print(i)"
   ]
  },
  {
   "cell_type": "code",
   "execution_count": 13,
   "id": "37a036a5-0388-452d-a868-84ccf461c9b6",
   "metadata": {},
   "outputs": [
    {
     "name": "stdout",
     "output_type": "stream",
     "text": [
      "23e\n",
      "dc\n",
      "gtre\n"
     ]
    }
   ],
   "source": [
    "a=['23e','dc','gtre']\n",
    "for i in a:\n",
    " print(i)"
   ]
  },
  {
   "cell_type": "code",
   "execution_count": 15,
   "id": "5eb5fe42-4df8-4163-a12d-b4e87a2a79ed",
   "metadata": {},
   "outputs": [
    {
     "data": {
      "text/plain": [
       "'gtre'"
      ]
     },
     "execution_count": 15,
     "metadata": {},
     "output_type": "execute_result"
    }
   ],
   "source": [
    "a[2]"
   ]
  },
  {
   "cell_type": "code",
   "execution_count": 19,
   "id": "2e2965d6-fe25-4e83-911c-b42372db7309",
   "metadata": {},
   "outputs": [
    {
     "data": {
      "text/plain": [
       "123"
      ]
     },
     "execution_count": 19,
     "metadata": {},
     "output_type": "execute_result"
    }
   ],
   "source": [
    "d={'tom':123,'jerry':234,'cude':678}\n",
    "d['tom']# using keys accsessing values"
   ]
  },
  {
   "cell_type": "code",
   "execution_count": 29,
   "id": "869e40be-efe4-41bf-b8ad-583d53c85f73",
   "metadata": {},
   "outputs": [
    {
     "name": "stdout",
     "output_type": "stream",
     "text": [
      "tom 123\n",
      "jerry 234\n",
      "cude 678\n"
     ]
    }
   ],
   "source": [
    "for i in d:\n",
    " print(i,d[i])"
   ]
  },
  {
   "cell_type": "code",
   "execution_count": 32,
   "id": "37a72eec-72a1-46e5-b3c7-8b19395c1659",
   "metadata": {},
   "outputs": [
    {
     "data": {
      "text/plain": [
       "{'tom': 123, 'jerry': 234, 'cude': 678, 'sam': 456}"
      ]
     },
     "execution_count": 32,
     "metadata": {},
     "output_type": "execute_result"
    }
   ],
   "source": [
    "## in dictrinaries order doesn';t matter\n",
    "d['sam']=456\n",
    "d"
   ]
  },
  {
   "cell_type": "code",
   "execution_count": 34,
   "id": "8b89145f-0b04-405b-b4bc-a1a95284e143",
   "metadata": {},
   "outputs": [
    {
     "data": {
      "text/plain": [
       "{'jerry': 234, 'cude': 678, 'sam': 456}"
      ]
     },
     "execution_count": 34,
     "metadata": {},
     "output_type": "execute_result"
    }
   ],
   "source": [
    "del d['tom']\n",
    "d"
   ]
  },
  {
   "cell_type": "code",
   "execution_count": 38,
   "id": "5cb1a4d3-b4f1-49d4-abb8-8d60eaf5d500",
   "metadata": {},
   "outputs": [
    {
     "name": "stdout",
     "output_type": "stream",
     "text": [
      "jerry 234\n",
      "cude 678\n",
      "sam 456\n"
     ]
    }
   ],
   "source": [
    "for i in d:\n",
    "    print(i,d[i])##key and tar value"
   ]
  },
  {
   "cell_type": "code",
   "execution_count": 44,
   "id": "a459c222-bcde-4ace-a9f8-3a2c2886f871",
   "metadata": {},
   "outputs": [
    {
     "data": {
      "text/plain": [
       "{}"
      ]
     },
     "execution_count": 44,
     "metadata": {},
     "output_type": "execute_result"
    }
   ],
   "source": [
    "# empty dictionaries\n",
    "d.clear()\n",
    "d"
   ]
  },
  {
   "cell_type": "markdown",
   "id": "1a4421c6-757f-4933-93ac-3336e9a5c564",
   "metadata": {},
   "source": [
    "***touple is a list of valuyes grouped together***"
   ]
  },
  {
   "cell_type": "code",
   "execution_count": 47,
   "id": "19641b15-3246-4904-b632-4e54c3e296ae",
   "metadata": {},
   "outputs": [
    {
     "data": {
      "text/plain": [
       "8"
      ]
     },
     "execution_count": 47,
     "metadata": {},
     "output_type": "execute_result"
    }
   ],
   "source": [
    "#like representating a point in a 2D plane\n",
    "point=(5,8)## defining tuple\n",
    "point[1]"
   ]
  },
  {
   "cell_type": "code",
   "execution_count": 49,
   "id": "6a8db244-154e-4b5e-b49a-82c785c82c63",
   "metadata": {},
   "outputs": [
    {
     "ename": "IndexError",
     "evalue": "tuple index out of range",
     "output_type": "error",
     "traceback": [
      "\u001b[1;31m---------------------------------------------------------------------------\u001b[0m",
      "\u001b[1;31mIndexError\u001b[0m                                Traceback (most recent call last)",
      "Cell \u001b[1;32mIn[49], line 1\u001b[0m\n\u001b[1;32m----> 1\u001b[0m point[\u001b[38;5;241m4\u001b[39m]\n",
      "\u001b[1;31mIndexError\u001b[0m: tuple index out of range"
     ]
    }
   ],
   "source": [
    "point[4]"
   ]
  },
  {
   "cell_type": "markdown",
   "id": "085211c7-4c5a-4e53-99fa-bff07191ec96",
   "metadata": {},
   "source": [
    "***in list all values have same/homogenous meaning***\n",
    "\n",
    "****in tuple all values have different/heterogenous meaning****"
   ]
  },
  {
   "cell_type": "code",
   "execution_count": 57,
   "id": "50579c5b-cd72-4f63-a11f-bac44875080f",
   "metadata": {},
   "outputs": [],
   "source": [
    "address=('2no.shugondha','chattogram',4000)"
   ]
  },
  {
   "cell_type": "code",
   "execution_count": 63,
   "id": "a23198b4-b388-4695-8ecc-368472c6f49e",
   "metadata": {},
   "outputs": [
    {
     "data": {
      "text/plain": [
       "'chattogram'"
      ]
     },
     "execution_count": 63,
     "metadata": {},
     "output_type": "execute_result"
    }
   ],
   "source": [
    "address[1]"
   ]
  },
  {
   "cell_type": "code",
   "execution_count": 66,
   "id": "9c3cd1bb-1928-4f99-90c6-bb54de5c6665",
   "metadata": {},
   "outputs": [
    {
     "data": {
      "text/plain": [
       "\"We have following information on countries and their population (population is in crores),\\n\\nCountry\\tPopulation\\nChina\\t143\\nIndia\\t136\\nUSA\\t32\\nPakistan\\t21\\nUsing above create a dictionary of countries and its population\\nWrite a program that asks user for three type of inputs,\\nprint: if user enter print then it should print all countries with their population in this format,\\nchina==>143\\nindia==>136\\nusa==>32\\npakistan==>21\\nadd: if user input add then it should further ask for a country name to add. If country already exist in our dataset then it should print that it exist and do nothing. If it doesn't then it asks for population and add that new country/population in our dictionary and print it\\nremove: when user inputs remove it should ask for a country to remove. If country exist in our dictionary then remove it and print new dictionary using format shown above in (a). Else print that country doesn't exist!\\nquery: on this again ask user for which country he or she wants to query. When user inputs that country it will print population of that country.\\n\""
      ]
     },
     "execution_count": 66,
     "metadata": {},
     "output_type": "execute_result"
    }
   ],
   "source": [
    "'''We have following information on countries and their population (population is in crores),\n",
    "\n",
    "Country\tPopulation\n",
    "China\t143\n",
    "India\t136\n",
    "USA\t32\n",
    "Pakistan\t21\n",
    "Using above create a dictionary of countries and its population\n",
    "Write a program that asks user for three type of inputs,\n",
    "print: if user enter print then it should print all countries with their population in this format,\n",
    "china==>143\n",
    "india==>136\n",
    "usa==>32\n",
    "pakistan==>21\n",
    "add: if user input add then it should further ask for a country name to add. \n",
    "     If country already exist in our dataset then it should print that it exist and do nothing. \n",
    "     If it doesn't then it asks for population and add that new country/population in our dictionary and print it\n",
    "remove: when user inputs remove it should ask for a country to remove. \n",
    "        If country exist in our dictionary then remove it and print new dictionary using format shown above in (a). \n",
    "        Else print that country doesn't exist!\n",
    "query: on this again ask user for which country he or she wants to query. \n",
    "       When user inputs that country it will print population of that country.\n",
    "'''"
   ]
  },
  {
   "cell_type": "code",
   "execution_count": 64,
   "id": "4720f7a3-6362-4f1b-980d-4dfdec8d502c",
   "metadata": {},
   "outputs": [
    {
     "name": "stdout",
     "output_type": "stream",
     "text": [
      "Enter print/add/remove/query\n"
     ]
    },
    {
     "name": "stdin",
     "output_type": "stream",
     "text": [
      " remove\n"
     ]
    },
    {
     "name": "stdout",
     "output_type": "stream",
     "text": [
      "add country to remove:\n"
     ]
    },
    {
     "name": "stdin",
     "output_type": "stream",
     "text": [
      " India\n"
     ]
    },
    {
     "name": "stdout",
     "output_type": "stream",
     "text": [
      "it  doesn't exist\n"
     ]
    },
    {
     "ename": "KeyError",
     "evalue": "'rc'",
     "output_type": "error",
     "traceback": [
      "\u001b[1;31m---------------------------------------------------------------------------\u001b[0m",
      "\u001b[1;31mKeyError\u001b[0m                                  Traceback (most recent call last)",
      "Cell \u001b[1;32mIn[64], line 28\u001b[0m\n\u001b[0;32m     26\u001b[0m \u001b[38;5;28;01mfor\u001b[39;00m i \u001b[38;5;129;01min\u001b[39;00m con:\n\u001b[0;32m     27\u001b[0m   \u001b[38;5;28;01mif\u001b[39;00m i\u001b[38;5;241m==\u001b[39mrc:\n\u001b[1;32m---> 28\u001b[0m      \u001b[38;5;28;01mdel\u001b[39;00m con[\u001b[38;5;124m'\u001b[39m\u001b[38;5;124mrc\u001b[39m\u001b[38;5;124m'\u001b[39m]\n\u001b[0;32m     29\u001b[0m      \u001b[38;5;28mprint\u001b[39m(\u001b[38;5;124mf\u001b[39m\u001b[38;5;124m\"\u001b[39m\u001b[38;5;132;01m{\u001b[39;00mi\u001b[38;5;132;01m}\u001b[39;00m\u001b[38;5;124m==>\u001b[39m\u001b[38;5;132;01m{\u001b[39;00mcon[i]\u001b[38;5;132;01m}\u001b[39;00m\u001b[38;5;124m\"\u001b[39m)\n\u001b[0;32m     30\u001b[0m      \u001b[38;5;28;01mbreak\u001b[39;00m\n",
      "\u001b[1;31mKeyError\u001b[0m: 'rc'"
     ]
    }
   ],
   "source": [
    "con={'China':143,'India':136,'USA':32,'Pakistan':21}\n",
    "print(\"Enter print/add/remove/query\")\n",
    "ans=input()\n",
    "    \n",
    "if ans==\"print\":\n",
    "        for i in con:\n",
    "          print(f\"{i}==>{con[i]}\")\n",
    "\n",
    "elif ans=='add':\n",
    "        print('add country name:')\n",
    "        adc=input()\n",
    "        for i in con:\n",
    "          if adc==i:\n",
    "             print('it exist')\n",
    "             break\n",
    "\n",
    "            \n",
    "          else:\n",
    "            print('add population:')\n",
    "            adp=input()\n",
    "            con[adc]=adp\n",
    "            break\n",
    "elif ans=='remove':   \n",
    "        print('add country to remove:')\n",
    "        rc=input()\n",
    "        for i in con:\n",
    "          if i==rc:\n",
    "             del con['rc']\n",
    "             print(f\"{i}==>{con[i]}\")\n",
    "             break\n",
    "\n",
    "          else:\n",
    "             print(\"it  doesn't exist\")\n",
    "\n",
    "elif ans=='query':\n",
    "         print('which country')\n",
    "         qc=input()\n",
    "    \n",
    "         print('population is:',con[qc])\n",
    "###eibabhe hbe nh................need to use function"
   ]
  },
  {
   "cell_type": "code",
   "execution_count": 75,
   "id": "f5e15901-d00a-47f1-9e1a-6086a81670bc",
   "metadata": {},
   "outputs": [
    {
     "name": "stdin",
     "output_type": "stream",
     "text": [
      "Enter operation (add, remove, query or print): query\n"
     ]
    },
    {
     "name": "stdout",
     "output_type": "stream",
     "text": [
      "which country\n"
     ]
    },
    {
     "name": "stdin",
     "output_type": "stream",
     "text": [
      " india\n"
     ]
    },
    {
     "name": "stdout",
     "output_type": "stream",
     "text": [
      "population is: 136\n"
     ]
    }
   ],
   "source": [
    "\n",
    "\n",
    "\n",
    "def add():\n",
    "    country=input(\"Enter country name to add:\")\n",
    "    country=country.lower()\n",
    "    if country in population:\n",
    "        print(\"Country already exist in our dataset. Terminating\")\n",
    "        return\n",
    "    p=input(f\"Enter population for {country}\")\n",
    "    p=float(p)\n",
    "    population[country]=p # Adds new key value pair to dictionary\n",
    "    print_all()\n",
    "            \n",
    "def print_all():\n",
    "    for i in population:\n",
    "          print(f\"{i}==>{population[i]}\")\n",
    "\n",
    "def remove():\n",
    "     print('add country to remove:')\n",
    "     rc=input()\n",
    "     rc=rc.lower()\n",
    "     if rc in population:\n",
    "             del population[rc]\n",
    "             print_all()\n",
    "             return\n",
    "     print(\"it  doesn't exist\")\n",
    "\n",
    "def query():\n",
    "    print('which country')\n",
    "    qc=input()\n",
    "    qc=qc.lower()\n",
    "    if qc in population:\n",
    "      print('population is:',population[qc])\n",
    "      return\n",
    "    print(\"it  doesn't exist\")\n",
    "\n",
    "population={'china':143,'india':136,'usa':32,'pakistan':21}\n",
    "op=input(\"Enter operation (add, remove, query or print):\")\n",
    "if op.lower() == 'add':\n",
    "        add()\n",
    "elif op.lower() == 'remove':\n",
    "        remove()\n",
    "elif op.lower() == 'query':\n",
    "        query()\n",
    "elif op.lower() == 'print':\n",
    "        print_all()"
   ]
  },
  {
   "cell_type": "code",
   "execution_count": 77,
   "id": "d96baa1e-4790-4faa-a275-265ab61fbc19",
   "metadata": {},
   "outputs": [
    {
     "name": "stdin",
     "output_type": "stream",
     "text": [
      "Enter operation (add, remove, query or print): add\n",
      "Enter country name to add: sdwd\n",
      "Enter population for sdwd 344\n"
     ]
    },
    {
     "name": "stdout",
     "output_type": "stream",
     "text": [
      "china==>143\n",
      "india==>136\n",
      "usa==>32\n",
      "pakistan==>21\n",
      "sdwd==>344.0\n"
     ]
    }
   ],
   "source": [
    "population = {\n",
    "    'china': 143,\n",
    "    'india': 136,\n",
    "    'usa': 32,\n",
    "    'pakistan': 21\n",
    "}\n",
    "\n",
    "def add():\n",
    "    country=input(\"Enter country name to add:\")\n",
    "    country=country.lower()\n",
    "    if country in population:\n",
    "        print(\"Country already exist in our dataset. Terminating\")\n",
    "        return\n",
    "    p=input(f\"Enter population for {country}\")\n",
    "    p=float(p)\n",
    "    population[country]=p # Adds new key value pair to dictionary\n",
    "    print_all()\n",
    "\n",
    "def remove():\n",
    "    country = input(\"Enter country name to remove:\")\n",
    "    country = country.lower()\n",
    "    if country not in population:\n",
    "        print(\"Country doesn't exist in our dataset. Terminating\")\n",
    "        return\n",
    "    del population[country]\n",
    "    print_all()\n",
    "\n",
    "def query():\n",
    "    country = input(\"Enter country name to query:\")\n",
    "    country = country.lower()\n",
    "    if country not in population:\n",
    "        print(\"Country doesn't exist in our dataset. Terminating\")\n",
    "        return\n",
    "    print(f\"Population of {country} is: {population[country]} crore\")\n",
    "\n",
    "def print_all():\n",
    "    for country, p in population.items():\n",
    "        print(f\"{country}==>{p}\")\n",
    "\n",
    "def main():\n",
    "    op=input(\"Enter operation (add, remove, query or print):\")\n",
    "    if op.lower() == 'add':\n",
    "        add()\n",
    "    elif op.lower() == 'remove':\n",
    "        remove()\n",
    "    elif op.lower() == 'query':\n",
    "        query()\n",
    "    elif op.lower() == 'print':\n",
    "        print_all()\n",
    "\n",
    "if __name__ == '__main__':\n",
    "    main()"
   ]
  },
  {
   "cell_type": "code",
   "execution_count": null,
   "id": "6d83ef12-2cb5-4688-92c8-66904077972c",
   "metadata": {},
   "outputs": [],
   "source": []
  },
  {
   "cell_type": "code",
   "execution_count": null,
   "id": "328c12c8-be48-4d27-83d5-ae6fa7d71fd4",
   "metadata": {},
   "outputs": [],
   "source": [
    "'''\n",
    "You are given following list of stocks and their prices in last 3 days,\n",
    "\n",
    "Stock\tPrices\n",
    "info\t[600,630,620]\n",
    "ril\t[1430,1490,1567]\n",
    "mtl\t[234,180,160]\n",
    "Write a program that asks user for operation. Value of operations could be,\n",
    "print: When user enters print it should print following,\n",
    "info ==> [600, 630, 620] ==> avg:  616.67\n",
    "ril ==> [1430, 1490, 1567] ==> avg:  1495.67\n",
    "mtl ==> [234, 180, 160] ==> avg:  191.33\n",
    "add: When user enters 'add', it asks for stock ticker and price. \n",
    "     If stock already exist in your list (like info, ril etc) then it will append the price to the list. \n",
    "    Otherwise it will create new entry in your dictionary. \n",
    "    For example entering 'tata' and 560 will add tata ==> [560] to the dictionary of stocks."
   ]
  },
  {
   "cell_type": "code",
   "execution_count": 151,
   "id": "16df931e-5861-4d40-99ba-c9eb70f5a2d3",
   "metadata": {},
   "outputs": [
    {
     "name": "stdin",
     "output_type": "stream",
     "text": [
      "Enter operation (add, remove, query or print): add\n",
      "enter name of the stock: wdsc\n",
      "Enter price of this stock: 234\n"
     ]
    },
    {
     "name": "stdout",
     "output_type": "stream",
     "text": [
      "info==>[600, 630, 620]==>avg:  616.67\n",
      "ril==>[1430, 1490, 1567]==>avg:  1495.67\n",
      "mtl==>[234, 180, 1567]==>avg:  660.33\n",
      "wdsc==>[234.0]==>avg:  234.0\n"
     ]
    }
   ],
   "source": [
    "import statistics\n",
    "stock={'info':[600,630,620],'ril':[1430,1490,1567],'mtl':[234,180,1567]}\n",
    "stock['ril']\n",
    "def main():\n",
    "    op=input(\"Enter operation (add, remove, query or print):\")\n",
    "    if op.lower() == 'print':\n",
    "       print_all()\n",
    "    elif op.lower() == 'add':\n",
    "        add()\n",
    "\n",
    "\n",
    "\n",
    "def print_all():\n",
    "    for i in stock:\n",
    "         avg = statistics.mean(stock[i])\n",
    "         print(f'{i}==>{stock[i]}==>avg: ',round(avg,2))\n",
    "\n",
    "\n",
    "def add():\n",
    "    ast=input('enter name of the stock:')\n",
    "    ast=ast.lower()\n",
    "    p = input(\"Enter price of this stock:\")\n",
    "    p=float(p)\n",
    "    if ast in stock:\n",
    "       \n",
    "        stock[ast].append(p)\n",
    "    \n",
    "\n",
    "    else:\n",
    "        stock[ast]=[p]\n",
    "    print_all()    \n",
    "\n",
    "\n",
    "if __name__ == '__main__':###shb smy last eee\n",
    "    main()"
   ]
  },
  {
   "cell_type": "code",
   "execution_count": 33,
   "id": "ca8faf88-89fb-4566-9671-0a77e757f585",
   "metadata": {},
   "outputs": [
    {
     "data": {
      "text/plain": [
       "[1430, 1490, 1567]"
      ]
     },
     "execution_count": 33,
     "metadata": {},
     "output_type": "execute_result"
    }
   ],
   "source": [
    "stock={'info':[600,630,620],'ril':[1430,1490,1567],'mtl':[234,180,1567]}\n",
    "stock['ril']"
   ]
  },
  {
   "cell_type": "code",
   "execution_count": 8,
   "id": "3138ba96-a649-4e1e-bb67-8fe6d8197441",
   "metadata": {},
   "outputs": [
    {
     "data": {
      "text/plain": [
       "5.0"
      ]
     },
     "execution_count": 8,
     "metadata": {},
     "output_type": "execute_result"
    }
   ],
   "source": [
    "import math\n",
    "math.sqrt(25)\n"
   ]
  },
  {
   "cell_type": "code",
   "execution_count": 10,
   "id": "89dcdae6-4577-483f-9a3f-a2d3fb53af84",
   "metadata": {},
   "outputs": [
    {
     "data": {
      "text/plain": [
       "32"
      ]
     },
     "execution_count": 10,
     "metadata": {},
     "output_type": "execute_result"
    }
   ],
   "source": [
    "pow(2,5)"
   ]
  },
  {
   "cell_type": "code",
   "execution_count": 12,
   "id": "0c4dd29d-fb14-497c-9097-f881af13b9ab",
   "metadata": {},
   "outputs": [
    {
     "data": {
      "text/plain": [
       "['__doc__',\n",
       " '__loader__',\n",
       " '__name__',\n",
       " '__package__',\n",
       " '__spec__',\n",
       " 'acos',\n",
       " 'acosh',\n",
       " 'asin',\n",
       " 'asinh',\n",
       " 'atan',\n",
       " 'atan2',\n",
       " 'atanh',\n",
       " 'cbrt',\n",
       " 'ceil',\n",
       " 'comb',\n",
       " 'copysign',\n",
       " 'cos',\n",
       " 'cosh',\n",
       " 'degrees',\n",
       " 'dist',\n",
       " 'e',\n",
       " 'erf',\n",
       " 'erfc',\n",
       " 'exp',\n",
       " 'exp2',\n",
       " 'expm1',\n",
       " 'fabs',\n",
       " 'factorial',\n",
       " 'floor',\n",
       " 'fmod',\n",
       " 'frexp',\n",
       " 'fsum',\n",
       " 'gamma',\n",
       " 'gcd',\n",
       " 'hypot',\n",
       " 'inf',\n",
       " 'isclose',\n",
       " 'isfinite',\n",
       " 'isinf',\n",
       " 'isnan',\n",
       " 'isqrt',\n",
       " 'lcm',\n",
       " 'ldexp',\n",
       " 'lgamma',\n",
       " 'log',\n",
       " 'log10',\n",
       " 'log1p',\n",
       " 'log2',\n",
       " 'modf',\n",
       " 'nan',\n",
       " 'nextafter',\n",
       " 'perm',\n",
       " 'pi',\n",
       " 'pow',\n",
       " 'prod',\n",
       " 'radians',\n",
       " 'remainder',\n",
       " 'sin',\n",
       " 'sinh',\n",
       " 'sqrt',\n",
       " 'tan',\n",
       " 'tanh',\n",
       " 'tau',\n",
       " 'trunc',\n",
       " 'ulp']"
      ]
     },
     "execution_count": 12,
     "metadata": {},
     "output_type": "execute_result"
    }
   ],
   "source": [
    "dir(math)"
   ]
  },
  {
   "cell_type": "code",
   "execution_count": 14,
   "id": "5634de96-7805-4643-b3d5-c941dff5d0cd",
   "metadata": {},
   "outputs": [
    {
     "data": {
      "text/plain": [
       "3.0"
      ]
     },
     "execution_count": 14,
     "metadata": {},
     "output_type": "execute_result"
    }
   ],
   "source": [
    "math.log2(8)"
   ]
  },
  {
   "cell_type": "code",
   "execution_count": 18,
   "id": "ba6573b7-28e5-4ba8-b127-145beeeb1361",
   "metadata": {},
   "outputs": [
    {
     "data": {
      "text/plain": [
       "2"
      ]
     },
     "execution_count": 18,
     "metadata": {},
     "output_type": "execute_result"
    }
   ],
   "source": [
    "math.floor(2.3)"
   ]
  },
  {
   "cell_type": "code",
   "execution_count": 40,
   "id": "9e0f4143-bedd-401d-b3b8-6c2ecd7a622a",
   "metadata": {},
   "outputs": [
    {
     "name": "stdout",
     "output_type": "stream",
     "text": [
      "    August 2024\n",
      "Mo Tu We Th Fr Sa Su\n",
      "          1  2  3  4\n",
      " 5  6  7  8  9 10 11\n",
      "12 13 14 15 16 17 18\n",
      "19 20 21 22 23 24 25\n",
      "26 27 28 29 30 31\n",
      "\n"
     ]
    }
   ],
   "source": [
    "import calendar\n",
    "cal=calendar.month(2024,8)##yrs,month\n",
    "print(cal)"
   ]
  },
  {
   "cell_type": "code",
   "execution_count": 36,
   "id": "7ec8f847-fe8e-4995-8b1b-5ef1fba7d4fb",
   "metadata": {},
   "outputs": [
    {
     "ename": "SyntaxError",
     "evalue": "invalid syntax (3096293278.py, line 1)",
     "output_type": "error",
     "traceback": [
      "\u001b[1;36m  Cell \u001b[1;32mIn[36], line 1\u001b[1;36m\u001b[0m\n\u001b[1;33m    $ pip install calendar\u001b[0m\n\u001b[1;37m    ^\u001b[0m\n\u001b[1;31mSyntaxError\u001b[0m\u001b[1;31m:\u001b[0m invalid syntax\n"
     ]
    }
   ],
   "source": []
  },
  {
   "cell_type": "code",
   "execution_count": 44,
   "id": "7047dfac-58ba-4917-8dfa-749029b1ca6c",
   "metadata": {},
   "outputs": [
    {
     "ename": "SyntaxError",
     "evalue": "incomplete input (3084168096.py, line 2)",
     "output_type": "error",
     "traceback": [
      "\u001b[1;36m  Cell \u001b[1;32mIn[44], line 2\u001b[1;36m\u001b[0m\n\u001b[1;33m    ##__name__==hold the name of the file it is to be executed\u001b[0m\n\u001b[1;37m                                                              ^\u001b[0m\n\u001b[1;31mSyntaxError\u001b[0m\u001b[1;31m:\u001b[0m incomplete input\n"
     ]
    }
   ],
   "source": [
    "if __name__==\"__main__\":#entry point\n",
    "    ##__name__==hold the name of the file it is to be executed"
   ]
  },
  {
   "cell_type": "code",
   "execution_count": 153,
   "id": "a0a7272b-940c-417d-bf8a-996f567536cd",
   "metadata": {},
   "outputs": [
    {
     "data": {
      "text/plain": [
       "'\\nWrite circle_calc() function that takes radius of a circle as an input from user and then it calculates \\nand returns area, circumference and diameter. \\nYou should get these values in your main program by calling circle_calc function and then print them\\n'"
      ]
     },
     "execution_count": 153,
     "metadata": {},
     "output_type": "execute_result"
    }
   ],
   "source": [
    "'''\n",
    "Write circle_calc() function that takes radius of a circle as an input from user and then it calculates \n",
    "and returns area, circumference and diameter. \n",
    "You should get these values in your main program by calling circle_calc function and then print them\n",
    "'''"
   ]
  },
  {
   "cell_type": "code",
   "execution_count": 185,
   "id": "3036273a-8686-4630-9b17-88e529aef0e8",
   "metadata": {},
   "outputs": [
    {
     "name": "stdin",
     "output_type": "stream",
     "text": [
      "Enter 23\n"
     ]
    },
    {
     "name": "stdout",
     "output_type": "stream",
     "text": [
      "(1661.9063999999998, 144.5136, 46)\n"
     ]
    }
   ],
   "source": [
    "def main():\n",
    " radius=int(input('Enter'))\n",
    " hola=circle_calc(radius)\n",
    " print(hola)\n",
    "def circle_calc(r):\n",
    "    pi=3.1416\n",
    "    area=pi*r*r\n",
    "    cir=2*pi*r\n",
    "    di=2*r\n",
    "    return area,cir, di\n",
    "    \n",
    "    \n",
    "if __name__ == '__main__':###shb smy last eee\n",
    "    main()"
   ]
  },
  {
   "cell_type": "code",
   "execution_count": 187,
   "id": "ac3a5a39-c516-4509-a21b-db85db3b9abe",
   "metadata": {},
   "outputs": [
    {
     "name": "stdin",
     "output_type": "stream",
     "text": [
      "Enter a radius: 23\n"
     ]
    },
    {
     "name": "stdout",
     "output_type": "stream",
     "text": [
      "area 1661.9025137490005, circumference 144.51326206513048, diameter 46.0\n"
     ]
    }
   ],
   "source": [
    "import math\n",
    "\n",
    "def circle_calc(radius):\n",
    "    area=math.pi*(radius**2)\n",
    "    circumference=2*math.pi*radius\n",
    "    diameter=2*radius\n",
    "    return area, circumference,diameter\n",
    "\n",
    "if __name__==\"__main__\":\n",
    "    r=input(\"Enter a radius:\")\n",
    "    r=float(r)\n",
    "    area, c, d = circle_calc(r)\n",
    "    print(f\"area {area}, circumference {c}, diameter {d}\")"
   ]
  },
  {
   "cell_type": "markdown",
   "id": "7e2d5ddc-2db0-478f-ad55-c806b8124f5d",
   "metadata": {},
   "source": [
    "# Working With JSON"
   ]
  },
  {
   "cell_type": "code",
   "execution_count": null,
   "id": "a28651cd-944b-428b-9b6b-6e771323a123",
   "metadata": {},
   "outputs": [],
   "source": [
    "***create address book and write some record in it***\n",
    "***Read this record book***"
   ]
  },
  {
   "cell_type": "code",
   "execution_count": 50,
   "id": "4bbba4f9-38ef-48ab-892d-46d35151b6bc",
   "metadata": {},
   "outputs": [
    {
     "name": "stdout",
     "output_type": "stream",
     "text": [
      "{\"tom\": {\"name\": \"tom\", \"address\": \"shugondha\", \"phone\": 1876220119}, \"lathan\": {\"name\": \"lathan\", \"address\": \"victoria\", \"phone\": 88017373}}\n"
     ]
    }
   ],
   "source": [
    "##In these dictionaris we will add record\n",
    "book={}\n",
    "book['tom']={\n",
    "    'name':'tom',\n",
    "    'address':'shugondha',\n",
    "    'phone':1876220119\n",
    "}\n",
    "book['lathan']={\n",
    "    'name':'lathan',\n",
    "    'address':'victoria',\n",
    "    'phone':+88017373\n",
    "}\n",
    "import json\n",
    "s=json.dumps(book)\n",
    "print(s)\n",
    "\n",
    "    "
   ]
  },
  {
   "cell_type": "code",
   "execution_count": 60,
   "id": "1cce2bd1-0b16-4165-9e22-3c773176fcdf",
   "metadata": {},
   "outputs": [
    {
     "ename": "SyntaxError",
     "evalue": "(unicode error) 'unicodeescape' codec can't decode bytes in position 2-3: truncated \\UXXXXXXXX escape (3080531879.py, line 14)",
     "output_type": "error",
     "traceback": [
      "\u001b[1;36m  Cell \u001b[1;32mIn[60], line 14\u001b[1;36m\u001b[0m\n\u001b[1;33m    with open(\"C:\\Users\\ASUS\\ML practice\",\"w\") as f:\u001b[0m\n\u001b[1;37m                                         ^\u001b[0m\n\u001b[1;31mSyntaxError\u001b[0m\u001b[1;31m:\u001b[0m (unicode error) 'unicodeescape' codec can't decode bytes in position 2-3: truncated \\UXXXXXXXX escape\n"
     ]
    }
   ],
   "source": [
    "book={}\n",
    "book['tom']={\n",
    "    'name':'tom',\n",
    "    'address':'shugondha',\n",
    "    'phone':1876220119\n",
    "}\n",
    "book['lathan']={\n",
    "    'name':'lathan',\n",
    "    'address':'victoria',\n",
    "    'phone':+88017373\n",
    "}\n",
    "import json\n",
    "s=json.dumps(book)## 's' is a string now\n",
    "with open(\"C:\\Users\\ASUS\\ML practice\",\"w\") as f:## \"w\" as writing\n",
    "    f.write(s)\n"
   ]
  },
  {
   "cell_type": "code",
   "execution_count": 64,
   "id": "70e68f5c-b669-42bd-a130-e579545824e6",
   "metadata": {},
   "outputs": [
    {
     "data": {
      "text/plain": [
       "{'tom': {'name': 'tom', 'address': 'shugondha', 'phone': 1876220119},\n",
       " 'lathan': {'name': 'lathan', 'address': 'victoria', 'phone': 88017373}}"
      ]
     },
     "execution_count": 64,
     "metadata": {},
     "output_type": "execute_result"
    }
   ],
   "source": [
    "import json\n",
    "book=json.loads(s)##now it is a dictionary\n",
    "book"
   ]
  },
  {
   "cell_type": "code",
   "execution_count": 66,
   "id": "fdfb55d4-60e2-45f3-9a61-2138de5dc0f1",
   "metadata": {},
   "outputs": [
    {
     "data": {
      "text/plain": [
       "{'name': 'tom', 'address': 'shugondha', 'phone': 1876220119}"
      ]
     },
     "execution_count": 66,
     "metadata": {},
     "output_type": "execute_result"
    }
   ],
   "source": [
    "book['tom']"
   ]
  },
  {
   "cell_type": "code",
   "execution_count": 68,
   "id": "5911d1d7-4585-4b00-8218-e9d55ca2135c",
   "metadata": {},
   "outputs": [
    {
     "data": {
      "text/plain": [
       "'victoria'"
      ]
     },
     "execution_count": 68,
     "metadata": {},
     "output_type": "execute_result"
    }
   ],
   "source": [
    "book['lathan'] ['address']"
   ]
  },
  {
   "cell_type": "code",
   "execution_count": 70,
   "id": "d50444e3-9c4f-4be8-9082-208479d77794",
   "metadata": {},
   "outputs": [
    {
     "name": "stdout",
     "output_type": "stream",
     "text": [
      "tom\n",
      "lathan\n"
     ]
    }
   ],
   "source": [
    "for i in book:\n",
    " print(i)"
   ]
  },
  {
   "cell_type": "code",
   "execution_count": 72,
   "id": "be67a1ca-7322-4771-ae6d-b5662239150c",
   "metadata": {},
   "outputs": [
    {
     "name": "stdout",
     "output_type": "stream",
     "text": [
      "tom {'name': 'tom', 'address': 'shugondha', 'phone': 1876220119}\n",
      "lathan {'name': 'lathan', 'address': 'victoria', 'phone': 88017373}\n"
     ]
    }
   ],
   "source": [
    "for i in book:\n",
    " print(i,book[i])"
   ]
  },
  {
   "cell_type": "code",
   "execution_count": null,
   "id": "011ce5a8-d310-489b-9430-e6cb85cf57de",
   "metadata": {},
   "outputs": [],
   "source": []
  }
 ],
 "metadata": {
  "kernelspec": {
   "display_name": "Python 3 (ipykernel)",
   "language": "python",
   "name": "python3"
  },
  "language_info": {
   "codemirror_mode": {
    "name": "ipython",
    "version": 3
   },
   "file_extension": ".py",
   "mimetype": "text/x-python",
   "name": "python",
   "nbconvert_exporter": "python",
   "pygments_lexer": "ipython3",
   "version": "3.11.7"
  }
 },
 "nbformat": 4,
 "nbformat_minor": 5
}
