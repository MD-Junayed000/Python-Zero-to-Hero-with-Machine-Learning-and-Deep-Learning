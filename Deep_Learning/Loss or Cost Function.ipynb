{
 "cells": [
  {
   "cell_type": "code",
   "execution_count": 71,
   "id": "c5335a55-69e9-493f-8ed2-19968c0c0f41",
   "metadata": {},
   "outputs": [],
   "source": [
    "import numpy as np"
   ]
  },
  {
   "cell_type": "code",
   "execution_count": 73,
   "id": "fb546023-5b90-46d5-84f5-31e871611835",
   "metadata": {},
   "outputs": [],
   "source": [
    "y_predicted=np.array([1,1,0,0,1])\n",
    "y_true=np.array([-.3,-.7,1,0,0.5])"
   ]
  },
  {
   "cell_type": "markdown",
   "id": "2b7f0c83-7b78-44d7-aafd-ca15d96902e0",
   "metadata": {},
   "source": [
    "# Mean Absolute Error"
   ]
  },
  {
   "cell_type": "code",
   "execution_count": 76,
   "id": "ad40e424-21cb-4289-9517-8faf546ba413",
   "metadata": {},
   "outputs": [],
   "source": [
    "# iterating at the same time\n",
    "def mae(y_true,y_predicted):\n",
    "    total_error=0\n",
    "    for yt,yp in zip(y_true,y_predicted):\n",
    "        print(yt,yp)"
   ]
  },
  {
   "cell_type": "code",
   "execution_count": 78,
   "id": "5829bf77-9ba3-4a41-97cb-2a1263b4243c",
   "metadata": {},
   "outputs": [
    {
     "name": "stdout",
     "output_type": "stream",
     "text": [
      "-0.3 1\n",
      "-0.7 1\n",
      "1.0 0\n",
      "0.0 0\n",
      "0.5 1\n"
     ]
    }
   ],
   "source": [
    "mae(y_true,y_predicted)"
   ]
  },
  {
   "cell_type": "code",
   "execution_count": 80,
   "id": "3fdb59be-f39e-4fa7-830e-f56c46661593",
   "metadata": {},
   "outputs": [],
   "source": [
    "def mae(y_true,y_predicted):\n",
    "    total_error=0\n",
    "    for yt,yp in zip(y_true,y_predicted):\n",
    "        total_error+=abs(yt-yp)\n",
    "    print(\"Total error\",total_error)\n",
    "    \n",
    "    mae=total_error/len(y_true)#######both are of same length\n",
    "    print('MAE',mae)\n",
    "    return mae"
   ]
  },
  {
   "cell_type": "code",
   "execution_count": 82,
   "id": "aafa6ac5-f88a-4a71-be61-e34135c7fc72",
   "metadata": {},
   "outputs": [
    {
     "name": "stdout",
     "output_type": "stream",
     "text": [
      "Total error 4.5\n",
      "MAE 0.9\n"
     ]
    },
    {
     "data": {
      "text/plain": [
       "0.9"
      ]
     },
     "execution_count": 82,
     "metadata": {},
     "output_type": "execute_result"
    }
   ],
   "source": [
    "mae(y_true,y_predicted)"
   ]
  },
  {
   "cell_type": "code",
   "execution_count": 84,
   "id": "33a1e7d4-1db1-43bf-a97e-1af21c435d4a",
   "metadata": {},
   "outputs": [
    {
     "data": {
      "text/plain": [
       "0.9"
      ]
     },
     "execution_count": 84,
     "metadata": {},
     "output_type": "execute_result"
    }
   ],
   "source": [
    "## In more simpler way\n",
    "\n",
    "np.mean(np.abs(y_true=y_predicted))\n",
    "\n",
    "\n"
   ]
  },
  {
   "cell_type": "markdown",
   "id": "28a66165-1a89-415f-aa7b-04023fe8d6e5",
   "metadata": {},
   "source": [
    "# mean squared error (or MSE)"
   ]
  },
  {
   "cell_type": "code",
   "execution_count": 86,
   "id": "7f3d6a21-2805-4d46-bea5-cb1937d32ebe",
   "metadata": {},
   "outputs": [],
   "source": [
    "import numpy as np\n",
    "\n",
    "y_predicted = np.array([1,1,0,0,1])\n",
    "y_true = np.array([0.30,0.7,1,0,0.5])"
   ]
  },
  {
   "cell_type": "code",
   "execution_count": 88,
   "id": "41f5a259-1abb-4dba-b250-f7912570fe6b",
   "metadata": {},
   "outputs": [],
   "source": [
    "def mse(y_true,y_predicted):\n",
    "    total_error=0\n",
    "    for yt,yp in zip(y_true,y_predicted):\n",
    "        total_error+=(yt-yp)**2\n",
    "    print(\"Total error\",total_error)\n",
    "    \n",
    "    mse=total_error/len(y_true)#######both are of same length\n",
    "    print('MSE',mse)\n",
    "    return mse"
   ]
  },
  {
   "cell_type": "code",
   "execution_count": 90,
   "id": "37d79a40-4fa5-44cc-9229-4a1ecabd9e5a",
   "metadata": {},
   "outputs": [
    {
     "name": "stdout",
     "output_type": "stream",
     "text": [
      "Total error 1.83\n",
      "MSE 0.366\n"
     ]
    },
    {
     "data": {
      "text/plain": [
       "0.366"
      ]
     },
     "execution_count": 90,
     "metadata": {},
     "output_type": "execute_result"
    }
   ],
   "source": [
    "mse(y_true, y_predicted)"
   ]
  },
  {
   "cell_type": "code",
   "execution_count": 92,
   "id": "1b6c210e-4648-4f75-b924-6880d372724f",
   "metadata": {},
   "outputs": [],
   "source": [
    "### in one word\n"
   ]
  },
  {
   "cell_type": "code",
   "execution_count": 94,
   "id": "68049ad8-b8cc-40ba-b2fd-2185f3041583",
   "metadata": {},
   "outputs": [
    {
     "data": {
      "text/plain": [
       "0.366"
      ]
     },
     "execution_count": 94,
     "metadata": {},
     "output_type": "execute_result"
    }
   ],
   "source": [
    "np.mean(np.square(y_true-y_predicted))"
   ]
  },
  {
   "cell_type": "code",
   "execution_count": null,
   "id": "8a59f3b6-a0f9-4fe7-96c9-354bca95a926",
   "metadata": {},
   "outputs": [],
   "source": []
  }
 ],
 "metadata": {
  "kernelspec": {
   "display_name": "Python 3 (ipykernel)",
   "language": "python",
   "name": "python3"
  },
  "language_info": {
   "codemirror_mode": {
    "name": "ipython",
    "version": 3
   },
   "file_extension": ".py",
   "mimetype": "text/x-python",
   "name": "python",
   "nbconvert_exporter": "python",
   "pygments_lexer": "ipython3",
   "version": "3.11.7"
  }
 },
 "nbformat": 4,
 "nbformat_minor": 5
}
