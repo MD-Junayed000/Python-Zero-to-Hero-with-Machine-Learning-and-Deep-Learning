{
 "cells": [
  {
   "cell_type": "code",
   "execution_count": 11,
   "id": "0fb38359-2906-4d4b-bc6a-9febac7c44a0",
   "metadata": {},
   "outputs": [],
   "source": [
    "import numpy as np\n",
    "from tensorflow.keras.preprocessing.text import one_hot\n",
    "from tensorflow.keras.preprocessing.sequence import pad_sequences\n",
    "from tensorflow.keras.models import Sequential\n",
    "from tensorflow.keras.layers import Dense\n",
    "from tensorflow.keras.layers import Flatten\n",
    "from tensorflow.keras.layers import Embedding\n",
    "\n",
    "reviews = ['nice food',\n",
    "        'amazing restaurant',\n",
    "        'too good',\n",
    "        'just loved it!',\n",
    "        'will go again',\n",
    "        'horrible food',\n",
    "        'never go there',\n",
    "        'poor service',\n",
    "        'poor quality',\n",
    "        'needs improvement']\n",
    "\n",
    "sentiment = np.array([1,1,1,1,1,0,0,0,0,0])"
   ]
  },
  {
   "cell_type": "code",
   "execution_count": 12,
   "id": "ac9c1ecb-f3a8-4ef2-81cf-d3541a85a472",
   "metadata": {},
   "outputs": [
    {
     "data": {
      "text/plain": [
       "[13, 2]"
      ]
     },
     "execution_count": 12,
     "metadata": {},
     "output_type": "execute_result"
    }
   ],
   "source": [
    "one_hot(\"amazing restaurant\",30)## assigning both the number within given range which is one_hot"
   ]
  },
  {
   "cell_type": "code",
   "execution_count": 13,
   "id": "cc1946f9-a772-4c23-8c96-eaa90411c3e0",
   "metadata": {},
   "outputs": [
    {
     "name": "stdout",
     "output_type": "stream",
     "text": [
      "[[23, 4], [13, 2], [21, 26], [25, 8, 14], [18, 19, 17], [8, 4], [23, 19, 10], [17, 1], [17, 1], [21, 3]]\n"
     ]
    }
   ],
   "source": [
    "vocab_size = 30\n",
    "encoded_reviews = [one_hot(d, vocab_size) for d in reviews]\n",
    "print(encoded_reviews)\n",
    "# For each review assigning one_hot"
   ]
  },
  {
   "cell_type": "code",
   "execution_count": 14,
   "id": "57a351e8-6b61-400e-a330-b514c52e4b89",
   "metadata": {},
   "outputs": [],
   "source": [
    "## we need Padding\n",
    "# As some sentences are 2 long, some are 3"
   ]
  },
  {
   "cell_type": "code",
   "execution_count": 15,
   "id": "ed63c4a2-fe83-4e56-a0e8-84ba8cf28771",
   "metadata": {},
   "outputs": [
    {
     "name": "stdout",
     "output_type": "stream",
     "text": [
      "[[23  4  0]\n",
      " [13  2  0]\n",
      " [21 26  0]\n",
      " [25  8 14]\n",
      " [18 19 17]\n",
      " [ 8  4  0]\n",
      " [23 19 10]\n",
      " [17  1  0]\n",
      " [17  1  0]\n",
      " [21  3  0]]\n"
     ]
    }
   ],
   "source": [
    "\n",
    "max_length = 3\n",
    "padded_reviews = pad_sequences(encoded_reviews, maxlen=max_length, padding='post')\n",
    "#padding='post' means pad towards the end i.e Null value are Zero\n",
    "print(padded_reviews)"
   ]
  },
  {
   "cell_type": "code",
   "execution_count": 16,
   "id": "829d4745-48f3-4dbb-b546-02babf095973",
   "metadata": {},
   "outputs": [],
   "source": [
    "embeded_vector_size = 5 ## each word embedding e Total koita row takbe"
   ]
  },
  {
   "cell_type": "code",
   "execution_count": 17,
   "id": "abfceaa5-df11-47fb-95bf-00f701dd65b1",
   "metadata": {},
   "outputs": [],
   "source": [
    "## Creating The Model\n",
    "model = Sequential()\n",
    "model.add(Embedding(input_dim=vocab_size, output_dim=embeded_vector_size, input_length=max_length, name=\"embedding\"))\n",
    "model.add(Flatten())\n",
    "model.add(Dense(1, activation='sigmoid'))"
   ]
  },
  {
   "cell_type": "code",
   "execution_count": 18,
   "id": "cb08f8a2-d9f3-4560-b030-bf982f4e494e",
   "metadata": {},
   "outputs": [],
   "source": [
    "X = padded_reviews\n",
    "y = sentiment # y hocche label ta"
   ]
  },
  {
   "cell_type": "code",
   "execution_count": 19,
   "id": "a04a4a8c-7436-4373-b1a7-3870883718a3",
   "metadata": {},
   "outputs": [],
   "source": [
    "# Compile the model\n",
    "model.compile(optimizer='adam', loss='binary_crossentropy', metrics=['accuracy'])"
   ]
  },
  {
   "cell_type": "code",
   "execution_count": 20,
   "id": "55f9d4e1-9379-44ab-94e2-fd85dd6b6750",
   "metadata": {},
   "outputs": [
    {
     "data": {
      "text/plain": [
       "<tf.Tensor: shape=(10, 1), dtype=float32, numpy=\n",
       "array([[0.51010543],\n",
       "       [0.50265807],\n",
       "       [0.51621526],\n",
       "       [0.47949958],\n",
       "       [0.5013802 ],\n",
       "       [0.50464183],\n",
       "       [0.5077199 ],\n",
       "       [0.509639  ],\n",
       "       [0.509639  ],\n",
       "       [0.5214521 ]], dtype=float32)>"
      ]
     },
     "execution_count": 20,
     "metadata": {},
     "output_type": "execute_result"
    }
   ],
   "source": [
    "# Force the model to build its layers\n",
    "model(X)"
   ]
  },
  {
   "cell_type": "code",
   "execution_count": 21,
   "id": "a22e0a14-f79c-42ac-bcb3-c93e568dfa87",
   "metadata": {},
   "outputs": [
    {
     "data": {
      "text/html": [
       "<pre style=\"white-space:pre;overflow-x:auto;line-height:normal;font-family:Menlo,'DejaVu Sans Mono',consolas,'Courier New',monospace\"><span style=\"font-weight: bold\">Model: \"sequential_1\"</span>\n",
       "</pre>\n"
      ],
      "text/plain": [
       "\u001b[1mModel: \"sequential_1\"\u001b[0m\n"
      ]
     },
     "metadata": {},
     "output_type": "display_data"
    },
    {
     "data": {
      "text/html": [
       "<pre style=\"white-space:pre;overflow-x:auto;line-height:normal;font-family:Menlo,'DejaVu Sans Mono',consolas,'Courier New',monospace\">┏━━━━━━━━━━━━━━━━━━━━━━━━━━━━━━━━━┳━━━━━━━━━━━━━━━━━━━━━━━━┳━━━━━━━━━━━━━━━┓\n",
       "┃<span style=\"font-weight: bold\"> Layer (type)                    </span>┃<span style=\"font-weight: bold\"> Output Shape           </span>┃<span style=\"font-weight: bold\">       Param # </span>┃\n",
       "┡━━━━━━━━━━━━━━━━━━━━━━━━━━━━━━━━━╇━━━━━━━━━━━━━━━━━━━━━━━━╇━━━━━━━━━━━━━━━┩\n",
       "│ embedding (<span style=\"color: #0087ff; text-decoration-color: #0087ff\">Embedding</span>)           │ (<span style=\"color: #00af00; text-decoration-color: #00af00\">10</span>, <span style=\"color: #00af00; text-decoration-color: #00af00\">3</span>, <span style=\"color: #00af00; text-decoration-color: #00af00\">5</span>)             │           <span style=\"color: #00af00; text-decoration-color: #00af00\">150</span> │\n",
       "├─────────────────────────────────┼────────────────────────┼───────────────┤\n",
       "│ flatten_1 (<span style=\"color: #0087ff; text-decoration-color: #0087ff\">Flatten</span>)             │ (<span style=\"color: #00af00; text-decoration-color: #00af00\">10</span>, <span style=\"color: #00af00; text-decoration-color: #00af00\">15</span>)               │             <span style=\"color: #00af00; text-decoration-color: #00af00\">0</span> │\n",
       "├─────────────────────────────────┼────────────────────────┼───────────────┤\n",
       "│ dense_1 (<span style=\"color: #0087ff; text-decoration-color: #0087ff\">Dense</span>)                 │ (<span style=\"color: #00af00; text-decoration-color: #00af00\">10</span>, <span style=\"color: #00af00; text-decoration-color: #00af00\">1</span>)                │            <span style=\"color: #00af00; text-decoration-color: #00af00\">16</span> │\n",
       "└─────────────────────────────────┴────────────────────────┴───────────────┘\n",
       "</pre>\n"
      ],
      "text/plain": [
       "┏━━━━━━━━━━━━━━━━━━━━━━━━━━━━━━━━━┳━━━━━━━━━━━━━━━━━━━━━━━━┳━━━━━━━━━━━━━━━┓\n",
       "┃\u001b[1m \u001b[0m\u001b[1mLayer (type)                   \u001b[0m\u001b[1m \u001b[0m┃\u001b[1m \u001b[0m\u001b[1mOutput Shape          \u001b[0m\u001b[1m \u001b[0m┃\u001b[1m \u001b[0m\u001b[1m      Param #\u001b[0m\u001b[1m \u001b[0m┃\n",
       "┡━━━━━━━━━━━━━━━━━━━━━━━━━━━━━━━━━╇━━━━━━━━━━━━━━━━━━━━━━━━╇━━━━━━━━━━━━━━━┩\n",
       "│ embedding (\u001b[38;5;33mEmbedding\u001b[0m)           │ (\u001b[38;5;34m10\u001b[0m, \u001b[38;5;34m3\u001b[0m, \u001b[38;5;34m5\u001b[0m)             │           \u001b[38;5;34m150\u001b[0m │\n",
       "├─────────────────────────────────┼────────────────────────┼───────────────┤\n",
       "│ flatten_1 (\u001b[38;5;33mFlatten\u001b[0m)             │ (\u001b[38;5;34m10\u001b[0m, \u001b[38;5;34m15\u001b[0m)               │             \u001b[38;5;34m0\u001b[0m │\n",
       "├─────────────────────────────────┼────────────────────────┼───────────────┤\n",
       "│ dense_1 (\u001b[38;5;33mDense\u001b[0m)                 │ (\u001b[38;5;34m10\u001b[0m, \u001b[38;5;34m1\u001b[0m)                │            \u001b[38;5;34m16\u001b[0m │\n",
       "└─────────────────────────────────┴────────────────────────┴───────────────┘\n"
      ]
     },
     "metadata": {},
     "output_type": "display_data"
    },
    {
     "data": {
      "text/html": [
       "<pre style=\"white-space:pre;overflow-x:auto;line-height:normal;font-family:Menlo,'DejaVu Sans Mono',consolas,'Courier New',monospace\"><span style=\"font-weight: bold\"> Total params: </span><span style=\"color: #00af00; text-decoration-color: #00af00\">166</span> (664.00 B)\n",
       "</pre>\n"
      ],
      "text/plain": [
       "\u001b[1m Total params: \u001b[0m\u001b[38;5;34m166\u001b[0m (664.00 B)\n"
      ]
     },
     "metadata": {},
     "output_type": "display_data"
    },
    {
     "data": {
      "text/html": [
       "<pre style=\"white-space:pre;overflow-x:auto;line-height:normal;font-family:Menlo,'DejaVu Sans Mono',consolas,'Courier New',monospace\"><span style=\"font-weight: bold\"> Trainable params: </span><span style=\"color: #00af00; text-decoration-color: #00af00\">166</span> (664.00 B)\n",
       "</pre>\n"
      ],
      "text/plain": [
       "\u001b[1m Trainable params: \u001b[0m\u001b[38;5;34m166\u001b[0m (664.00 B)\n"
      ]
     },
     "metadata": {},
     "output_type": "display_data"
    },
    {
     "data": {
      "text/html": [
       "<pre style=\"white-space:pre;overflow-x:auto;line-height:normal;font-family:Menlo,'DejaVu Sans Mono',consolas,'Courier New',monospace\"><span style=\"font-weight: bold\"> Non-trainable params: </span><span style=\"color: #00af00; text-decoration-color: #00af00\">0</span> (0.00 B)\n",
       "</pre>\n"
      ],
      "text/plain": [
       "\u001b[1m Non-trainable params: \u001b[0m\u001b[38;5;34m0\u001b[0m (0.00 B)\n"
      ]
     },
     "metadata": {},
     "output_type": "display_data"
    },
    {
     "name": "stdout",
     "output_type": "stream",
     "text": [
      "None\n"
     ]
    }
   ],
   "source": [
    "# Display model summary\n",
    "print(model.summary()) ## Flattened e 5+5+5=15 hbe"
   ]
  },
  {
   "cell_type": "code",
   "execution_count": 22,
   "id": "503f7283-20ed-4d0b-bb5a-cf8ec3cf9f32",
   "metadata": {},
   "outputs": [
    {
     "data": {
      "text/plain": [
       "<keras.src.callbacks.history.History at 0x170e50606b0>"
      ]
     },
     "execution_count": 22,
     "metadata": {},
     "output_type": "execute_result"
    }
   ],
   "source": [
    "model.fit(X, y, epochs=50, verbose=0)"
   ]
  },
  {
   "cell_type": "code",
   "execution_count": 23,
   "id": "0134b78e-0787-4cbe-90d3-df06004f89c1",
   "metadata": {},
   "outputs": [
    {
     "name": "stdout",
     "output_type": "stream",
     "text": [
      "\u001b[1m1/1\u001b[0m \u001b[32m━━━━━━━━━━━━━━━━━━━━\u001b[0m\u001b[37m\u001b[0m \u001b[1m0s\u001b[0m 106ms/step - accuracy: 1.0000 - loss: 0.6383\n"
     ]
    },
    {
     "data": {
      "text/plain": [
       "1.0"
      ]
     },
     "execution_count": 23,
     "metadata": {},
     "output_type": "execute_result"
    }
   ],
   "source": [
    "# evaluate the model\n",
    "loss, accuracy = model.evaluate(X, y)\n",
    "accuracy"
   ]
  },
  {
   "cell_type": "markdown",
   "id": "bd5c8b96-f1c4-4fe4-a266-049307c88fa9",
   "metadata": {},
   "source": [
    "*** here Sentiment Classification is a fake prblm....we are more interseted in Word Embedding***"
   ]
  },
  {
   "cell_type": "code",
   "execution_count": 26,
   "id": "faf2149e-990f-47c6-88d1-654b096ace4a",
   "metadata": {},
   "outputs": [
    {
     "data": {
      "text/plain": [
       "array([[-6.30297186e-03,  8.66672862e-03,  4.24369127e-02,\n",
       "         2.25556716e-02, -6.92835748e-02],\n",
       "       [-4.18578796e-02, -7.26459995e-02, -5.22229187e-02,\n",
       "         3.32167149e-02,  6.31412119e-02],\n",
       "       [ 1.26968632e-02,  7.39025185e-03,  7.11449459e-02,\n",
       "        -6.80604503e-02, -3.57362069e-02],\n",
       "       [-1.02594923e-02, -6.90874085e-02, -9.51282214e-04,\n",
       "         1.00640811e-01,  1.77235696e-02],\n",
       "       [-4.76588681e-02,  1.20300967e-02, -1.37776192e-02,\n",
       "        -3.78633700e-02,  6.09877286e-03],\n",
       "       [ 3.70550863e-02, -9.81239229e-03,  3.69916447e-02,\n",
       "        -4.09912840e-02,  1.86406076e-04],\n",
       "       [-4.64183576e-02, -1.11075863e-02,  2.43441202e-02,\n",
       "         3.61228846e-02,  2.00755931e-02],\n",
       "       [-2.48012301e-02,  4.63892482e-02, -3.23586017e-02,\n",
       "        -2.49051452e-02, -2.65301112e-02],\n",
       "       [-1.32312281e-02,  3.45810018e-02,  8.09113160e-02,\n",
       "         5.55642284e-02, -4.40980643e-02],\n",
       "       [-3.36884148e-02, -4.16931733e-02, -4.58751321e-02,\n",
       "         1.85298361e-02,  3.01492848e-02],\n",
       "       [ 1.69810764e-02, -3.14749219e-02,  6.99986890e-02,\n",
       "        -1.00068517e-01, -4.45707627e-02],\n",
       "       [-1.83673725e-02, -1.38797760e-02, -4.12633270e-03,\n",
       "         3.26089934e-03,  1.80556811e-02],\n",
       "       [-3.81378308e-02,  2.76683681e-02,  1.04569085e-02,\n",
       "         3.24229710e-02, -3.58698517e-03],\n",
       "       [ 1.02490738e-01, -8.74098539e-02, -9.71956402e-02,\n",
       "        -3.54643017e-02,  5.95243881e-03],\n",
       "       [-3.59880216e-02,  4.95921634e-03, -3.89926359e-02,\n",
       "         6.29711226e-02,  7.74344504e-02],\n",
       "       [-3.16478983e-02, -2.22383738e-02, -1.89113151e-02,\n",
       "         3.49539518e-03,  1.91191323e-02],\n",
       "       [ 3.98506783e-02,  4.93198633e-03,  2.18436755e-02,\n",
       "        -4.21407931e-02,  1.17201097e-02],\n",
       "       [-3.35692316e-02,  1.15618482e-01,  8.98696780e-02,\n",
       "         9.82526988e-02, -1.41436635e-02],\n",
       "       [ 2.23331656e-02, -2.29823869e-02, -4.41587940e-02,\n",
       "        -9.88986269e-02,  5.30502237e-02],\n",
       "       [-5.03032915e-02,  1.15891835e-02,  4.12594154e-02,\n",
       "        -1.01499232e-02,  2.10888013e-02],\n",
       "       [-1.34616494e-02,  1.56032704e-02, -2.34389901e-02,\n",
       "        -4.68320511e-02, -4.20088060e-02],\n",
       "       [ 1.54921161e-02,  1.80116557e-02,  2.99738646e-02,\n",
       "        -3.70645039e-02,  4.34602648e-02],\n",
       "       [ 9.05779749e-03, -4.19441350e-02, -7.30384141e-04,\n",
       "        -2.50673890e-02, -1.92987081e-02],\n",
       "       [-4.45309393e-02,  2.20791027e-02, -4.60584126e-02,\n",
       "        -3.59386280e-02,  2.02074647e-02],\n",
       "       [-3.19970474e-02,  1.08786337e-02,  1.08420849e-04,\n",
       "        -4.55345996e-02,  2.83043049e-02],\n",
       "       [ 3.52675468e-02, -8.09373707e-03, -1.35059943e-02,\n",
       "        -1.18866879e-02,  3.84426974e-02],\n",
       "       [ 1.62776522e-02,  8.84680375e-02,  2.64124069e-02,\n",
       "        -4.36935984e-02, -9.86811966e-02],\n",
       "       [-2.81949043e-02,  2.69360207e-02,  2.14705355e-02,\n",
       "         3.27400900e-02, -3.20677981e-02],\n",
       "       [-2.76833307e-02,  1.00482218e-02, -3.26057822e-02,\n",
       "        -2.16089189e-04, -3.59419100e-02],\n",
       "       [-4.99373339e-02, -1.71948560e-02, -3.90362851e-02,\n",
       "         2.11196207e-02, -2.86237728e-02]], dtype=float32)"
      ]
     },
     "execution_count": 26,
     "metadata": {},
     "output_type": "execute_result"
    }
   ],
   "source": [
    "weights = model.get_layer('embedding').get_weights()[0] ## name e jeita disilam\n",
    "weights ## last flatenned er ager ta"
   ]
  },
  {
   "cell_type": "code",
   "execution_count": 27,
   "id": "4844d5c7-ac35-4d35-a684-5534c8893aeb",
   "metadata": {},
   "outputs": [
    {
     "data": {
      "text/plain": [
       "30"
      ]
     },
     "execution_count": 27,
     "metadata": {},
     "output_type": "execute_result"
    }
   ],
   "source": [
    "len(weights) ## equalto vocabulary size"
   ]
  },
  {
   "cell_type": "code",
   "execution_count": null,
   "id": "6d63287d-9430-4506-8d0c-4a244d839571",
   "metadata": {},
   "outputs": [],
   "source": []
  },
  {
   "cell_type": "markdown",
   "id": "c7e51b14-f92f-4377-b775-ce16690d9631",
   "metadata": {},
   "source": [
    "#################################################################"
   ]
  },
  {
   "cell_type": "markdown",
   "id": "8fda2835-807b-458c-bdef-d2563749fbdc",
   "metadata": {},
   "source": [
    "# ############################"
   ]
  },
  {
   "cell_type": "markdown",
   "id": "60962f19-f026-43e2-8fa8-0eb99a1232fe",
   "metadata": {},
   "source": [
    "# Word2Vector Implementation using Gensim Library(Mainly use in NLP)"
   ]
  },
  {
   "cell_type": "code",
   "execution_count": 4,
   "id": "4b32cfcc-57ed-49a2-b1eb-f6e82f4fd8af",
   "metadata": {},
   "outputs": [
    {
     "name": "stdout",
     "output_type": "stream",
     "text": [
      "Requirement already satisfied: gensim in c:\\users\\asus\\anaconda3\\lib\\site-packages (4.3.0)\n",
      "Requirement already satisfied: numpy>=1.18.5 in c:\\users\\asus\\anaconda3\\lib\\site-packages (from gensim) (1.24.4)\n",
      "Requirement already satisfied: scipy>=1.7.0 in c:\\users\\asus\\anaconda3\\lib\\site-packages (from gensim) (1.10.1)\n",
      "Requirement already satisfied: smart-open>=1.8.1 in c:\\users\\asus\\anaconda3\\lib\\site-packages (from gensim) (5.2.1)\n",
      "Requirement already satisfied: FuzzyTM>=0.4.0 in c:\\users\\asus\\anaconda3\\lib\\site-packages (from gensim) (2.0.9)\n",
      "Requirement already satisfied: pandas in c:\\users\\asus\\anaconda3\\lib\\site-packages (from FuzzyTM>=0.4.0->gensim) (1.5.3)\n",
      "Requirement already satisfied: pyfume in c:\\users\\asus\\anaconda3\\lib\\site-packages (from FuzzyTM>=0.4.0->gensim) (0.3.4)\n",
      "Requirement already satisfied: python-dateutil>=2.8.1 in c:\\users\\asus\\anaconda3\\lib\\site-packages (from pandas->FuzzyTM>=0.4.0->gensim) (2.8.2)\n",
      "Requirement already satisfied: pytz>=2020.1 in c:\\users\\asus\\anaconda3\\lib\\site-packages (from pandas->FuzzyTM>=0.4.0->gensim) (2023.3.post1)\n",
      "Requirement already satisfied: simpful==2.12.0 in c:\\users\\asus\\anaconda3\\lib\\site-packages (from pyfume->FuzzyTM>=0.4.0->gensim) (2.12.0)\n",
      "Requirement already satisfied: fst-pso==1.8.1 in c:\\users\\asus\\anaconda3\\lib\\site-packages (from pyfume->FuzzyTM>=0.4.0->gensim) (1.8.1)\n",
      "Requirement already satisfied: miniful in c:\\users\\asus\\anaconda3\\lib\\site-packages (from fst-pso==1.8.1->pyfume->FuzzyTM>=0.4.0->gensim) (0.0.6)\n",
      "Requirement already satisfied: six>=1.5 in c:\\users\\asus\\anaconda3\\lib\\site-packages (from python-dateutil>=2.8.1->pandas->FuzzyTM>=0.4.0->gensim) (1.16.0)\n"
     ]
    }
   ],
   "source": [
    "#!pip install gensim"
   ]
  },
  {
   "cell_type": "code",
   "execution_count": 5,
   "id": "ef4d591e-5dbd-434e-bc3a-ba7785d06019",
   "metadata": {},
   "outputs": [
    {
     "name": "stdout",
     "output_type": "stream",
     "text": [
      "Requirement already satisfied: python-Levenshtein in c:\\users\\asus\\anaconda3\\lib\\site-packages (0.26.1)\n",
      "Requirement already satisfied: Levenshtein==0.26.1 in c:\\users\\asus\\anaconda3\\lib\\site-packages (from python-Levenshtein) (0.26.1)\n",
      "Requirement already satisfied: rapidfuzz<4.0.0,>=3.9.0 in c:\\users\\asus\\anaconda3\\lib\\site-packages (from Levenshtein==0.26.1->python-Levenshtein) (3.11.0)\n"
     ]
    }
   ],
   "source": [
    "#!pip install python-Levenshtein"
   ]
  },
  {
   "cell_type": "code",
   "execution_count": 11,
   "id": "45b982fe-eeb8-4c57-8044-f7f2c7a6250b",
   "metadata": {},
   "outputs": [],
   "source": [
    "import gensim\n",
    "import pandas as pd"
   ]
  },
  {
   "cell_type": "markdown",
   "id": "3577fc07-2f37-422b-8fdb-be04c57ec31a",
   "metadata": {},
   "source": [
    "# Reading and Exploring the Dataset\r\n",
    "The dataset we are using here is a subset of Amazon reviews from the Cell Phones & Accessories category. The data is stored as a JSON file and can be read using pandas.\r\n",
    "\r\n",
    "Link to the Dataset: http://snap.stanford.edu/data/amazon/productGraph/categoryFiles/reviews_Cell_Phones_and_Accessories_5.json.gz"
   ]
  },
  {
   "cell_type": "code",
   "execution_count": 13,
   "id": "465197b3-3e35-4bb4-b743-f2f95f9ea6b4",
   "metadata": {},
   "outputs": [
    {
     "data": {
      "text/html": [
       "<div>\n",
       "<style scoped>\n",
       "    .dataframe tbody tr th:only-of-type {\n",
       "        vertical-align: middle;\n",
       "    }\n",
       "\n",
       "    .dataframe tbody tr th {\n",
       "        vertical-align: top;\n",
       "    }\n",
       "\n",
       "    .dataframe thead th {\n",
       "        text-align: right;\n",
       "    }\n",
       "</style>\n",
       "<table border=\"1\" class=\"dataframe\">\n",
       "  <thead>\n",
       "    <tr style=\"text-align: right;\">\n",
       "      <th></th>\n",
       "      <th>reviewerID</th>\n",
       "      <th>asin</th>\n",
       "      <th>reviewerName</th>\n",
       "      <th>helpful</th>\n",
       "      <th>reviewText</th>\n",
       "      <th>overall</th>\n",
       "      <th>summary</th>\n",
       "      <th>unixReviewTime</th>\n",
       "      <th>reviewTime</th>\n",
       "    </tr>\n",
       "  </thead>\n",
       "  <tbody>\n",
       "    <tr>\n",
       "      <th>0</th>\n",
       "      <td>A30TL5EWN6DFXT</td>\n",
       "      <td>120401325X</td>\n",
       "      <td>christina</td>\n",
       "      <td>[0, 0]</td>\n",
       "      <td>They look good and stick good! I just don't li...</td>\n",
       "      <td>4</td>\n",
       "      <td>Looks Good</td>\n",
       "      <td>1400630400</td>\n",
       "      <td>05 21, 2014</td>\n",
       "    </tr>\n",
       "    <tr>\n",
       "      <th>1</th>\n",
       "      <td>ASY55RVNIL0UD</td>\n",
       "      <td>120401325X</td>\n",
       "      <td>emily l.</td>\n",
       "      <td>[0, 0]</td>\n",
       "      <td>These stickers work like the review says they ...</td>\n",
       "      <td>5</td>\n",
       "      <td>Really great product.</td>\n",
       "      <td>1389657600</td>\n",
       "      <td>01 14, 2014</td>\n",
       "    </tr>\n",
       "    <tr>\n",
       "      <th>2</th>\n",
       "      <td>A2TMXE2AFO7ONB</td>\n",
       "      <td>120401325X</td>\n",
       "      <td>Erica</td>\n",
       "      <td>[0, 0]</td>\n",
       "      <td>These are awesome and make my phone look so st...</td>\n",
       "      <td>5</td>\n",
       "      <td>LOVE LOVE LOVE</td>\n",
       "      <td>1403740800</td>\n",
       "      <td>06 26, 2014</td>\n",
       "    </tr>\n",
       "    <tr>\n",
       "      <th>3</th>\n",
       "      <td>AWJ0WZQYMYFQ4</td>\n",
       "      <td>120401325X</td>\n",
       "      <td>JM</td>\n",
       "      <td>[4, 4]</td>\n",
       "      <td>Item arrived in great time and was in perfect ...</td>\n",
       "      <td>4</td>\n",
       "      <td>Cute!</td>\n",
       "      <td>1382313600</td>\n",
       "      <td>10 21, 2013</td>\n",
       "    </tr>\n",
       "    <tr>\n",
       "      <th>4</th>\n",
       "      <td>ATX7CZYFXI1KW</td>\n",
       "      <td>120401325X</td>\n",
       "      <td>patrice m rogoza</td>\n",
       "      <td>[2, 3]</td>\n",
       "      <td>awesome! stays on, and looks great. can be use...</td>\n",
       "      <td>5</td>\n",
       "      <td>leopard home button sticker for iphone 4s</td>\n",
       "      <td>1359849600</td>\n",
       "      <td>02 3, 2013</td>\n",
       "    </tr>\n",
       "    <tr>\n",
       "      <th>...</th>\n",
       "      <td>...</td>\n",
       "      <td>...</td>\n",
       "      <td>...</td>\n",
       "      <td>...</td>\n",
       "      <td>...</td>\n",
       "      <td>...</td>\n",
       "      <td>...</td>\n",
       "      <td>...</td>\n",
       "      <td>...</td>\n",
       "    </tr>\n",
       "    <tr>\n",
       "      <th>194434</th>\n",
       "      <td>A1YMNTFLNDYQ1F</td>\n",
       "      <td>B00LORXVUE</td>\n",
       "      <td>eyeused2loveher</td>\n",
       "      <td>[0, 0]</td>\n",
       "      <td>Works great just like my original one. I reall...</td>\n",
       "      <td>5</td>\n",
       "      <td>This works just perfect!</td>\n",
       "      <td>1405900800</td>\n",
       "      <td>07 21, 2014</td>\n",
       "    </tr>\n",
       "    <tr>\n",
       "      <th>194435</th>\n",
       "      <td>A15TX8B2L8B20S</td>\n",
       "      <td>B00LORXVUE</td>\n",
       "      <td>Jon Davidson</td>\n",
       "      <td>[0, 0]</td>\n",
       "      <td>Great product. Great packaging. High quality a...</td>\n",
       "      <td>5</td>\n",
       "      <td>Great replacement cable. Apple certified</td>\n",
       "      <td>1405900800</td>\n",
       "      <td>07 21, 2014</td>\n",
       "    </tr>\n",
       "    <tr>\n",
       "      <th>194436</th>\n",
       "      <td>A3JI7QRZO1QG8X</td>\n",
       "      <td>B00LORXVUE</td>\n",
       "      <td>Joyce M. Davidson</td>\n",
       "      <td>[0, 0]</td>\n",
       "      <td>This is a great cable, just as good as the mor...</td>\n",
       "      <td>5</td>\n",
       "      <td>Real quality</td>\n",
       "      <td>1405900800</td>\n",
       "      <td>07 21, 2014</td>\n",
       "    </tr>\n",
       "    <tr>\n",
       "      <th>194437</th>\n",
       "      <td>A1NHB2VC68YQNM</td>\n",
       "      <td>B00LORXVUE</td>\n",
       "      <td>Nurse Farrugia</td>\n",
       "      <td>[0, 0]</td>\n",
       "      <td>I really like it becasue it works well with my...</td>\n",
       "      <td>5</td>\n",
       "      <td>I really like it becasue it works well with my...</td>\n",
       "      <td>1405814400</td>\n",
       "      <td>07 20, 2014</td>\n",
       "    </tr>\n",
       "    <tr>\n",
       "      <th>194438</th>\n",
       "      <td>A1AG6U022WHXBF</td>\n",
       "      <td>B00LORXVUE</td>\n",
       "      <td>Trisha Crocker</td>\n",
       "      <td>[0, 0]</td>\n",
       "      <td>product as described, I have wasted a lot of m...</td>\n",
       "      <td>5</td>\n",
       "      <td>I have wasted a lot of money on cords</td>\n",
       "      <td>1405900800</td>\n",
       "      <td>07 21, 2014</td>\n",
       "    </tr>\n",
       "  </tbody>\n",
       "</table>\n",
       "<p>194439 rows × 9 columns</p>\n",
       "</div>"
      ],
      "text/plain": [
       "            reviewerID        asin       reviewerName helpful  \\\n",
       "0       A30TL5EWN6DFXT  120401325X          christina  [0, 0]   \n",
       "1        ASY55RVNIL0UD  120401325X           emily l.  [0, 0]   \n",
       "2       A2TMXE2AFO7ONB  120401325X              Erica  [0, 0]   \n",
       "3        AWJ0WZQYMYFQ4  120401325X                 JM  [4, 4]   \n",
       "4        ATX7CZYFXI1KW  120401325X   patrice m rogoza  [2, 3]   \n",
       "...                ...         ...                ...     ...   \n",
       "194434  A1YMNTFLNDYQ1F  B00LORXVUE    eyeused2loveher  [0, 0]   \n",
       "194435  A15TX8B2L8B20S  B00LORXVUE       Jon Davidson  [0, 0]   \n",
       "194436  A3JI7QRZO1QG8X  B00LORXVUE  Joyce M. Davidson  [0, 0]   \n",
       "194437  A1NHB2VC68YQNM  B00LORXVUE     Nurse Farrugia  [0, 0]   \n",
       "194438  A1AG6U022WHXBF  B00LORXVUE     Trisha Crocker  [0, 0]   \n",
       "\n",
       "                                               reviewText  overall  \\\n",
       "0       They look good and stick good! I just don't li...        4   \n",
       "1       These stickers work like the review says they ...        5   \n",
       "2       These are awesome and make my phone look so st...        5   \n",
       "3       Item arrived in great time and was in perfect ...        4   \n",
       "4       awesome! stays on, and looks great. can be use...        5   \n",
       "...                                                   ...      ...   \n",
       "194434  Works great just like my original one. I reall...        5   \n",
       "194435  Great product. Great packaging. High quality a...        5   \n",
       "194436  This is a great cable, just as good as the mor...        5   \n",
       "194437  I really like it becasue it works well with my...        5   \n",
       "194438  product as described, I have wasted a lot of m...        5   \n",
       "\n",
       "                                                  summary  unixReviewTime  \\\n",
       "0                                              Looks Good      1400630400   \n",
       "1                                   Really great product.      1389657600   \n",
       "2                                          LOVE LOVE LOVE      1403740800   \n",
       "3                                                   Cute!      1382313600   \n",
       "4               leopard home button sticker for iphone 4s      1359849600   \n",
       "...                                                   ...             ...   \n",
       "194434                           This works just perfect!      1405900800   \n",
       "194435           Great replacement cable. Apple certified      1405900800   \n",
       "194436                                       Real quality      1405900800   \n",
       "194437  I really like it becasue it works well with my...      1405814400   \n",
       "194438              I have wasted a lot of money on cords      1405900800   \n",
       "\n",
       "         reviewTime  \n",
       "0       05 21, 2014  \n",
       "1       01 14, 2014  \n",
       "2       06 26, 2014  \n",
       "3       10 21, 2013  \n",
       "4        02 3, 2013  \n",
       "...             ...  \n",
       "194434  07 21, 2014  \n",
       "194435  07 21, 2014  \n",
       "194436  07 21, 2014  \n",
       "194437  07 20, 2014  \n",
       "194438  07 21, 2014  \n",
       "\n",
       "[194439 rows x 9 columns]"
      ]
     },
     "execution_count": 13,
     "metadata": {},
     "output_type": "execute_result"
    }
   ],
   "source": [
    "df = pd.read_json(\"Cell_Phones_and_Accessories_5.json\", lines=True)\n",
    "df"
   ]
  },
  {
   "cell_type": "code",
   "execution_count": 14,
   "id": "bd26db7c-462b-41ea-9a10-985a0512d22d",
   "metadata": {},
   "outputs": [],
   "source": [
    "# now we are going to train a Word2vvec Model using only the reviewText Column"
   ]
  },
  {
   "cell_type": "code",
   "execution_count": 15,
   "id": "5d629c1f-0987-433f-a452-a60cbddaa7c1",
   "metadata": {},
   "outputs": [
    {
     "data": {
      "text/plain": [
       "(194439, 9)"
      ]
     },
     "execution_count": 15,
     "metadata": {},
     "output_type": "execute_result"
    }
   ],
   "source": [
    "\n",
    "df.shape"
   ]
  },
  {
   "cell_type": "code",
   "execution_count": 16,
   "id": "8322a259-8263-4edf-a4b4-9b7ec2ce21e9",
   "metadata": {},
   "outputs": [
    {
     "data": {
      "text/plain": [
       "0         They look good and stick good! I just don't li...\n",
       "1         These stickers work like the review says they ...\n",
       "2         These are awesome and make my phone look so st...\n",
       "3         Item arrived in great time and was in perfect ...\n",
       "4         awesome! stays on, and looks great. can be use...\n",
       "                                ...                        \n",
       "194434    Works great just like my original one. I reall...\n",
       "194435    Great product. Great packaging. High quality a...\n",
       "194436    This is a great cable, just as good as the mor...\n",
       "194437    I really like it becasue it works well with my...\n",
       "194438    product as described, I have wasted a lot of m...\n",
       "Name: reviewText, Length: 194439, dtype: object"
      ]
     },
     "execution_count": 16,
     "metadata": {},
     "output_type": "execute_result"
    }
   ],
   "source": [
    "df.reviewText"
   ]
  },
  {
   "cell_type": "code",
   "execution_count": 17,
   "id": "9f8307af-e416-4008-b080-73119885f92a",
   "metadata": {},
   "outputs": [
    {
     "data": {
      "text/plain": [
       "\"They look good and stick good! I just don't like the rounded shape because I was always bumping it and Siri kept popping up and it was irritating. I just won't buy a product like this again\""
      ]
     },
     "execution_count": 17,
     "metadata": {},
     "output_type": "execute_result"
    }
   ],
   "source": [
    "df.reviewText[0]"
   ]
  },
  {
   "cell_type": "markdown",
   "id": "5e415798-c169-4cb0-a40f-76af966dc474",
   "metadata": {},
   "source": [
    "here we have to do the pre-possing like lower-order sentences;removing the punctuation mark and so on"
   ]
  },
  {
   "cell_type": "markdown",
   "id": "79ed7cb0-c332-4ec6-a449-6cd760882d33",
   "metadata": {},
   "source": [
    "this can easily be done using the Gensim Library"
   ]
  },
  {
   "cell_type": "code",
   "execution_count": 20,
   "id": "efcec9eb-1a5d-45a6-83e8-c6d4a071f630",
   "metadata": {},
   "outputs": [
    {
     "data": {
      "text/plain": [
       "['they',\n",
       " 'look',\n",
       " 'good',\n",
       " 'and',\n",
       " 'stick',\n",
       " 'good',\n",
       " 'just',\n",
       " 'don',\n",
       " 'like',\n",
       " 'the',\n",
       " 'rounded',\n",
       " 'shape',\n",
       " 'because',\n",
       " 'was',\n",
       " 'always',\n",
       " 'bumping',\n",
       " 'it',\n",
       " 'and',\n",
       " 'siri',\n",
       " 'kept',\n",
       " 'popping',\n",
       " 'up']"
      ]
     },
     "execution_count": 20,
     "metadata": {},
     "output_type": "execute_result"
    }
   ],
   "source": [
    "gensim.utils.simple_preprocess(\"They look good and stick good! I just don't like the rounded shape because I was always bumping it and Siri kept popping up \")"
   ]
  },
  {
   "cell_type": "code",
   "execution_count": 21,
   "id": "f74a2437-f996-43de-9612-db6d5f2cbeac",
   "metadata": {},
   "outputs": [],
   "source": [
    "# gensim.utils.simple_preprocess it is a prebuilt function basically Tiokenizing it"
   ]
  },
  {
   "cell_type": "code",
   "execution_count": 22,
   "id": "a3a0aaa7-6f20-42bf-9b96-24c8f53ae44b",
   "metadata": {},
   "outputs": [
    {
     "data": {
      "text/plain": [
       "0         [they, look, good, and, stick, good, just, don...\n",
       "1         [these, stickers, work, like, the, review, say...\n",
       "2         [these, are, awesome, and, make, my, phone, lo...\n",
       "3         [item, arrived, in, great, time, and, was, in,...\n",
       "4         [awesome, stays, on, and, looks, great, can, b...\n",
       "                                ...                        \n",
       "194434    [works, great, just, like, my, original, one, ...\n",
       "194435    [great, product, great, packaging, high, quali...\n",
       "194436    [this, is, great, cable, just, as, good, as, t...\n",
       "194437    [really, like, it, becasue, it, works, well, w...\n",
       "194438    [product, as, described, have, wasted, lot, of...\n",
       "Name: reviewText, Length: 194439, dtype: object"
      ]
     },
     "execution_count": 22,
     "metadata": {},
     "output_type": "execute_result"
    }
   ],
   "source": [
    "review_text = df.reviewText.apply(gensim.utils.simple_preprocess)\n",
    "review_text"
   ]
  },
  {
   "cell_type": "markdown",
   "id": "716bde3e-27db-4582-8079-a4b1e18c545e",
   "metadata": {},
   "source": [
    "#########################################################\n",
    "\n",
    "Gensim is an NLP library and it comes with Word2vec class"
   ]
  },
  {
   "cell_type": "code",
   "execution_count": 24,
   "id": "3d45c662-b27f-48d0-8030-eebe607649a8",
   "metadata": {},
   "outputs": [],
   "source": [
    "## Training the Model\n",
    "model = gensim.models.Word2Vec(\n",
    "    window=10,## here Window=10 means 10 words before/after ur Target Words\n",
    "    min_count=2,## min_count =2is at least need 2 word for training\n",
    "    workers=4,## workers is how many CPU threads is needed to train the model\n",
    ")"
   ]
  },
  {
   "cell_type": "code",
   "execution_count": 25,
   "id": "b94afb78-5395-4761-bb0a-8b062c1bd913",
   "metadata": {},
   "outputs": [],
   "source": [
    "#Build Vocabulary\n",
    "model.build_vocab(review_text, progress_per=1000)"
   ]
  },
  {
   "cell_type": "code",
   "execution_count": 27,
   "id": "83f3eac0-86f6-44fb-ad28-639e36b9d0af",
   "metadata": {},
   "outputs": [
    {
     "data": {
      "text/plain": [
       "194439"
      ]
     },
     "execution_count": 27,
     "metadata": {},
     "output_type": "execute_result"
    }
   ],
   "source": [
    "model.corpus_count### how many examples we have"
   ]
  },
  {
   "cell_type": "code",
   "execution_count": 28,
   "id": "016cff56-0bd5-4a75-93ed-592b12d68a96",
   "metadata": {},
   "outputs": [
    {
     "data": {
      "text/plain": [
       "5"
      ]
     },
     "execution_count": 28,
     "metadata": {},
     "output_type": "execute_result"
    }
   ],
   "source": [
    "model.epochs## by Default eto dewa"
   ]
  },
  {
   "cell_type": "code",
   "execution_count": 29,
   "id": "3ee71f59-2241-40c4-8826-27147342b79e",
   "metadata": {},
   "outputs": [
    {
     "data": {
      "text/plain": [
       "(61501232, 83868975)"
      ]
     },
     "execution_count": 29,
     "metadata": {},
     "output_type": "execute_result"
    }
   ],
   "source": [
    "###Train the Word2Vec Model\n",
    "model.train(review_text, total_examples=model.corpus_count, epochs=model.epochs)"
   ]
  },
  {
   "cell_type": "markdown",
   "id": "38708ffc-3cb2-4d3e-80bb-08f990c67508",
   "metadata": {},
   "source": [
    "# Save the Model\n",
    "Save the model so that it can be reused in other applications"
   ]
  },
  {
   "cell_type": "code",
   "execution_count": 31,
   "id": "0fa2f7b8-980c-475c-b705-6f130a8da77a",
   "metadata": {},
   "outputs": [],
   "source": [
    "model.save(\"./word2vec-amazon-cell-accessories-reviews-short.model\")"
   ]
  },
  {
   "cell_type": "markdown",
   "id": "6d222dc4-1382-4cf6-a3b5-5b08e9b3da39",
   "metadata": {},
   "source": [
    "# Evaluating\n",
    "Finding Similar Words and Similarity between words"
   ]
  },
  {
   "cell_type": "code",
   "execution_count": 33,
   "id": "b3c37476-382f-4a1d-8ffd-aa926d554f30",
   "metadata": {},
   "outputs": [
    {
     "data": {
      "text/plain": [
       "[('terrible', 0.7004721760749817),\n",
       " ('shabby', 0.6529711484909058),\n",
       " ('horrible', 0.6155804991722107),\n",
       " ('good', 0.5861226916313171),\n",
       " ('weird', 0.5269432663917542),\n",
       " ('awful', 0.5240021347999573),\n",
       " ('poor', 0.5232263803482056),\n",
       " ('mad', 0.5222101211547852),\n",
       " ('okay', 0.5203279256820679),\n",
       " ('funny', 0.5189719200134277)]"
      ]
     },
     "execution_count": 33,
     "metadata": {},
     "output_type": "execute_result"
    }
   ],
   "source": [
    "model.wv.most_similar(\"bad\")"
   ]
  },
  {
   "cell_type": "markdown",
   "id": "f20557fc-c56d-496c-9e44-5ef0b1024d8a",
   "metadata": {},
   "source": [
    "*Checking Similarity Score*"
   ]
  },
  {
   "cell_type": "code",
   "execution_count": 35,
   "id": "87ac8a88-d6a5-4015-9dce-73ec9e53bfaf",
   "metadata": {},
   "outputs": [
    {
     "data": {
      "text/plain": [
       "0.5391328"
      ]
     },
     "execution_count": 35,
     "metadata": {},
     "output_type": "execute_result"
    }
   ],
   "source": [
    "model.wv.similarity(w1=\"cheap\", w2=\"inexpensive\")"
   ]
  },
  {
   "cell_type": "code",
   "execution_count": 36,
   "id": "aa5dc2f3-bded-422c-b1c8-f97b513ed7bd",
   "metadata": {},
   "outputs": [
    {
     "data": {
      "text/plain": [
       "0.7860492"
      ]
     },
     "execution_count": 36,
     "metadata": {},
     "output_type": "execute_result"
    }
   ],
   "source": [
    "model.wv.similarity(w1=\"great\", w2=\"good\")"
   ]
  },
  {
   "cell_type": "code",
   "execution_count": 55,
   "id": "461fd711-4013-4bd1-bca3-fe0ceb8845b4",
   "metadata": {},
   "outputs": [
    {
     "data": {
      "text/plain": [
       "1.0"
      ]
     },
     "execution_count": 55,
     "metadata": {},
     "output_type": "execute_result"
    }
   ],
   "source": [
    "model.wv.similarity(w1=\"great\", w2=\"great\")"
   ]
  },
  {
   "cell_type": "markdown",
   "id": "69fd5cd3-8d94-4b9f-acb5-5a0ff657778b",
   "metadata": {},
   "source": [
    "# Exercise\n",
    "Train a word2vec model on the Sports & Outdoors Reviews Dataset Once you train a model on this, find the words most similar to 'awful' and find similarities between the following word tuples: ('good', 'great'), ('slow','steady')"
   ]
  },
  {
   "cell_type": "code",
   "execution_count": 61,
   "id": "81c5f609-537c-4599-a298-68ec07542100",
   "metadata": {},
   "outputs": [],
   "source": [
    "import gensim\n",
    "import pandas as pd"
   ]
  },
  {
   "cell_type": "code",
   "execution_count": 65,
   "id": "b5399ab1-0839-4b8d-9938-3376be5a0a59",
   "metadata": {},
   "outputs": [
    {
     "data": {
      "text/html": [
       "<div>\n",
       "<style scoped>\n",
       "    .dataframe tbody tr th:only-of-type {\n",
       "        vertical-align: middle;\n",
       "    }\n",
       "\n",
       "    .dataframe tbody tr th {\n",
       "        vertical-align: top;\n",
       "    }\n",
       "\n",
       "    .dataframe thead th {\n",
       "        text-align: right;\n",
       "    }\n",
       "</style>\n",
       "<table border=\"1\" class=\"dataframe\">\n",
       "  <thead>\n",
       "    <tr style=\"text-align: right;\">\n",
       "      <th></th>\n",
       "      <th>reviewerID</th>\n",
       "      <th>asin</th>\n",
       "      <th>reviewerName</th>\n",
       "      <th>helpful</th>\n",
       "      <th>reviewText</th>\n",
       "      <th>overall</th>\n",
       "      <th>summary</th>\n",
       "      <th>unixReviewTime</th>\n",
       "      <th>reviewTime</th>\n",
       "    </tr>\n",
       "  </thead>\n",
       "  <tbody>\n",
       "    <tr>\n",
       "      <th>0</th>\n",
       "      <td>AIXZKN4ACSKI</td>\n",
       "      <td>1881509818</td>\n",
       "      <td>David Briner</td>\n",
       "      <td>[0, 0]</td>\n",
       "      <td>This came in on time and I am veru happy with ...</td>\n",
       "      <td>5</td>\n",
       "      <td>Woks very good</td>\n",
       "      <td>1390694400</td>\n",
       "      <td>01 26, 2014</td>\n",
       "    </tr>\n",
       "    <tr>\n",
       "      <th>1</th>\n",
       "      <td>A1L5P841VIO02V</td>\n",
       "      <td>1881509818</td>\n",
       "      <td>Jason A. Kramer</td>\n",
       "      <td>[1, 1]</td>\n",
       "      <td>I had a factory Glock tool that I was using fo...</td>\n",
       "      <td>5</td>\n",
       "      <td>Works as well as the factory tool</td>\n",
       "      <td>1328140800</td>\n",
       "      <td>02 2, 2012</td>\n",
       "    </tr>\n",
       "    <tr>\n",
       "      <th>2</th>\n",
       "      <td>AB2W04NI4OEAD</td>\n",
       "      <td>1881509818</td>\n",
       "      <td>J. Fernald</td>\n",
       "      <td>[2, 2]</td>\n",
       "      <td>If you don't have a 3/32 punch or would like t...</td>\n",
       "      <td>4</td>\n",
       "      <td>It's a punch, that's all.</td>\n",
       "      <td>1330387200</td>\n",
       "      <td>02 28, 2012</td>\n",
       "    </tr>\n",
       "    <tr>\n",
       "      <th>3</th>\n",
       "      <td>A148SVSWKTJKU6</td>\n",
       "      <td>1881509818</td>\n",
       "      <td>Jusitn A. Watts \"Maverick9614\"</td>\n",
       "      <td>[0, 0]</td>\n",
       "      <td>This works no better than any 3/32 punch you w...</td>\n",
       "      <td>4</td>\n",
       "      <td>It's a punch with a Glock logo.</td>\n",
       "      <td>1328400000</td>\n",
       "      <td>02 5, 2012</td>\n",
       "    </tr>\n",
       "    <tr>\n",
       "      <th>4</th>\n",
       "      <td>AAAWJ6LW9WMOO</td>\n",
       "      <td>1881509818</td>\n",
       "      <td>Material Man</td>\n",
       "      <td>[0, 0]</td>\n",
       "      <td>I purchased this thinking maybe I need a speci...</td>\n",
       "      <td>4</td>\n",
       "      <td>Ok,tool does what a regular punch does.</td>\n",
       "      <td>1366675200</td>\n",
       "      <td>04 23, 2013</td>\n",
       "    </tr>\n",
       "    <tr>\n",
       "      <th>...</th>\n",
       "      <td>...</td>\n",
       "      <td>...</td>\n",
       "      <td>...</td>\n",
       "      <td>...</td>\n",
       "      <td>...</td>\n",
       "      <td>...</td>\n",
       "      <td>...</td>\n",
       "      <td>...</td>\n",
       "      <td>...</td>\n",
       "    </tr>\n",
       "    <tr>\n",
       "      <th>296332</th>\n",
       "      <td>A2XX2A4OJCDNLZ</td>\n",
       "      <td>B00LFPS0CY</td>\n",
       "      <td>RatherLiveInKeyWest</td>\n",
       "      <td>[2, 3]</td>\n",
       "      <td>This is a water bottle done right. It is a ver...</td>\n",
       "      <td>5</td>\n",
       "      <td>Hydracentials Sporty 25 Oz Stainless Steel Wat...</td>\n",
       "      <td>1405036800</td>\n",
       "      <td>07 11, 2014</td>\n",
       "    </tr>\n",
       "    <tr>\n",
       "      <th>296333</th>\n",
       "      <td>A3LGT6UZL99IW1</td>\n",
       "      <td>B00LFPS0CY</td>\n",
       "      <td>Richard C. Drew \"Anaal Nathra/Uthe vas Bethod...</td>\n",
       "      <td>[0, 0]</td>\n",
       "      <td>If you're looking for an insulated water bottl...</td>\n",
       "      <td>5</td>\n",
       "      <td>Large, incredibly well made water bottle!</td>\n",
       "      <td>1405641600</td>\n",
       "      <td>07 18, 2014</td>\n",
       "    </tr>\n",
       "    <tr>\n",
       "      <th>296334</th>\n",
       "      <td>ASKZO80Z1RKTR</td>\n",
       "      <td>B00LFPS0CY</td>\n",
       "      <td>Robin Lee</td>\n",
       "      <td>[0, 0]</td>\n",
       "      <td>This Hydracentials Sporty 25 OZ, double insula...</td>\n",
       "      <td>5</td>\n",
       "      <td>\"Great Water Bottle For Hot Day\"......</td>\n",
       "      <td>1405900800</td>\n",
       "      <td>07 21, 2014</td>\n",
       "    </tr>\n",
       "    <tr>\n",
       "      <th>296335</th>\n",
       "      <td>APRNS6DB68LLV</td>\n",
       "      <td>B00LFPS0CY</td>\n",
       "      <td>Rob Slaven \"slavenrm@gmail. com\"</td>\n",
       "      <td>[1, 1]</td>\n",
       "      <td>As usual I received this item free in exchange...</td>\n",
       "      <td>5</td>\n",
       "      <td>A pretty impressive water bottle.  Best I've s...</td>\n",
       "      <td>1405900800</td>\n",
       "      <td>07 21, 2014</td>\n",
       "    </tr>\n",
       "    <tr>\n",
       "      <th>296336</th>\n",
       "      <td>A3UJRNI8UR4871</td>\n",
       "      <td>B00LFPS0CY</td>\n",
       "      <td>Wulfstan \"wulfstan\"</td>\n",
       "      <td>[2, 2]</td>\n",
       "      <td>Hydracentials insulated 25 oz water bottle.Thi...</td>\n",
       "      <td>5</td>\n",
       "      <td>\"Cool\" Bottle!</td>\n",
       "      <td>1405382400</td>\n",
       "      <td>07 15, 2014</td>\n",
       "    </tr>\n",
       "  </tbody>\n",
       "</table>\n",
       "<p>296337 rows × 9 columns</p>\n",
       "</div>"
      ],
      "text/plain": [
       "            reviewerID        asin  \\\n",
       "0         AIXZKN4ACSKI  1881509818   \n",
       "1       A1L5P841VIO02V  1881509818   \n",
       "2        AB2W04NI4OEAD  1881509818   \n",
       "3       A148SVSWKTJKU6  1881509818   \n",
       "4        AAAWJ6LW9WMOO  1881509818   \n",
       "...                ...         ...   \n",
       "296332  A2XX2A4OJCDNLZ  B00LFPS0CY   \n",
       "296333  A3LGT6UZL99IW1  B00LFPS0CY   \n",
       "296334   ASKZO80Z1RKTR  B00LFPS0CY   \n",
       "296335   APRNS6DB68LLV  B00LFPS0CY   \n",
       "296336  A3UJRNI8UR4871  B00LFPS0CY   \n",
       "\n",
       "                                            reviewerName helpful  \\\n",
       "0                                           David Briner  [0, 0]   \n",
       "1                                        Jason A. Kramer  [1, 1]   \n",
       "2                                             J. Fernald  [2, 2]   \n",
       "3                         Jusitn A. Watts \"Maverick9614\"  [0, 0]   \n",
       "4                                           Material Man  [0, 0]   \n",
       "...                                                  ...     ...   \n",
       "296332                               RatherLiveInKeyWest  [2, 3]   \n",
       "296333  Richard C. Drew \"Anaal Nathra/Uthe vas Bethod...  [0, 0]   \n",
       "296334                                         Robin Lee  [0, 0]   \n",
       "296335                  Rob Slaven \"slavenrm@gmail. com\"  [1, 1]   \n",
       "296336                               Wulfstan \"wulfstan\"  [2, 2]   \n",
       "\n",
       "                                               reviewText  overall  \\\n",
       "0       This came in on time and I am veru happy with ...        5   \n",
       "1       I had a factory Glock tool that I was using fo...        5   \n",
       "2       If you don't have a 3/32 punch or would like t...        4   \n",
       "3       This works no better than any 3/32 punch you w...        4   \n",
       "4       I purchased this thinking maybe I need a speci...        4   \n",
       "...                                                   ...      ...   \n",
       "296332  This is a water bottle done right. It is a ver...        5   \n",
       "296333  If you're looking for an insulated water bottl...        5   \n",
       "296334  This Hydracentials Sporty 25 OZ, double insula...        5   \n",
       "296335  As usual I received this item free in exchange...        5   \n",
       "296336  Hydracentials insulated 25 oz water bottle.Thi...        5   \n",
       "\n",
       "                                                  summary  unixReviewTime  \\\n",
       "0                                          Woks very good      1390694400   \n",
       "1                       Works as well as the factory tool      1328140800   \n",
       "2                               It's a punch, that's all.      1330387200   \n",
       "3                         It's a punch with a Glock logo.      1328400000   \n",
       "4                 Ok,tool does what a regular punch does.      1366675200   \n",
       "...                                                   ...             ...   \n",
       "296332  Hydracentials Sporty 25 Oz Stainless Steel Wat...      1405036800   \n",
       "296333          Large, incredibly well made water bottle!      1405641600   \n",
       "296334             \"Great Water Bottle For Hot Day\"......      1405900800   \n",
       "296335  A pretty impressive water bottle.  Best I've s...      1405900800   \n",
       "296336                                     \"Cool\" Bottle!      1405382400   \n",
       "\n",
       "         reviewTime  \n",
       "0       01 26, 2014  \n",
       "1        02 2, 2012  \n",
       "2       02 28, 2012  \n",
       "3        02 5, 2012  \n",
       "4       04 23, 2013  \n",
       "...             ...  \n",
       "296332  07 11, 2014  \n",
       "296333  07 18, 2014  \n",
       "296334  07 21, 2014  \n",
       "296335  07 21, 2014  \n",
       "296336  07 15, 2014  \n",
       "\n",
       "[296337 rows x 9 columns]"
      ]
     },
     "execution_count": 65,
     "metadata": {},
     "output_type": "execute_result"
    }
   ],
   "source": [
    "df = pd.read_json(\"Sports_and_Outdoors_5.json\", lines=True)\n",
    "df"
   ]
  },
  {
   "cell_type": "code",
   "execution_count": 67,
   "id": "e5629b37-5105-425c-9496-08bd0d135709",
   "metadata": {},
   "outputs": [
    {
     "data": {
      "text/plain": [
       "(296337, 9)"
      ]
     },
     "execution_count": 67,
     "metadata": {},
     "output_type": "execute_result"
    }
   ],
   "source": [
    "df.shape"
   ]
  },
  {
   "cell_type": "code",
   "execution_count": 69,
   "id": "95592161-12ae-46cd-ba7a-6dba706fa437",
   "metadata": {},
   "outputs": [
    {
     "data": {
      "text/plain": [
       "0         [this, came, in, on, time, and, am, veru, happ...\n",
       "1         [had, factory, glock, tool, that, was, using, ...\n",
       "2         [if, you, don, have, punch, or, would, like, t...\n",
       "3         [this, works, no, better, than, any, punch, yo...\n",
       "4         [purchased, this, thinking, maybe, need, speci...\n",
       "                                ...                        \n",
       "296332    [this, is, water, bottle, done, right, it, is,...\n",
       "296333    [if, you, re, looking, for, an, insulated, wat...\n",
       "296334    [this, hydracentials, sporty, oz, double, insu...\n",
       "296335    [as, usual, received, this, item, free, in, ex...\n",
       "296336    [hydracentials, insulated, oz, water, bottle, ...\n",
       "Name: reviewText, Length: 296337, dtype: object"
      ]
     },
     "execution_count": 69,
     "metadata": {},
     "output_type": "execute_result"
    }
   ],
   "source": [
    "review_text = df.reviewText.apply(gensim.utils.simple_preprocess)\n",
    "review_text"
   ]
  },
  {
   "cell_type": "code",
   "execution_count": 71,
   "id": "403a7550-c22c-43de-a955-4098fdb214c2",
   "metadata": {},
   "outputs": [],
   "source": [
    "## Training the Model\n",
    "model = gensim.models.Word2Vec(\n",
    "    window=20,## here Window=10 means 10 words before/after ur Target Words\n",
    "    min_count=2,## min_count =2is at least need 2 word for training\n",
    "    workers=4,## workers is how many CPU threads is needed to train the model\n",
    ")"
   ]
  },
  {
   "cell_type": "code",
   "execution_count": 73,
   "id": "bf71453b-66dc-4478-89e0-5ba3d92e0247",
   "metadata": {},
   "outputs": [],
   "source": [
    "model.build_vocab(review_text, progress_per=1000)"
   ]
  },
  {
   "cell_type": "code",
   "execution_count": 75,
   "id": "3c0e2718-80c7-43d6-8334-4654d0dc2ba8",
   "metadata": {},
   "outputs": [
    {
     "data": {
      "text/plain": [
       "(182680031, 242993070)"
      ]
     },
     "execution_count": 75,
     "metadata": {},
     "output_type": "execute_result"
    }
   ],
   "source": [
    "model.train(review_text, total_examples=model.corpus_count, epochs=10)"
   ]
  },
  {
   "cell_type": "code",
   "execution_count": 77,
   "id": "6bb0f6a1-c031-420b-a23e-9c676e14ba93",
   "metadata": {},
   "outputs": [],
   "source": [
    "model.save(\"./Sports_and_Outdoors_5.model\")"
   ]
  },
  {
   "cell_type": "code",
   "execution_count": 79,
   "id": "3ecbd0b1-6cf6-4285-b943-bfc974459c3f",
   "metadata": {},
   "outputs": [
    {
     "data": {
      "text/plain": [
       "[('terrible', 0.6925578117370605),\n",
       " ('horrible', 0.6728781461715698),\n",
       " ('poor', 0.5704731345176697),\n",
       " ('overpowering', 0.5527158379554749),\n",
       " ('unacceptable', 0.550285816192627),\n",
       " ('crappy', 0.54129958152771),\n",
       " ('ugly', 0.5367524027824402),\n",
       " ('stupid', 0.5298815369606018),\n",
       " ('utter', 0.5289550423622131),\n",
       " ('sad', 0.5264509320259094)]"
      ]
     },
     "execution_count": 79,
     "metadata": {},
     "output_type": "execute_result"
    }
   ],
   "source": [
    "model.wv.most_similar(\"awful\")"
   ]
  },
  {
   "cell_type": "code",
   "execution_count": 81,
   "id": "b7140f02-c8ac-452b-8296-dc4f014307df",
   "metadata": {},
   "outputs": [
    {
     "data": {
      "text/plain": [
       "0.7698795"
      ]
     },
     "execution_count": 81,
     "metadata": {},
     "output_type": "execute_result"
    }
   ],
   "source": [
    "model.wv.similarity(w1=\"good\", w2=\"great\")"
   ]
  },
  {
   "cell_type": "code",
   "execution_count": 83,
   "id": "64664209-4c92-40e1-a764-a0544460e767",
   "metadata": {},
   "outputs": [
    {
     "data": {
      "text/plain": [
       "0.42195684"
      ]
     },
     "execution_count": 83,
     "metadata": {},
     "output_type": "execute_result"
    }
   ],
   "source": [
    "model.wv.similarity(w1=\"slow\", w2=\"steady\")"
   ]
  },
  {
   "cell_type": "code",
   "execution_count": null,
   "id": "74a50e65-c00b-48a5-84f5-ead21face1a7",
   "metadata": {},
   "outputs": [],
   "source": []
  }
 ],
 "metadata": {
  "kernelspec": {
   "display_name": "Python 3 (ipykernel)",
   "language": "python",
   "name": "python3"
  },
  "language_info": {
   "codemirror_mode": {
    "name": "ipython",
    "version": 3
   },
   "file_extension": ".py",
   "mimetype": "text/x-python",
   "name": "python",
   "nbconvert_exporter": "python",
   "pygments_lexer": "ipython3",
   "version": "3.12.7"
  }
 },
 "nbformat": 4,
 "nbformat_minor": 5
}
