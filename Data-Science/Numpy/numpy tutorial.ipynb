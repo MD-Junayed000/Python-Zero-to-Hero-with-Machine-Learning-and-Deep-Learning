{
 "cells": [
  {
   "cell_type": "code",
   "execution_count": 4,
   "id": "a61aacac-7315-4dae-8541-b13a49b9c199",
   "metadata": {},
   "outputs": [
    {
     "data": {
      "text/plain": [
       "array([1, 5, 7, 3])"
      ]
     },
     "execution_count": 4,
     "metadata": {},
     "output_type": "execute_result"
    }
   ],
   "source": [
    "import numpy as np\n",
    "a=np.array([1,5,7,3])\n",
    "a"
   ]
  },
  {
   "cell_type": "code",
   "execution_count": 6,
   "id": "2b4a4928-9a6b-4ff5-9a69-4499b297fee3",
   "metadata": {},
   "outputs": [
    {
     "data": {
      "text/plain": [
       "5"
      ]
     },
     "execution_count": 6,
     "metadata": {},
     "output_type": "execute_result"
    }
   ],
   "source": [
    "a[1]"
   ]
  },
  {
   "cell_type": "code",
   "execution_count": 2,
   "id": "4605f85b-b8ad-48e4-8fa9-adaf900f6c6f",
   "metadata": {},
   "outputs": [
    {
     "data": {
      "text/plain": [
       "array([1., 2.])"
      ]
     },
     "execution_count": 2,
     "metadata": {},
     "output_type": "execute_result"
    }
   ],
   "source": [
    "import numpy as np\n",
    "x = np.array([1.0, 2.0])   \n",
    "x"
   ]
  },
  {
   "cell_type": "code",
   "execution_count": 4,
   "id": "d5a47e43-8228-464d-b470-9c5b5875c860",
   "metadata": {},
   "outputs": [
    {
     "data": {
      "text/plain": [
       "(2,)"
      ]
     },
     "execution_count": 4,
     "metadata": {},
     "output_type": "execute_result"
    }
   ],
   "source": [
    "x.shape"
   ]
  },
  {
   "cell_type": "code",
   "execution_count": 6,
   "id": "f279b97c-6c45-40c8-9a4e-0baafc3886ae",
   "metadata": {},
   "outputs": [
    {
     "data": {
      "text/plain": [
       "2"
      ]
     },
     "execution_count": 6,
     "metadata": {},
     "output_type": "execute_result"
    }
   ],
   "source": [
    "x.shape[0]"
   ]
  },
  {
   "cell_type": "code",
   "execution_count": 8,
   "id": "1bc9f2bd-e251-452d-9077-d3aa6081f871",
   "metadata": {},
   "outputs": [
    {
     "ename": "IndexError",
     "evalue": "tuple index out of range",
     "output_type": "error",
     "traceback": [
      "\u001b[1;31m---------------------------------------------------------------------------\u001b[0m",
      "\u001b[1;31mIndexError\u001b[0m                                Traceback (most recent call last)",
      "Cell \u001b[1;32mIn[8], line 1\u001b[0m\n\u001b[1;32m----> 1\u001b[0m x\u001b[38;5;241m.\u001b[39mshape[\u001b[38;5;241m1\u001b[39m]\n",
      "\u001b[1;31mIndexError\u001b[0m: tuple index out of range"
     ]
    }
   ],
   "source": [
    "x.shape[1]"
   ]
  },
  {
   "cell_type": "code",
   "execution_count": 10,
   "id": "213ef6dd-3390-4a1d-915e-fde9a8ab7f05",
   "metadata": {},
   "outputs": [
    {
     "name": "stdout",
     "output_type": "stream",
     "text": [
      "0 1.0\n",
      "1 2.0\n"
     ]
    }
   ],
   "source": [
    "m=x.shape[0]\n",
    "for i in range(m):\n",
    "    print(i,x[i])"
   ]
  },
  {
   "cell_type": "markdown",
   "id": "485e8dce-7ab3-4c8a-ac64-df1c8e1f0e72",
   "metadata": {},
   "source": [
    "# Calculate total sales from units and price per unit using matrix multiplication"
   ]
  },
  {
   "cell_type": "code",
   "execution_count": 19,
   "id": "8706b63b-d63f-43d0-b95b-ea21c785fa01",
   "metadata": {},
   "outputs": [],
   "source": [
    "price_per_unit = np.array([1000,400,1200])\n",
    "units = np.array([[30,40,50],[5,10,15],[2,5,7]])## each row is an individual unit"
   ]
  },
  {
   "cell_type": "code",
   "execution_count": 21,
   "id": "c6d0a62e-a72f-49e6-9dbe-3db8a440277a",
   "metadata": {},
   "outputs": [
    {
     "data": {
      "text/plain": [
       "array([[30000, 16000, 60000],\n",
       "       [ 5000,  4000, 18000],\n",
       "       [ 2000,  2000,  8400]])"
      ]
     },
     "execution_count": 21,
     "metadata": {},
     "output_type": "execute_result"
    }
   ],
   "source": [
    "price_per_unit*units"
   ]
  },
  {
   "cell_type": "code",
   "execution_count": 29,
   "id": "155873df-f9ad-43ba-a2da-4a2536588e49",
   "metadata": {},
   "outputs": [
    {
     "data": {
      "text/plain": [
       "array([34400, 50000, 64400])"
      ]
     },
     "execution_count": 29,
     "metadata": {},
     "output_type": "execute_result"
    }
   ],
   "source": [
    "np.dot(price_per_unit,  units)"
   ]
  },
  {
   "cell_type": "markdown",
   "id": "eda0c3c9-10ce-426e-93fb-1559b08feada",
   "metadata": {},
   "source": [
    "# Basic Calculation"
   ]
  },
  {
   "cell_type": "code",
   "execution_count": 2,
   "id": "94c13daa-bfcb-411a-810b-fa01efb74b27",
   "metadata": {},
   "outputs": [
    {
     "name": "stdout",
     "output_type": "stream",
     "text": [
      "[1 2 3]\n"
     ]
    }
   ],
   "source": [
    "import numpy as np\n",
    "\n",
    "# Creating a 1D array with 3 elements\n",
    "x = np.array([1, 2, 3])\n",
    "print(x)  # Output: [1 2 3]"
   ]
  },
  {
   "cell_type": "code",
   "execution_count": 4,
   "id": "f49892a9-470c-4c87-b16c-d5200c34c03f",
   "metadata": {},
   "outputs": [
    {
     "name": "stdout",
     "output_type": "stream",
     "text": [
      "[[1 2 3]\n",
      " [4 5 6]]\n"
     ]
    }
   ],
   "source": [
    "# Creating a 2D array (2 rows, 3 columns)\n",
    "y = np.array([[1, 2, 3], [4, 5, 6]])\n",
    "print(y)"
   ]
  },
  {
   "cell_type": "code",
   "execution_count": 44,
   "id": "c79edf69-60bb-4b23-8a6d-6b873b1ed533",
   "metadata": {},
   "outputs": [
    {
     "data": {
      "text/plain": [
       "6"
      ]
     },
     "execution_count": 44,
     "metadata": {},
     "output_type": "execute_result"
    }
   ],
   "source": [
    "y.size###total number o element"
   ]
  },
  {
   "cell_type": "code",
   "execution_count": 54,
   "id": "d7889f82-19be-497a-a687-a5ca6efc2c53",
   "metadata": {},
   "outputs": [
    {
     "data": {
      "text/plain": [
       "array([[1.        , 1.41421356, 1.73205081],\n",
       "       [2.        , 2.23606798, 2.44948974]])"
      ]
     },
     "execution_count": 54,
     "metadata": {},
     "output_type": "execute_result"
    }
   ],
   "source": [
    "np.sqrt(y)\n"
   ]
  },
  {
   "cell_type": "code",
   "execution_count": 58,
   "id": "6dfd9722-5ac0-44dd-aaa0-15318a134a47",
   "metadata": {},
   "outputs": [
    {
     "data": {
      "text/plain": [
       "1.707825127659933"
      ]
     },
     "execution_count": 58,
     "metadata": {},
     "output_type": "execute_result"
    }
   ],
   "source": [
    "np.std(y)###standard deviation"
   ]
  },
  {
   "cell_type": "code",
   "execution_count": 4,
   "id": "90406bc7-e4ba-49a4-8ece-bd6df6aea47f",
   "metadata": {},
   "outputs": [
    {
     "name": "stdout",
     "output_type": "stream",
     "text": [
      "[[0. 0. 0.]]\n"
     ]
    }
   ],
   "source": [
    "# 2x3 array filled with zeros\n",
    "import numpy as np\n",
    "z = np.zeros((1, 3))\n",
    "print(z)"
   ]
  },
  {
   "cell_type": "code",
   "execution_count": 6,
   "id": "79ccbc0a-1030-482f-a132-6e65a28b65b8",
   "metadata": {},
   "outputs": [
    {
     "name": "stdout",
     "output_type": "stream",
     "text": [
      "[[0. 0. 0.]\n",
      " [0. 0. 0.]]\n"
     ]
    }
   ],
   "source": [
    "z = np.zeros((2, 3))\n",
    "print(z)"
   ]
  },
  {
   "cell_type": "code",
   "execution_count": 8,
   "id": "dc64e4c0-99df-4262-871d-80fa0e4ae7f0",
   "metadata": {},
   "outputs": [
    {
     "name": "stdout",
     "output_type": "stream",
     "text": [
      "[[[0. 0. 0.]\n",
      "  [0. 0. 0.]]\n",
      "\n",
      " [[0. 0. 0.]\n",
      "  [0. 0. 0.]]\n",
      "\n",
      " [[0. 0. 0.]\n",
      "  [0. 0. 0.]]\n",
      "\n",
      " [[0. 0. 0.]\n",
      "  [0. 0. 0.]]\n",
      "\n",
      " [[0. 0. 0.]\n",
      "  [0. 0. 0.]]]\n"
     ]
    }
   ],
   "source": [
    "z = np.zeros((5,2, 3))\n",
    "print(z)"
   ]
  },
  {
   "cell_type": "code",
   "execution_count": 8,
   "id": "613fb23a-faa6-4d26-b7f4-f463a3d69ac7",
   "metadata": {},
   "outputs": [
    {
     "name": "stdout",
     "output_type": "stream",
     "text": [
      "[[1. 1. 1.]\n",
      " [1. 1. 1.]\n",
      " [1. 1. 1.]]\n"
     ]
    }
   ],
   "source": [
    "# 3x3 array filled with ones\n",
    "ones_array = np.ones((3, 3))\n",
    "print(ones_array)"
   ]
  },
  {
   "cell_type": "code",
   "execution_count": 12,
   "id": "28b8a5b1-4597-4893-9818-6fe1e747f2f0",
   "metadata": {},
   "outputs": [
    {
     "name": "stdout",
     "output_type": "stream",
     "text": [
      "[[7 7]\n",
      " [7 7]]\n"
     ]
    }
   ],
   "source": [
    "# 2x2 array filled with the value 7\n",
    "full_array = np.full((2, 2), 7)\n",
    "print(full_array)"
   ]
  },
  {
   "cell_type": "markdown",
   "id": "16ddde30-3a6a-4ecc-85b7-754040db035d",
   "metadata": {},
   "source": [
    "***Arrays with Ranges and Steps***"
   ]
  },
  {
   "cell_type": "code",
   "execution_count": 26,
   "id": "ce4dd59e-b3cc-4da6-b1e3-8d06873a0956",
   "metadata": {},
   "outputs": [
    {
     "name": "stdout",
     "output_type": "stream",
     "text": [
      "[0 1 2 3 4 5 6 7 8 9]\n",
      "[2 4 6 8]\n"
     ]
    }
   ],
   "source": [
    "#Arange (Similar to Python's range):\n",
    "# Array with values from 0 to 9\n",
    "range_array = np.arange(10)\n",
    "print(range_array)  # Output: [0 1 2 3 4 5 6 7 8 9]\n",
    "\n",
    "# Array with values from 1 to 9 with step of 2\n",
    "step_array = np.arange(2, 10, 2)\n",
    "print(step_array)  # Output: [1 3 5 7 9]\n",
    "\n"
   ]
  },
  {
   "cell_type": "code",
   "execution_count": 32,
   "id": "8f0971ba-612f-4d04-9c97-0fd31efed5fe",
   "metadata": {},
   "outputs": [
    {
     "name": "stdout",
     "output_type": "stream",
     "text": [
      "[0.   0.25 0.5  0.75 1.  ]\n"
     ]
    }
   ],
   "source": [
    "# Array with 5 values evenly spaced between 0 and 1\n",
    "linspace_array = np.linspace(0, 1, 5)\n",
    "print(linspace_array)  "
   ]
  },
  {
   "cell_type": "markdown",
   "id": "e39f7607-7fcf-4324-94c1-9d6553368548",
   "metadata": {},
   "source": [
    "**Reshaping Arrays**"
   ]
  },
  {
   "cell_type": "code",
   "execution_count": 41,
   "id": "f43fe6ee-a6c6-407e-b11a-64bf8431bbf2",
   "metadata": {},
   "outputs": [
    {
     "name": "stdout",
     "output_type": "stream",
     "text": [
      "[[1 2 3]\n",
      " [4 5 6]]\n"
     ]
    }
   ],
   "source": [
    "# Reshaping a 1D array to a 2D array\n",
    "original_array = np.array([1, 2, 3, 4, 5, 6])\n",
    "reshaped_array = original_array.reshape(2, 3)\n",
    "print(reshaped_array)"
   ]
  },
  {
   "cell_type": "code",
   "execution_count": 46,
   "id": "a6d0ad56-24f7-4e0a-9b3c-0aa7b3a2c483",
   "metadata": {},
   "outputs": [
    {
     "data": {
      "text/plain": [
       "6"
      ]
     },
     "execution_count": 46,
     "metadata": {},
     "output_type": "execute_result"
    }
   ],
   "source": [
    "reshaped_array.max()"
   ]
  },
  {
   "cell_type": "code",
   "execution_count": 50,
   "id": "4d55cc77-8d8f-4f85-b6ed-69112fdc73a9",
   "metadata": {},
   "outputs": [
    {
     "data": {
      "text/plain": [
       "array([5, 7, 9])"
      ]
     },
     "execution_count": 50,
     "metadata": {},
     "output_type": "execute_result"
    }
   ],
   "source": [
    "reshaped_array.sum(axis=0)## axis=0 means each column"
   ]
  },
  {
   "cell_type": "code",
   "execution_count": 52,
   "id": "ee5654a0-6c4c-4dab-a008-71cb8f6ba3f5",
   "metadata": {},
   "outputs": [
    {
     "data": {
      "text/plain": [
       "array([ 6, 15])"
      ]
     },
     "execution_count": 52,
     "metadata": {},
     "output_type": "execute_result"
    }
   ],
   "source": [
    "reshaped_array.sum(axis=1)## axis=1 means each row"
   ]
  },
  {
   "cell_type": "code",
   "execution_count": 82,
   "id": "db3c146a-50bc-4504-98a4-e457693f9261",
   "metadata": {},
   "outputs": [
    {
     "data": {
      "text/plain": [
       "array([[2, 4, 5],\n",
       "       [4, 1, 6],\n",
       "       [7, 4, 1]])"
      ]
     },
     "execution_count": 82,
     "metadata": {},
     "output_type": "execute_result"
    }
   ],
   "source": [
    "a=np.array([[2,4,5],[4,1,6],[7,4,1]])\n",
    "a"
   ]
  },
  {
   "cell_type": "code",
   "execution_count": 84,
   "id": "253eacaa-19ea-408b-9842-335831ba356c",
   "metadata": {},
   "outputs": [
    {
     "name": "stdout",
     "output_type": "stream",
     "text": [
      "[2 4 5]\n",
      "[4 1 6]\n",
      "[7 4 1]\n"
     ]
    }
   ],
   "source": [
    "for row in a:\n",
    "    print(row)"
   ]
  },
  {
   "cell_type": "code",
   "execution_count": 86,
   "id": "f97c6bcb-7649-4cc6-aa4c-79958209316d",
   "metadata": {},
   "outputs": [
    {
     "name": "stdout",
     "output_type": "stream",
     "text": [
      "2\n",
      "4\n",
      "5\n",
      "4\n",
      "1\n",
      "6\n",
      "7\n",
      "4\n",
      "1\n"
     ]
    }
   ],
   "source": [
    "for cell in a.flat:\n",
    "    print(cell)"
   ]
  },
  {
   "cell_type": "code",
   "execution_count": 92,
   "id": "626e84ac-9341-482b-803d-f651113c52e8",
   "metadata": {},
   "outputs": [
    {
     "name": "stdout",
     "output_type": "stream",
     "text": [
      "2\n",
      "4\n",
      "5\n",
      "4\n",
      "1\n",
      "6\n",
      "7\n",
      "4\n",
      "1\n"
     ]
    }
   ],
   "source": [
    "for row in a:\n",
    "    for cell in row:\n",
    "     print(cell)"
   ]
  },
  {
   "cell_type": "code",
   "execution_count": 104,
   "id": "d06a4c1a-6bbe-45f0-9cd6-7409645ec16a",
   "metadata": {},
   "outputs": [
    {
     "name": "stdout",
     "output_type": "stream",
     "text": [
      "2\n",
      "4\n",
      "7\n",
      "4\n",
      "1\n",
      "4\n",
      "5\n",
      "6\n",
      "1\n"
     ]
    }
   ],
   "source": [
    "for x in np.nditer(a,order='f'):\n",
    " print(x)"
   ]
  },
  {
   "cell_type": "code",
   "execution_count": 70,
   "id": "adf94c87-2c7d-433f-ad48-d5604bcf1efc",
   "metadata": {},
   "outputs": [
    {
     "data": {
      "text/plain": [
       "array([[1, 2, 3],\n",
       "       [4, 5, 6]])"
      ]
     },
     "execution_count": 70,
     "metadata": {},
     "output_type": "execute_result"
    }
   ],
   "source": [
    "a=np.arange(1,7).reshape(2,3)\n",
    "a"
   ]
  },
  {
   "cell_type": "code",
   "execution_count": 72,
   "id": "e3ec6430-263b-4323-8541-f90795969990",
   "metadata": {},
   "outputs": [
    {
     "data": {
      "text/plain": [
       "array([[ 6,  7,  8],\n",
       "       [ 9, 10, 11]])"
      ]
     },
     "execution_count": 72,
     "metadata": {},
     "output_type": "execute_result"
    }
   ],
   "source": [
    "b=np.arange(6,12).reshape(2,3)\n",
    "b"
   ]
  },
  {
   "cell_type": "code",
   "execution_count": 76,
   "id": "65585dd9-677a-430c-9afc-ffd295e7a3a3",
   "metadata": {},
   "outputs": [
    {
     "data": {
      "text/plain": [
       "array([[ 1,  2,  3],\n",
       "       [ 4,  5,  6],\n",
       "       [ 6,  7,  8],\n",
       "       [ 9, 10, 11]])"
      ]
     },
     "execution_count": 76,
     "metadata": {},
     "output_type": "execute_result"
    }
   ],
   "source": [
    "np.vstack((a,b))####stack"
   ]
  },
  {
   "cell_type": "code",
   "execution_count": 80,
   "id": "78774aac-99e8-4afd-9786-a02c4289ac57",
   "metadata": {},
   "outputs": [
    {
     "data": {
      "text/plain": [
       "array([[ 1,  2,  3,  6,  7,  8],\n",
       "       [ 4,  5,  6,  9, 10, 11]])"
      ]
     },
     "execution_count": 80,
     "metadata": {},
     "output_type": "execute_result"
    }
   ],
   "source": [
    "np.hstack((a,b))"
   ]
  },
  {
   "cell_type": "code",
   "execution_count": null,
   "id": "8d818716-0c23-4a3f-84fc-f29bb53ba4d4",
   "metadata": {},
   "outputs": [],
   "source": []
  },
  {
   "cell_type": "code",
   "execution_count": null,
   "id": "66a06aa1-f8a0-4a88-9ecc-512491874138",
   "metadata": {},
   "outputs": [],
   "source": []
  },
  {
   "cell_type": "code",
   "execution_count": null,
   "id": "69189b90-328d-4272-821c-8a9b657c868e",
   "metadata": {},
   "outputs": [],
   "source": []
  }
 ],
 "metadata": {
  "kernelspec": {
   "display_name": "Python 3 (ipykernel)",
   "language": "python",
   "name": "python3"
  },
  "language_info": {
   "codemirror_mode": {
    "name": "ipython",
    "version": 3
   },
   "file_extension": ".py",
   "mimetype": "text/x-python",
   "name": "python",
   "nbconvert_exporter": "python",
   "pygments_lexer": "ipython3",
   "version": "3.11.7"
  }
 },
 "nbformat": 4,
 "nbformat_minor": 5
}
